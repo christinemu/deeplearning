{
 "cells": [
  {
   "cell_type": "code",
   "execution_count": 2,
   "metadata": {
    "execution": {
     "iopub.execute_input": "2022-07-31T02:43:47.945441Z",
     "iopub.status.busy": "2022-07-31T02:43:47.945188Z",
     "iopub.status.idle": "2022-07-31T02:43:48.038213Z",
     "shell.execute_reply": "2022-07-31T02:43:48.037510Z"
    },
    "init_cell": true,
    "origin_pos": 4,
    "slideshow": {
     "slide_type": "notes"
    },
    "tab": [
     "pytorch"
    ]
   },
   "outputs": [],
   "source": [
    "from IPython import display\n",
    "import numpy as np\n",
    "import torch\n",
    "import torchvision\n",
    "from torch.utils import data\n",
    "from torchvision import transforms\n",
    "import matplotlib.pyplot as plt\n",
    "from IPython.core.interactiveshell import InteractiveShell\n",
    "InteractiveShell.ast_node_interactivity = \"all\"\n",
    "\n",
    "batch_size = 256\n",
    "# train_iter, test_iter = d2l.load_data_fashion_mnist(batch_size)"
   ]
  },
  {
   "cell_type": "markdown",
   "metadata": {
    "slideshow": {
     "slide_type": "slide"
    }
   },
   "source": [
    "# softmax回归的从零开始实现\n",
    "\n",
    "就像从零开始实现线性回归一样，\n",
    "实现softmax回归的细节"
   ]
  },
  {
   "cell_type": "markdown",
   "metadata": {
    "slideshow": {
     "slide_type": "slide"
    }
   },
   "source": [
    "## softmax回归基础"
   ]
  },
  {
   "cell_type": "markdown",
   "metadata": {
    "slideshow": {
     "slide_type": "fragment"
    }
   },
   "source": [
    "\\begin{example}\\label{example:imageClass}\n",
    "图像分类问题：假设每次输入是一个$2\\times2$的灰度图像。\n",
    "\\begin{itemize}\n",
    "    \\item 可以用一个标量表示每个像素值，每个图像对应四个特征$x_1, x_2, x_3, x_4$。\n",
    "    \\item 假设每个图像属于类别“猫”、“鸡”和“狗”中的一个\n",
    "\\end{itemize}\n",
    "\\end{example}"
   ]
  },
  {
   "cell_type": "markdown",
   "metadata": {
    "slideshow": {
     "slide_type": "fragment"
    }
   },
   "source": [
    "\\begin{problem}\\label{prob:multioutputLabel}\n",
    "如何表示类别标签？\n",
    "\\end{problem}\n"
   ]
  },
  {
   "cell_type": "markdown",
   "metadata": {
    "slideshow": {
     "slide_type": "fragment"
    }
   },
   "source": [
    "\\begin{definition}\\label{def:onehot}\n",
    "**独热编码**（one-hot encoding）：是一个向量，它的分量和类别一样多；\n",
    "**类别对应的分量设置为1**，其他所有分量设置为0。\n",
    "\\end{definition}\n"
   ]
  },
  {
   "cell_type": "markdown",
   "metadata": {
    "slideshow": {
     "slide_type": "fragment"
    }
   },
   "source": [
    "在Example \\ref{example:imageClass}中，标签$y$将是一个三维向量：\n",
    "- $(1, 0, 0)$对应于“猫”\n",
    "- $(0, 1, 0)$对应于“鸡”\n",
    "- $(0, 0, 1)$对应于“狗”\n",
    "\n",
    "$$y \\in \\left\\{(1, 0, 0), (0, 1, 0), (0, 0, 1)\\right\\}$$"
   ]
  },
  {
   "cell_type": "markdown",
   "metadata": {
    "slideshow": {
     "slide_type": "slide"
    }
   },
   "source": [
    "### 网络架构"
   ]
  },
  {
   "cell_type": "markdown",
   "metadata": {
    "slideshow": {
     "slide_type": "fragment"
    }
   },
   "source": [
    "- 需要一个有多个输出的模型，每个类别对应一个输出"
   ]
  },
  {
   "cell_type": "markdown",
   "metadata": {
    "slideshow": {
     "slide_type": "fragment"
    }
   },
   "source": [
    "<center><img src=\"../img/3_linear_network/softmaxreg.svg\" width=80%></center>"
   ]
  },
  {
   "cell_type": "markdown",
   "metadata": {
    "slideshow": {
     "slide_type": "fragment"
    }
   },
   "source": [
    "$$\n",
    "\\begin{aligned}\n",
    "o_1 &= x_1 w_{11} + x_2 w_{12} + x_3 w_{13} + x_4 w_{14} + b_1,\\\\\n",
    "o_2 &= x_1 w_{21} + x_2 w_{22} + x_3 w_{23} + x_4 w_{24} + b_2,\\\\\n",
    "o_3 &= x_1 w_{31} + x_2 w_{32} + x_3 w_{33} + x_4 w_{34} + b_3.\n",
    "\\end{aligned}\n",
    "$$"
   ]
  },
  {
   "cell_type": "markdown",
   "metadata": {
    "slideshow": {
     "slide_type": "fragment"
    }
   },
   "source": [
    "用矩阵形式表达\n",
    "\n",
    "$$\n",
    "\\boldsymbol{o} = \\mathbf{W} \\boldsymbol{x} + \\boldsymbol{b}\n",
    "\\label{eq:multioutputLinear}\n",
    "$$\n"
   ]
  },
  {
   "cell_type": "markdown",
   "metadata": {
    "slideshow": {
     "slide_type": "fragment"
    }
   },
   "source": [
    "- softmax回归也是一个**单层神经网络**\n",
    "- softmax回归的输出层也是**全连接层**"
   ]
  },
  {
   "cell_type": "markdown",
   "metadata": {
    "slideshow": {
     "slide_type": "slide"
    }
   },
   "source": [
    "### softmax运算"
   ]
  },
  {
   "cell_type": "markdown",
   "metadata": {
    "slideshow": {
     "slide_type": "fragment"
    }
   },
   "source": [
    "- 希望模型的输出$\\hat{y}_j$可以视为属于类$j$的概率，然后选择具有最大输出值的类别$\\operatorname*{argmax}_j y_j$作为预测结果\n",
    "    - 例，如果$\\hat{y}_1$、$\\hat{y}_2$和$\\hat{y}_3$分别为0.1、0.8和0.1，则预测的类别是2"
   ]
  },
  {
   "cell_type": "markdown",
   "metadata": {
    "slideshow": {
     "slide_type": "fragment"
    }
   },
   "source": [
    "\\begin{problem}\\label{prob:linearProb}\n",
    "式\\eqref{eq:multioutputLinear}的结果作为概率是否可以？\n",
    "\\end{problem}\n"
   ]
  },
  {
   "cell_type": "markdown",
   "metadata": {
    "slideshow": {
     "slide_type": "fragment"
    }
   },
   "source": [
    "\\begin{definition}\\label{def:calibration}\n",
    "**校准**（calibration）：一个训练的目标函数，来激励模型精准地估计概率\n",
    "\\end{definition}\n"
   ]
  },
  {
   "cell_type": "markdown",
   "metadata": {
    "slideshow": {
     "slide_type": "slide"
    }
   },
   "source": [
    "- **softmax**函数能够将未规范化的预测变换为**非负数并且总和为1**，同时让模型保持**可导**的性质"
   ]
  },
  {
   "cell_type": "markdown",
   "metadata": {
    "slideshow": {
     "slide_type": "fragment"
    }
   },
   "source": [
    "$$\n",
    "\\hat{\\boldsymbol{y}} = \\mathrm{softmax}(\\boldsymbol{o})\\quad\\quad \\text{其中}\\quad \\hat{y}_j = \\frac{\\exp(o_j)}{\\sum_k \\exp(o_k)}\n",
    "\\label{eq:softmaxEquation}\n",
    "$$\n",
    "\n",
    "对于所有的$j$总有$0 \\leq \\hat{y}_j \\leq 1$"
   ]
  },
  {
   "cell_type": "markdown",
   "metadata": {
    "slideshow": {
     "slide_type": "skip"
    }
   },
   "source": [
    "社会科学家邓肯·卢斯于1959年的离散选择模型（choice model）"
   ]
  },
  {
   "cell_type": "markdown",
   "metadata": {
    "slideshow": {
     "slide_type": "fragment"
    }
   },
   "source": [
    "- softmax运算不会改变未规范化的预测$\\boldsymbol{o}$之间的大小次序，只会确定分配给每个类别的概率"
   ]
  },
  {
   "cell_type": "markdown",
   "metadata": {
    "slideshow": {
     "slide_type": "fragment"
    }
   },
   "source": [
    "$$\n",
    "\\operatorname*{argmax}_j \\hat y_j = \\operatorname*{argmax}_j o_j\n",
    "$$"
   ]
  },
  {
   "cell_type": "markdown",
   "metadata": {
    "slideshow": {
     "slide_type": "slide"
    }
   },
   "source": [
    "### 损失函数"
   ]
  },
  {
   "cell_type": "markdown",
   "metadata": {
    "slideshow": {
     "slide_type": "fragment"
    }
   },
   "source": [
    "- 假设整个数据集$\\{\\mathbf{X}, \\mathbf{Y}\\}$具有$n$个样本，\n",
    "    - 其中索引$i$的样本由特征向量$\\boldsymbol{x}^{(i)}$和独热标签向量$\\boldsymbol{y}^{(i)}$组成"
   ]
  },
  {
   "cell_type": "markdown",
   "metadata": {
    "slideshow": {
     "slide_type": "fragment"
    }
   },
   "source": [
    "- softmax函数给出的向量$\\hat{\\boldsymbol{y}}$可以视为“对给定任意输入$\\boldsymbol{x}$的每个类的条件概率”"
   ]
  },
  {
   "cell_type": "markdown",
   "metadata": {
    "slideshow": {
     "slide_type": "fragment"
    }
   },
   "source": [
    "$$\n",
    "P(\\mathbf{Y} \\mid \\mathbf{X}) = \\prod_{i=1}^n P(\\boldsymbol{y}^{(i)} \\mid \\boldsymbol{x}^{(i)}).\n",
    "$$\n",
    "\n",
    "其中，$\\mathbf{Y}\\in\\mathbb{R}^{n\\times q}$，$\\mathbf{X}\\in\\mathbb{R}^{n\\times d}$，表示数据集有$n$个样本，有$d$个特征，$q$个类别"
   ]
  },
  {
   "cell_type": "markdown",
   "metadata": {
    "slideshow": {
     "slide_type": "fragment"
    }
   },
   "source": [
    "根据最大似然估计，**最大化**$P(\\mathbf{Y} \\mid \\mathbf{X})$，相当于**最小化负对数似然**\n",
    "\n",
    "$$\n",
    "-\\log P(\\mathbf{Y} \\mid \\mathbf{X}) = \\sum_{i=1}^n -\\log P(\\boldsymbol{y}^{(i)} \\mid \\boldsymbol{x}^{(i)})\n",
    "= \\sum_{i=1}^n l(\\boldsymbol{y}^{(i)}, \\hat{\\boldsymbol{y}}^{(i)}),\n",
    "$$"
   ]
  },
  {
   "cell_type": "markdown",
   "metadata": {
    "slideshow": {
     "slide_type": "fragment"
    }
   },
   "source": [
    "对于任何标签$\\boldsymbol{y}$和模型预测$\\hat{\\boldsymbol{y}}$，损失函数为\n",
    "\n",
    "$$ l(\\boldsymbol{y}, \\hat{\\boldsymbol{y}}) = - \\sum_{j=1}^q y_j \\log \\hat{y}_j\n",
    "\\label{eq:crossEntropyLoss}\n",
    "$$"
   ]
  },
  {
   "cell_type": "markdown",
   "metadata": {
    "slideshow": {
     "slide_type": "fragment"
    }
   },
   "source": [
    "\\begin{definition}\\label{def:crossEntropyLoss}\n",
    "**交叉熵损失**（cross-entropy loss）：式\\eqref{eq:crossEntropyLoss}定义的损失函数\n",
    "\\end{definition}\n"
   ]
  },
  {
   "cell_type": "markdown",
   "metadata": {
    "slideshow": {
     "slide_type": "subslide"
    }
   },
   "source": [
    "- 交叉熵表示对于真实的概率分布$P$，用概率分布$Q$近似的时候带来的预期惊异程度\n",
    "- 符号表示为$H(P,Q)$：从$P$到$Q$的交叉熵"
   ]
  },
  {
   "cell_type": "markdown",
   "metadata": {
    "slideshow": {
     "slide_type": "fragment"
    }
   },
   "source": [
    "$$\n",
    "H(P,Q)=-\\sum_{x}P(x)\\log Q(x)\n",
    "$$"
   ]
  },
  {
   "cell_type": "markdown",
   "metadata": {
    "slideshow": {
     "slide_type": "fragment"
    }
   },
   "source": [
    "- 当$P=Q$时，交叉熵最小"
   ]
  },
  {
   "cell_type": "markdown",
   "metadata": {
    "slideshow": {
     "slide_type": "slide"
    }
   },
   "source": [
    "### Softmax导数"
   ]
  },
  {
   "cell_type": "markdown",
   "metadata": {
    "slideshow": {
     "slide_type": "fragment"
    }
   },
   "source": [
    "- 根据softmax的定义可以得到：\n",
    "\n",
    "$$\n",
    "\\begin{aligned}\n",
    "l(\\mathbf{y}, \\hat{\\mathbf{y}}) &=  - \\sum_{j=1}^q y_j \\log \\frac{\\exp(o_j)}{\\sum_{k=1}^q \\exp(o_k)} \\\\\n",
    "&= \\sum_{j=1}^q y_j \\log \\sum_{k=1}^q \\exp(o_k) - \\sum_{j=1}^q y_j o_j\\\\\n",
    "&= \\log \\sum_{k=1}^q \\exp(o_k) - \\sum_{j=1}^q y_j o_j.\n",
    "\\end{aligned}\n",
    "$$"
   ]
  },
  {
   "cell_type": "markdown",
   "metadata": {
    "slideshow": {
     "slide_type": "fragment"
    }
   },
   "source": [
    "- 对预测$o_j$的导数为\n",
    "\n",
    "$$\n",
    "\\begin{split}\n",
    "\\frac{\\partial l(\\mathbf{y}, \\hat{\\mathbf{y}})}{\\partial o_j} &= \\frac{\\exp(o_j)}{\\sum_{k=1}^q \\exp(o_k)} - y_j = \\mathrm{softmax}(\\mathbf{o})_j - y_j\\\\\n",
    "&= \\hat{y}_j-y_j.\n",
    "\\end{split}\n",
    "$$"
   ]
  },
  {
   "cell_type": "markdown",
   "metadata": {
    "slideshow": {
     "slide_type": "fragment"
    }
   },
   "source": [
    "- softmax的导数为softmax分配的概率与实际发生的情况（由独热标签向量表示）之间的差异"
   ]
  },
  {
   "cell_type": "markdown",
   "metadata": {
    "slideshow": {
     "slide_type": "slide"
    }
   },
   "source": [
    "## 获取训练集和检验集数据"
   ]
  },
  {
   "cell_type": "markdown",
   "metadata": {
    "slideshow": {
     "slide_type": "fragment"
    }
   },
   "source": [
    "- 使用类似MNIST（Mixed National Institute of Standards and Technology）数据集但更复杂的Fashion-MNIST数据集"
   ]
  },
  {
   "cell_type": "markdown",
   "metadata": {
    "slideshow": {
     "slide_type": "fragment"
    }
   },
   "source": [
    "<center><img src=\"../img/3_linear_network/mnist.png\" width=80%></center>"
   ]
  },
  {
   "cell_type": "markdown",
   "metadata": {
    "slideshow": {
     "slide_type": "slide"
    }
   },
   "source": [
    "- Fashion-MNIST由10个类别的图像组成\n",
    "    - 每个类别由训练数据集（train dataset）中的6000张图像和测试数据集（test dataset）中的1000张图像组成"
   ]
  },
  {
   "cell_type": "markdown",
   "metadata": {
    "slideshow": {
     "slide_type": "fragment"
    }
   },
   "source": [
    "- Fashion-MNIST中包含的10个类别，分别为t-shirt（T恤）、trouser（裤子）、pullover（套衫）、dress（连衣裙）、coat（外套）、sandal（凉鞋）、shirt（衬衫）、sneaker（运动鞋）、bag（包）和ankle boot（短靴）"
   ]
  },
  {
   "cell_type": "markdown",
   "metadata": {
    "slideshow": {
     "slide_type": "fragment"
    }
   },
   "source": [
    "<center><img src=\"../img/3_linear_network/FashionMnist.png\" width=80%></center> "
   ]
  },
  {
   "cell_type": "markdown",
   "metadata": {
    "slideshow": {
     "slide_type": "fragment"
    }
   },
   "source": [
    "- 每个输入图像的高度和宽度均为28像素。 数据集由灰度图像组成，其通道数为1"
   ]
  },
  {
   "cell_type": "markdown",
   "metadata": {
    "slideshow": {
     "slide_type": "slide"
    }
   },
   "source": [
    "### 读取Fashion-MNIST数据集"
   ]
  },
  {
   "cell_type": "markdown",
   "metadata": {
    "slideshow": {
     "slide_type": "fragment"
    }
   },
   "source": [
    " ```python\n",
    "import torch\n",
    "import torchvision\n",
    "from torch.utils import data\n",
    "from torchvision import transforms\n",
    "```"
   ]
  },
  {
   "cell_type": "code",
   "execution_count": 3,
   "metadata": {
    "slideshow": {
     "slide_type": "fragment"
    }
   },
   "outputs": [],
   "source": [
    "trans = transforms.ToTensor() # 将图像数据从PIL类型变换成32位浮点数格式；不然的话，数据类型是PIL.Image.Image\n",
    "mnist_train = torchvision.datasets.FashionMNIST(\n",
    "    root=\"../data\", train=True, transform=trans, download=False)    # 创建训练集\n",
    "mnist_test = torchvision.datasets.FashionMNIST(\n",
    "    root=\"../data\", train=False, transform=trans, download=False)   # 创建检验集"
   ]
  },
  {
   "cell_type": "markdown",
   "metadata": {
    "slideshow": {
     "slide_type": "subslide"
    }
   },
   "source": [
    "- ```python\n",
    "torchvision.datasets.FashionMNIST(root: str, train: bool = True, transform: Optional[Callable] = None, download: bool = False)\n",
    "```\n",
    "    - `root`：存储数据的根目录，`str`类型\n",
    "    - `train`：是否创建训练集，`bool`类型\n",
    "    - `transform`：将PIL图像转变为的函数\n",
    "    - `download`：是否从网络上下载数据，`bool`类型"
   ]
  },
  {
   "cell_type": "markdown",
   "metadata": {
    "slideshow": {
     "slide_type": "subslide"
    }
   },
   "source": [
    "- PIL (Python Image Library)：`Python`的第三方图像处理库\n",
    "    - 处理栅格图像（*raster image*）"
   ]
  },
  {
   "cell_type": "markdown",
   "metadata": {
    "slideshow": {
     "slide_type": "fragment"
    }
   },
   "source": [
    "- 栅格图，也被称为位图（bitmap）、点阵图、像素图，是一个存储像素值的二维数组"
   ]
  },
  {
   "cell_type": "markdown",
   "metadata": {
    "slideshow": {
     "slide_type": "fragment"
    }
   },
   "source": [
    "<center><img src=\"../img/3_linear_network/raster.jpg\" width=80%></center>"
   ]
  },
  {
   "cell_type": "markdown",
   "metadata": {
    "slideshow": {
     "slide_type": "slide"
    }
   },
   "source": [
    "- 像素（pixel, picture element的缩写），构成栅格图的基本元素"
   ]
  },
  {
   "cell_type": "markdown",
   "metadata": {
    "slideshow": {
     "slide_type": "fragment"
    }
   },
   "source": [
    "- 图像的深度（depth）：一个像素包含的信息量（多少个bit）\n",
    "    - 1bit，黑白图像\n",
    "    - 8bit，灰度图像，取值范围0$\\sim 2^8-1$"
   ]
  },
  {
   "cell_type": "markdown",
   "metadata": {
    "slideshow": {
     "slide_type": "fragment"
    }
   },
   "source": [
    "- 图像的分辨率（resolution）：一个图像包含的像素数量，通常表示为**长包含的像素数量$\\times$宽包含的像素数量**"
   ]
  },
  {
   "cell_type": "markdown",
   "metadata": {
    "slideshow": {
     "slide_type": "fragment"
    }
   },
   "source": [
    "- 图像的通道（channel）：图像所包含的一种主要颜色的灰度图像。在该通道上的像素值表示这种颜色的强度\n",
    "    - 例如用RGB表示的颜色，表明该图像有三通道，分别对应Red、Green、Blue三种颜色"
   ]
  },
  {
   "cell_type": "code",
   "execution_count": 4,
   "metadata": {
    "slideshow": {
     "slide_type": "slide"
    }
   },
   "outputs": [
    {
     "data": {
      "text/plain": [
       "'训练集的长度 60000, 检验集的长度 10000'"
      ]
     },
     "execution_count": 4,
     "metadata": {},
     "output_type": "execute_result"
    },
    {
     "data": {
      "text/plain": [
       "'每个图像的形状 torch.Size([1, 28, 28])'"
      ]
     },
     "execution_count": 4,
     "metadata": {},
     "output_type": "execute_result"
    }
   ],
   "source": [
    "f'训练集的长度 {len(mnist_train)}, 检验集的长度 {len(mnist_test)}'\n",
    "f'每个图像的形状 {mnist_train[0][0].shape}'"
   ]
  },
  {
   "cell_type": "code",
   "execution_count": 5,
   "metadata": {
    "slideshow": {
     "slide_type": "fragment"
    }
   },
   "outputs": [
    {
     "data": {
      "text/plain": [
       "(tensor([[[0.0000, 0.0000, 0.0000, 0.0000, 0.0000, 0.0000, 0.0000, 0.0000,\n",
       "           0.0000, 0.0000, 0.0000, 0.0000, 0.0000, 0.0000, 0.0000, 0.0000,\n",
       "           0.0000, 0.0000, 0.0000, 0.0039, 0.0000, 0.0000, 0.0000, 0.0000,\n",
       "           0.0000, 0.0000, 0.0000, 0.0000],\n",
       "          [0.0000, 0.0000, 0.0000, 0.0000, 0.0000, 0.0000, 0.0000, 0.0000,\n",
       "           0.0000, 0.0000, 0.0000, 0.1725, 0.4980, 0.7137, 0.7255, 0.6314,\n",
       "           0.4706, 0.2157, 0.0000, 0.0000, 0.0000, 0.0000, 0.0000, 0.0000,\n",
       "           0.0000, 0.0000, 0.0000, 0.0000],\n",
       "          [0.0000, 0.0000, 0.0000, 0.0000, 0.0000, 0.0000, 0.0000, 0.0000,\n",
       "           0.0000, 0.1647, 0.7765, 0.9843, 1.0000, 0.9843, 0.9765, 0.9686,\n",
       "           1.0000, 0.9882, 0.8392, 0.3922, 0.0000, 0.0000, 0.0000, 0.0000,\n",
       "           0.0000, 0.0000, 0.0000, 0.0000],\n",
       "          [0.0000, 0.0000, 0.0000, 0.0000, 0.0000, 0.0000, 0.0078, 0.0000,\n",
       "           0.0000, 0.9137, 0.9882, 0.9294, 0.9373, 0.9176, 0.9294, 0.9216,\n",
       "           0.9294, 0.9294, 0.9961, 0.8902, 0.0000, 0.0000, 0.0000, 0.0000,\n",
       "           0.0039, 0.0000, 0.0000, 0.0000],\n",
       "          [0.0000, 0.0000, 0.0000, 0.0000, 0.0000, 0.0078, 0.0000, 0.0000,\n",
       "           0.0627, 0.8235, 0.8824, 0.8431, 0.6863, 0.8510, 0.8471, 0.7569,\n",
       "           0.7686, 0.8863, 0.8667, 0.8196, 0.1961, 0.0000, 0.0000, 0.0078,\n",
       "           0.0000, 0.0000, 0.0000, 0.0000],\n",
       "          [0.0000, 0.0000, 0.0000, 0.0000, 0.0078, 0.0000, 0.0000, 0.7804,\n",
       "           0.8980, 0.9098, 0.9020, 0.9608, 0.8000, 0.8588, 0.9922, 0.9608,\n",
       "           0.8118, 0.7608, 0.8745, 0.9059, 0.9255, 0.9216, 0.0000, 0.0000,\n",
       "           0.0118, 0.0000, 0.0000, 0.0000],\n",
       "          [0.0000, 0.0000, 0.0000, 0.0000, 0.0039, 0.0000, 0.5373, 0.9216,\n",
       "           0.8000, 0.8196, 0.7882, 0.8196, 0.9176, 0.7451, 0.9176, 0.8549,\n",
       "           0.8431, 0.9333, 0.9373, 0.8000, 0.7412, 0.8784, 0.6039, 0.0000,\n",
       "           0.0000, 0.0000, 0.0000, 0.0000],\n",
       "          [0.0000, 0.0000, 0.0000, 0.0000, 0.0000, 0.0000, 0.7608, 0.7882,\n",
       "           0.7843, 0.8196, 0.7922, 0.7569, 0.8039, 0.7608, 0.7176, 0.8549,\n",
       "           0.9059, 0.7725, 0.6745, 0.7098, 0.7569, 0.8039, 0.7804, 0.0000,\n",
       "           0.0000, 0.0000, 0.0000, 0.0000],\n",
       "          [0.0000, 0.0000, 0.0000, 0.0000, 0.0000, 0.0118, 0.8314, 0.7961,\n",
       "           0.7373, 0.7412, 0.7686, 0.7765, 0.7765, 0.7882, 0.7686, 0.8510,\n",
       "           0.7020, 0.6549, 0.7176, 0.8510, 0.7725, 0.7922, 0.8588, 0.1176,\n",
       "           0.0000, 0.0000, 0.0000, 0.0000],\n",
       "          [0.0000, 0.0000, 0.0000, 0.0000, 0.0000, 0.1333, 0.8824, 0.7843,\n",
       "           0.7608, 0.7451, 0.7373, 0.7529, 0.7686, 0.7529, 0.6667, 0.7922,\n",
       "           0.7451, 0.7882, 0.7647, 0.7843, 0.7882, 0.8196, 0.8902, 0.1961,\n",
       "           0.0000, 0.0000, 0.0000, 0.0000],\n",
       "          [0.0000, 0.0000, 0.0000, 0.0000, 0.0000, 0.2667, 0.8824, 0.8235,\n",
       "           0.8275, 0.7765, 0.7529, 0.7686, 0.8000, 0.7686, 0.7098, 0.8314,\n",
       "           0.7725, 0.7647, 0.7529, 0.8078, 0.8627, 0.8235, 0.8980, 0.3647,\n",
       "           0.0000, 0.0000, 0.0000, 0.0000],\n",
       "          [0.0000, 0.0000, 0.0000, 0.0000, 0.0000, 0.4353, 0.8745, 0.8902,\n",
       "           0.9922, 0.8196, 0.7686, 0.8000, 0.8275, 0.8078, 0.7176, 0.8471,\n",
       "           0.8078, 0.8235, 0.7961, 0.8431, 0.9569, 0.8784, 0.8902, 0.5882,\n",
       "           0.0000, 0.0000, 0.0000, 0.0000],\n",
       "          [0.0000, 0.0000, 0.0000, 0.0000, 0.0000, 0.5451, 0.8824, 0.8784,\n",
       "           1.0000, 0.7922, 0.8078, 0.8314, 0.8196, 0.8275, 0.7451, 0.8353,\n",
       "           0.7922, 0.8118, 0.8078, 0.8706, 1.0000, 0.9020, 0.8627, 0.7451,\n",
       "           0.0000, 0.0000, 0.0000, 0.0000],\n",
       "          [0.0000, 0.0000, 0.0000, 0.0000, 0.0000, 0.7059, 0.8863, 0.8784,\n",
       "           1.0000, 0.7804, 0.8000, 0.8118, 0.8392, 0.8392, 0.7451, 0.8471,\n",
       "           0.8078, 0.7961, 0.8039, 0.8588, 0.9529, 0.8784, 0.8392, 0.9176,\n",
       "           0.0000, 0.0000, 0.0000, 0.0000],\n",
       "          [0.0000, 0.0000, 0.0000, 0.0000, 0.0000, 0.8824, 0.8745, 0.8941,\n",
       "           0.9961, 0.8196, 0.8078, 0.8157, 0.8353, 0.8235, 0.7490, 0.8431,\n",
       "           0.8118, 0.8000, 0.8157, 0.8275, 0.9765, 0.8863, 0.8392, 1.0000,\n",
       "           0.1490, 0.0000, 0.0000, 0.0000],\n",
       "          [0.0000, 0.0000, 0.0000, 0.0000, 0.0000, 0.9804, 0.9098, 0.9412,\n",
       "           0.9373, 0.8275, 0.7961, 0.8196, 0.8039, 0.8275, 0.7725, 0.8431,\n",
       "           0.8157, 0.8157, 0.8392, 0.8353, 0.9373, 0.9059, 0.8588, 1.0000,\n",
       "           0.3176, 0.0000, 0.0000, 0.0000],\n",
       "          [0.0000, 0.0000, 0.0000, 0.0000, 0.0000, 0.9725, 0.9255, 0.9686,\n",
       "           0.9412, 0.7961, 0.7843, 0.8157, 0.8078, 0.8392, 0.7569, 0.8353,\n",
       "           0.8314, 0.8157, 0.8314, 0.8275, 0.9529, 0.9490, 0.8824, 0.9961,\n",
       "           0.2588, 0.0000, 0.0000, 0.0000],\n",
       "          [0.0000, 0.0000, 0.0000, 0.0000, 0.0000, 0.9686, 0.9020, 0.9882,\n",
       "           0.8863, 0.7804, 0.8275, 0.7922, 0.8275, 0.8353, 0.7137, 0.8353,\n",
       "           0.8314, 0.8078, 0.7922, 0.8588, 0.8118, 0.9686, 0.8706, 0.9294,\n",
       "           0.4078, 0.0000, 0.0000, 0.0000],\n",
       "          [0.0000, 0.0000, 0.0000, 0.0000, 0.0392, 0.9569, 0.8588, 0.9804,\n",
       "           0.8039, 0.7804, 0.8196, 0.7922, 0.8196, 0.8275, 0.7412, 0.8392,\n",
       "           0.8078, 0.8235, 0.7843, 0.8314, 0.6039, 0.9412, 0.8157, 0.8588,\n",
       "           0.5490, 0.0000, 0.0000, 0.0000],\n",
       "          [0.0000, 0.0000, 0.0000, 0.0000, 0.0824, 1.0000, 0.8706, 0.9333,\n",
       "           0.7216, 0.8235, 0.7529, 0.8078, 0.8196, 0.8235, 0.7412, 0.8353,\n",
       "           0.8275, 0.8196, 0.7529, 0.8941, 0.6078, 0.8863, 0.9333, 0.9451,\n",
       "           0.6510, 0.0000, 0.0000, 0.0000],\n",
       "          [0.0000, 0.0000, 0.0000, 0.0000, 0.1451, 0.9608, 0.8863, 0.9451,\n",
       "           0.5882, 0.7725, 0.7412, 0.8000, 0.8196, 0.8235, 0.7176, 0.8353,\n",
       "           0.8353, 0.7882, 0.7216, 0.8431, 0.5725, 0.8471, 0.9255, 0.8824,\n",
       "           0.6039, 0.0000, 0.0000, 0.0000],\n",
       "          [0.0000, 0.0000, 0.0000, 0.0000, 0.2275, 0.9373, 0.8902, 1.0000,\n",
       "           0.6196, 0.7569, 0.7647, 0.8000, 0.8196, 0.8353, 0.7059, 0.8118,\n",
       "           0.8510, 0.7804, 0.7608, 0.8275, 0.6196, 0.8588, 0.9255, 0.8471,\n",
       "           0.5922, 0.0000, 0.0000, 0.0000],\n",
       "          [0.0000, 0.0000, 0.0000, 0.0000, 0.2667, 0.9137, 0.8863, 0.9529,\n",
       "           0.5451, 0.7843, 0.7569, 0.8039, 0.8235, 0.8157, 0.7059, 0.8039,\n",
       "           0.8314, 0.7961, 0.7686, 0.8471, 0.6157, 0.7020, 1.0000, 0.8471,\n",
       "           0.6078, 0.0000, 0.0000, 0.0000],\n",
       "          [0.0000, 0.0000, 0.0000, 0.0000, 0.3176, 0.8824, 0.8784, 0.8275,\n",
       "           0.5412, 0.8588, 0.7255, 0.7882, 0.8353, 0.8118, 0.7725, 0.8863,\n",
       "           0.8314, 0.7843, 0.7451, 0.8431, 0.7176, 0.3529, 1.0000, 0.8275,\n",
       "           0.5765, 0.0000, 0.0000, 0.0000],\n",
       "          [0.0000, 0.0000, 0.0000, 0.0000, 0.3569, 0.8235, 0.9020, 0.6196,\n",
       "           0.4471, 0.8039, 0.7333, 0.8157, 0.8196, 0.8078, 0.7569, 0.8235,\n",
       "           0.8275, 0.8000, 0.7647, 0.8000, 0.7098, 0.0902, 1.0000, 0.8353,\n",
       "           0.6196, 0.0000, 0.0000, 0.0000],\n",
       "          [0.0000, 0.0000, 0.0000, 0.0000, 0.3412, 0.8039, 0.9098, 0.4275,\n",
       "           0.6431, 1.0000, 0.8392, 0.8784, 0.8706, 0.8235, 0.7725, 0.8392,\n",
       "           0.8824, 0.8706, 0.8275, 0.8627, 0.8510, 0.0000, 0.9176, 0.8471,\n",
       "           0.6627, 0.0000, 0.0000, 0.0000],\n",
       "          [0.0000, 0.0000, 0.0000, 0.0000, 0.3608, 0.8353, 0.9098, 0.5725,\n",
       "           0.0196, 0.5255, 0.5922, 0.6353, 0.6667, 0.7176, 0.7137, 0.6431,\n",
       "           0.6510, 0.6980, 0.6353, 0.6118, 0.3843, 0.0000, 0.9412, 0.8824,\n",
       "           0.8235, 0.0000, 0.0000, 0.0000],\n",
       "          [0.0000, 0.0000, 0.0000, 0.0000, 0.1686, 0.6431, 0.8078, 0.5529,\n",
       "           0.0000, 0.0000, 0.0000, 0.0000, 0.0000, 0.0000, 0.0000, 0.0000,\n",
       "           0.0000, 0.0000, 0.0000, 0.0000, 0.0000, 0.0000, 0.4980, 0.4902,\n",
       "           0.2980, 0.0000, 0.0000, 0.0000]]]),\n",
       " 4)"
      ]
     },
     "execution_count": 5,
     "metadata": {},
     "output_type": "execute_result"
    }
   ],
   "source": [
    "mnist_train[5000]  # 是一个tuple，包含2个元素，分别是图像的数据信息和图像的类别标签，标签为0～9的数字"
   ]
  },
  {
   "cell_type": "code",
   "execution_count": 6,
   "metadata": {
    "slideshow": {
     "slide_type": "fragment"
    }
   },
   "outputs": [],
   "source": [
    "def get_fashion_mnist_labels(labels):  \n",
    "    ''' labels是一个标签向量（一系列类型为int的标签），把tensor([9, 0, 0, 3, 0, 2, 7, 2, 5, 5, 0, 9, 5, 5, 7, 9, 1, 0])转换为['t-shirt', 'trouser', 'pullover', 'dress', 'coat',\n",
    "                   'sandal', 'shirt', 'sneaker', 'bag', 'ankle boot']'''\n",
    "    \"\"\"返回Fashion-MNIST数据集的文本标签\"\"\"\n",
    "    text_labels = ['t-shirt', 'trouser', 'pullover', 'dress', 'coat',\n",
    "                   'sandal', 'shirt', 'sneaker', 'bag', 'ankle boot']\n",
    "    return [text_labels[int(i)] for i in labels] "
   ]
  },
  {
   "cell_type": "markdown",
   "metadata": {
    "slideshow": {
     "slide_type": "slide"
    }
   },
   "source": [
    "- 可视化数据集"
   ]
  },
  {
   "cell_type": "code",
   "execution_count": 7,
   "metadata": {
    "slideshow": {
     "slide_type": "fragment"
    }
   },
   "outputs": [],
   "source": [
    "def show_images(imgs, num_rows, num_cols, titles=None, scale=1.5):  \n",
    "    \"\"\"绘制图像列表\"\"\"\n",
    "    figsize = (num_cols * scale, num_rows * scale)\n",
    "    _, axes = plt.subplots(num_rows, num_cols, figsize=figsize) # return figs, axes\n",
    "    axes = axes.flatten()   # 将(num_rows, num_cols)子图平展成(1, num_rows*num_cols)\n",
    "    for i, (ax, img) in enumerate(zip(axes, imgs)):\n",
    "        if torch.is_tensor(img):\n",
    "            ax.imshow(img.numpy())   # 图片张量\n",
    "        else:\n",
    "            ax.imshow(img)           # PIL图片\n",
    "        ax.axes.get_xaxis().set_visible(False)   # 隐藏横坐标\n",
    "        ax.axes.get_yaxis().set_visible(False)   # 隐藏纵坐标\n",
    "        if titles:\n",
    "            ax.set_title(titles[i])  # 给图添加标题\n",
    "    return axes"
   ]
  },
  {
   "cell_type": "markdown",
   "metadata": {
    "slideshow": {
     "slide_type": "subslide"
    }
   },
   "source": [
    "- ```python\n",
    "Axes.imshow(X)\n",
    "```\n",
    "    - `X`：图像数据，可以是`array`，形状为(M,N)，也可以是PIL图像"
   ]
  },
  {
   "cell_type": "code",
   "execution_count": 8,
   "metadata": {
    "slideshow": {
     "slide_type": "slide"
    }
   },
   "outputs": [],
   "source": [
    "X, y = next(iter(data.DataLoader(mnist_train, batch_size=18)))  # 读取图像数据，批量为18"
   ]
  },
  {
   "cell_type": "code",
   "execution_count": 9,
   "metadata": {
    "slideshow": {
     "slide_type": "fragment"
    }
   },
   "outputs": [
    {
     "data": {
      "text/plain": [
       "'X的形状为 torch.Size([18, 1, 28, 28])，y的形状为 torch.Size([18])'"
      ]
     },
     "execution_count": 9,
     "metadata": {},
     "output_type": "execute_result"
    }
   ],
   "source": [
    "f'X的形状为 {X.shape}，y的形状为 {y.shape}'"
   ]
  },
  {
   "cell_type": "code",
   "execution_count": 10,
   "metadata": {
    "scrolled": true,
    "slideshow": {
     "slide_type": "fragment"
    }
   },
   "outputs": [
    {
     "data": {
      "image/png": "[encoded data removed]",
      "text/plain": [
       "<Figure size 972x216 with 18 Axes>"
      ]
     },
     "metadata": {
      "needs_background": "light"
     },
     "output_type": "display_data"
    }
   ],
   "source": [
    "_ = show_images(X.reshape(18, 28, 28), 2, 9, titles=get_fashion_mnist_labels(y))\n",
    "# 显示图片\n",
    "# X.reshape(18,28,28)，改变原来X的形状，符合show_images函数要求"
   ]
  },
  {
   "cell_type": "markdown",
   "metadata": {
    "slideshow": {
     "slide_type": "slide"
    }
   },
   "source": [
    "### 小批量读取"
   ]
  },
  {
   "cell_type": "markdown",
   "metadata": {
    "slideshow": {
     "slide_type": "fragment"
    }
   },
   "source": [
    "- 利用`torch`内置的`DataLoader`函数批量读取数据"
   ]
  },
  {
   "cell_type": "code",
   "execution_count": 11,
   "metadata": {
    "slideshow": {
     "slide_type": "fragment"
    }
   },
   "outputs": [
    {
     "name": "stderr",
     "output_type": "stream",
     "text": [
      "/home/VENV36/lib/python3.6/site-packages/torch/utils/data/dataloader.py:481: UserWarning: This DataLoader will create 4 worker processes in total. Our suggested max number of worker in current system is 2, which is smaller than what this DataLoader is going to create. Please be aware that excessive worker creation might get DataLoader running slow or even freeze, lower the worker number to avoid potential slowness/freeze if necessary.\n",
      "  cpuset_checked))\n"
     ]
    }
   ],
   "source": [
    "batch_size = 256  # 批量大小\n",
    "\n",
    "def get_dataloader_workers():  \n",
    "    \"\"\"使用4个进程来读取数据\"\"\"\n",
    "    return 4\n",
    "\n",
    "train_iter = data.DataLoader(mnist_train, batch_size, shuffle=True,  # mnist_train类型：torchvision.datasets.mnist.FashionMNIST\n",
    "                             num_workers=get_dataloader_workers())"
   ]
  },
  {
   "cell_type": "markdown",
   "metadata": {
    "slideshow": {
     "slide_type": "slide"
    }
   },
   "source": [
    "### 完整的读取Fashion-MNIST数据集的函数"
   ]
  },
  {
   "cell_type": "markdown",
   "metadata": {
    "slideshow": {
     "slide_type": "fragment"
    }
   },
   "source": [
    "- 定义`load_data_fashion_mnist`函数，用于获取和读取Fashion-MNIST数据集：\n",
    "    - 返回训练集和验证集的数据迭代器\n",
    "    - 有一个可选参数resize，可以调整图像大小"
   ]
  },
  {
   "cell_type": "code",
   "execution_count": 12,
   "metadata": {
    "slideshow": {
     "slide_type": "fragment"
    }
   },
   "outputs": [],
   "source": [
    "def load_data_fashion_mnist(batch_size, resize=None):  \n",
    "    \"\"\"下载Fashion-MNIST数据集，然后将其加载到内存中\"\"\"\n",
    "    trans = [transforms.ToTensor()]   # 将图像从PIL类型转换成张量\n",
    "    if resize:\n",
    "        trans.insert(0, transforms.Resize(resize)) # resize是把小图片放大,在0之前插入\n",
    "    trans = transforms.Compose(trans)   # 组合多个transform\n",
    "    mnist_train = torchvision.datasets.FashionMNIST(\n",
    "        root=\"../data\", train=True, transform=trans, download=False)\n",
    "    mnist_test = torchvision.datasets.FashionMNIST(\n",
    "        root=\"../data\", train=False, transform=trans, download=False)\n",
    "    return (data.DataLoader(mnist_train, batch_size, shuffle=True,\n",
    "                            num_workers=get_dataloader_workers()),\n",
    "            data.DataLoader(mnist_test, batch_size, shuffle=False,\n",
    "                            num_workers=get_dataloader_workers()))"
   ]
  },
  {
   "cell_type": "markdown",
   "metadata": {
    "slideshow": {
     "slide_type": "subslide"
    }
   },
   "source": [
    "- ```python\n",
    "torchvision.transforms.Resize(size)\n",
    "```\n",
    "    - 缩放给定的图像\n",
    "    - `size`：序列或者`int`\n",
    "        - 若为序列，指定缩放后的长和宽\n",
    "        - 若为`int`，图像的短边会改变到该数值，长边会被按比例缩放。例如，height>width,图像会被调整为($\\text{size}\\times\\frac{\\text{height}}{\\text{width}}$,size)"
   ]
  },
  {
   "cell_type": "markdown",
   "metadata": {
    "slideshow": {
     "slide_type": "fragment"
    }
   },
   "source": [
    "- ```python\n",
    "torchvision.transforms.Compose(transforms)\n",
    "```\n",
    "    - 组合多个transforms\n",
    "    - `transforms`：`Transform`对象的列表"
   ]
  },
  {
   "cell_type": "code",
   "execution_count": 13,
   "metadata": {
    "slideshow": {
     "slide_type": "slide"
    }
   },
   "outputs": [],
   "source": [
    "train_iter, test_iter = load_data_fashion_mnist(32, resize=64)\n",
    "# 读取数据，批量为32，缩放到64像素"
   ]
  },
  {
   "cell_type": "code",
   "execution_count": 14,
   "metadata": {
    "slideshow": {
     "slide_type": "fragment"
    }
   },
   "outputs": [
    {
     "name": "stdout",
     "output_type": "stream",
     "text": [
      "X的形状 torch.Size([32, 1, 64, 64]), X的数据类型 torch.float32\n",
      " y的形状 torch.Size([32]), y的数据类型 torch.int64\n"
     ]
    }
   ],
   "source": [
    "for X, y in train_iter:\n",
    "    print(f'X的形状 {X.shape}, X的数据类型 {X.dtype}\\n y的形状 {y.shape}, y的数据类型 {y.dtype}')\n",
    "    break"
   ]
  },
  {
   "cell_type": "markdown",
   "metadata": {
    "slideshow": {
     "slide_type": "slide"
    }
   },
   "source": [
    "## 实现softmax函数"
   ]
  },
  {
   "cell_type": "markdown",
   "metadata": {
    "slideshow": {
     "slide_type": "fragment"
    }
   },
   "source": [
    "- 用Fashion-MNIST数据集实现softmax分类算法\n",
    "- 批量设置为256"
   ]
  },
  {
   "cell_type": "code",
   "execution_count": 15,
   "metadata": {
    "slideshow": {
     "slide_type": "fragment"
    }
   },
   "outputs": [],
   "source": [
    "batch_size = 256  # 批量大小\n",
    "train_iter, test_iter = load_data_fashion_mnist(batch_size)   #读取批量数据"
   ]
  },
  {
   "cell_type": "markdown",
   "metadata": {
    "slideshow": {
     "slide_type": "slide"
    }
   },
   "source": [
    "### 初始化模型参数"
   ]
  },
  {
   "cell_type": "markdown",
   "metadata": {
    "slideshow": {
     "slide_type": "fragment"
    }
   },
   "source": [
    "- 每个样本都将用固定长度的向量表示\n",
    "    - 原始数据集中的每个样本都是$28 \\times 28$的图像，在此**将展平每个图像，把它们看作长度为784的向量**"
   ]
  },
  {
   "cell_type": "markdown",
   "metadata": {
    "slideshow": {
     "slide_type": "fragment"
    }
   },
   "source": [
    "- 数据集有10个类别，所以网络输出维度为10\n",
    "- 权重将构成一个$784 \\times 10$的矩阵\n",
    "- 偏置将构成一个$1 \\times 10$的行向量"
   ]
  },
  {
   "cell_type": "code",
   "execution_count": 16,
   "metadata": {
    "slideshow": {
     "slide_type": "fragment"
    }
   },
   "outputs": [],
   "source": [
    "num_inputs = 784 # 1*28*28 = 784\n",
    "num_outputs = 10\n",
    "\n",
    "# 初始化模型参数\n",
    "W = torch.normal(0, 0.01, size=(num_inputs, num_outputs), requires_grad=True)  # 初始化权重，服从正态分布N(0,0.01)\n",
    "b = torch.zeros(num_outputs, requires_grad=True)   # 初始化偏置为0"
   ]
  },
  {
   "cell_type": "markdown",
   "metadata": {
    "slideshow": {
     "slide_type": "slide"
    }
   },
   "source": [
    "### 定义softmax操作"
   ]
  },
  {
   "cell_type": "markdown",
   "metadata": {
    "slideshow": {
     "slide_type": "fragment"
    }
   },
   "source": [
    "- 对每个项指数运算（使用`exp`）；\n",
    "- 对每一行求和（小批量中每个样本是一行），得到每个样本的规范化常数；\n",
    "- 将每一行除以其规范化常数，确保结果的和为1。"
   ]
  },
  {
   "cell_type": "markdown",
   "metadata": {
    "slideshow": {
     "slide_type": "fragment"
    }
   },
   "source": [
    "$$\n",
    "\\mathrm{softmax}(\\mathbf{X})_{ij} = \\frac{\\exp(\\mathbf{X}_{ij})}{\\sum_k \\exp(\\mathbf{X}_{ik})}.\n",
    "$$"
   ]
  },
  {
   "cell_type": "code",
   "execution_count": 17,
   "metadata": {
    "execution": {
     "iopub.execute_input": "2022-07-31T02:43:48.060001Z",
     "iopub.status.busy": "2022-07-31T02:43:48.059778Z",
     "iopub.status.idle": "2022-07-31T02:43:48.063891Z",
     "shell.execute_reply": "2022-07-31T02:43:48.063262Z"
    },
    "origin_pos": 14,
    "slideshow": {
     "slide_type": "fragment"
    },
    "tab": [
     "pytorch"
    ]
   },
   "outputs": [],
   "source": [
    "def softmax(X): # X的行数是样本数，因此每行有10个X_k,转成10个和为1的概率数\n",
    "    X_exp = torch.exp(X)\n",
    "    partition = X_exp.sum(dim=1, keepdim=True)\n",
    "    return X_exp / partition"
   ]
  },
  {
   "cell_type": "markdown",
   "metadata": {
    "slideshow": {
     "slide_type": "subslide"
    }
   },
   "source": [
    "- ```python\n",
    "torch.sum(input,dim,keepdim=False)\n",
    "```\n",
    "    - 给定一个矩阵`input`，可以对所有元素求和\n",
    "    - 也可以只求同一个轴上的元素之和，即同一列（轴0）或同一行（轴1），用参数`dim`设定\n",
    "    - 若按轴求和，求和之后这个轴的元素个数为１，所以对应的维度会被去掉，如果要保留这个维度，则应当`keepdim=True`"
   ]
  },
  {
   "cell_type": "code",
   "execution_count": 18,
   "metadata": {
    "execution": {
     "iopub.execute_input": "2022-07-31T02:43:48.048976Z",
     "iopub.status.busy": "2022-07-31T02:43:48.048601Z",
     "iopub.status.idle": "2022-07-31T02:43:48.056970Z",
     "shell.execute_reply": "2022-07-31T02:43:48.056335Z"
    },
    "origin_pos": 10,
    "scrolled": true,
    "slideshow": {
     "slide_type": "fragment"
    },
    "tab": [
     "pytorch"
    ]
   },
   "outputs": [
    {
     "data": {
      "text/plain": [
       "tensor([[1., 2., 3.],\n",
       "        [4., 5., 6.]])"
      ]
     },
     "execution_count": 18,
     "metadata": {},
     "output_type": "execute_result"
    }
   ],
   "source": [
    "X = torch.tensor([[1.0, 2.0, 3.0], [4.0, 5.0, 6.0]])\n",
    "X"
   ]
  },
  {
   "cell_type": "code",
   "execution_count": 19,
   "metadata": {
    "slideshow": {
     "slide_type": "fragment"
    }
   },
   "outputs": [
    {
     "data": {
      "text/plain": [
       "tensor([[5., 7., 9.]])"
      ]
     },
     "execution_count": 19,
     "metadata": {},
     "output_type": "execute_result"
    },
    {
     "data": {
      "text/plain": [
       "tensor([[ 6.],\n",
       "        [15.]])"
      ]
     },
     "execution_count": 19,
     "metadata": {},
     "output_type": "execute_result"
    }
   ],
   "source": [
    "X.sum(0, keepdim=True) # 按轴求和之后保留维度，keepdim=True\n",
    "X.sum(1, keepdim=True)"
   ]
  },
  {
   "cell_type": "code",
   "execution_count": 20,
   "metadata": {
    "slideshow": {
     "slide_type": "fragment"
    }
   },
   "outputs": [
    {
     "data": {
      "text/plain": [
       "tensor([5., 7., 9.])"
      ]
     },
     "execution_count": 20,
     "metadata": {},
     "output_type": "execute_result"
    },
    {
     "data": {
      "text/plain": [
       "tensor([ 6., 15.])"
      ]
     },
     "execution_count": 20,
     "metadata": {},
     "output_type": "execute_result"
    }
   ],
   "source": [
    "X.sum(0)   # 按轴求和后未保留维度\n",
    "X.sum(1)  "
   ]
  },
  {
   "cell_type": "markdown",
   "metadata": {
    "slideshow": {
     "slide_type": "slide"
    }
   },
   "source": [
    "检验一下定义的softmax函数是否运行正确"
   ]
  },
  {
   "cell_type": "code",
   "execution_count": 21,
   "metadata": {
    "execution": {
     "iopub.execute_input": "2022-07-31T02:43:48.066702Z",
     "iopub.status.busy": "2022-07-31T02:43:48.066485Z",
     "iopub.status.idle": "2022-07-31T02:43:48.072898Z",
     "shell.execute_reply": "2022-07-31T02:43:48.072285Z"
    },
    "origin_pos": 16,
    "tab": [
     "pytorch"
    ]
   },
   "outputs": [
    {
     "data": {
      "text/plain": [
       "tensor([[ 1.2986,  0.8923,  1.0202,  0.1019,  0.1728],\n",
       "        [-1.1082, -1.8321, -0.7797, -1.2621, -0.4108]])"
      ]
     },
     "execution_count": 21,
     "metadata": {},
     "output_type": "execute_result"
    }
   ],
   "source": [
    "X1 = torch.normal(0, 1, (2, 5))  # 生成一个2行5列的服从正态分布N(0,1)的矩阵\n",
    "X1"
   ]
  },
  {
   "cell_type": "code",
   "execution_count": 22,
   "metadata": {},
   "outputs": [
    {
     "name": "stdout",
     "output_type": "stream",
     "text": [
      "X1每个元素对应的概率为\n",
      "tensor([[0.3279, 0.2184, 0.2482, 0.0991, 0.1064],\n",
      "        [0.1742, 0.0845, 0.2420, 0.1494, 0.3499]])\n",
      " X1每行求和tensor([1.0000, 1.0000])\n"
     ]
    }
   ],
   "source": [
    "X1_prob = softmax(X1)\n",
    "print(f'X1每个元素对应的概率为\\n{X1_prob}\\n X1每行求和{X1_prob.sum(1)}')"
   ]
  },
  {
   "cell_type": "markdown",
   "metadata": {
    "slideshow": {
     "slide_type": "slide"
    }
   },
   "source": [
    "### 建立softmax回归模型"
   ]
  },
  {
   "cell_type": "code",
   "execution_count": 23,
   "metadata": {
    "execution": {
     "iopub.execute_input": "2022-07-31T02:43:48.075677Z",
     "iopub.status.busy": "2022-07-31T02:43:48.075461Z",
     "iopub.status.idle": "2022-07-31T02:43:48.079250Z",
     "shell.execute_reply": "2022-07-31T02:43:48.078602Z"
    },
    "origin_pos": 19,
    "slideshow": {
     "slide_type": "fragment"
    },
    "tab": [
     "pytorch"
    ]
   },
   "outputs": [],
   "source": [
    "def net(X):\n",
    "    return softmax(torch.matmul(X.reshape((-1, W.shape[0])), W) + b)"
   ]
  },
  {
   "cell_type": "markdown",
   "metadata": {
    "slideshow": {
     "slide_type": "fragment"
    }
   },
   "source": [
    "- 注意：`W`的形状是$784\\times10$，因此用`reshape`将每张原始图像数据（$28\\times28$）展平成一个长度为784向量"
   ]
  },
  {
   "cell_type": "markdown",
   "metadata": {
    "slideshow": {
     "slide_type": "slide"
    }
   },
   "source": [
    "### 定义损失函数"
   ]
  },
  {
   "cell_type": "markdown",
   "metadata": {
    "slideshow": {
     "slide_type": "fragment"
    }
   },
   "source": [
    "- 实现交叉熵损失函数"
   ]
  },
  {
   "cell_type": "code",
   "execution_count": 24,
   "metadata": {
    "execution": {
     "iopub.execute_input": "2022-07-31T02:43:48.091932Z",
     "iopub.status.busy": "2022-07-31T02:43:48.091398Z",
     "iopub.status.idle": "2022-07-31T02:43:48.097732Z",
     "shell.execute_reply": "2022-07-31T02:43:48.097055Z"
    },
    "origin_pos": 24,
    "slideshow": {
     "slide_type": "fragment"
    },
    "tab": [
     "pytorch"
    ]
   },
   "outputs": [],
   "source": [
    "def cross_entropy(y_hat, y):\n",
    "    \"\"\"\n",
    "        y_hat：预测值\n",
    "        y：真值\n",
    "    \"\"\"\n",
    "    return - torch.log(y_hat[range(len(y_hat)), y])  # torch.log是以自然数e为底的对数函数"
   ]
  },
  {
   "cell_type": "markdown",
   "metadata": {
    "slideshow": {
     "slide_type": "subslide"
    }
   },
   "source": [
    "- 创建一个数据样本`y_hat`，其中包含2个样本在3个类别的预测概率，以及它们对应的标签`y`"
   ]
  },
  {
   "cell_type": "code",
   "execution_count": 25,
   "metadata": {
    "execution": {
     "iopub.execute_input": "2022-07-31T02:43:48.082190Z",
     "iopub.status.busy": "2022-07-31T02:43:48.081700Z",
     "iopub.status.idle": "2022-07-31T02:43:48.087699Z",
     "shell.execute_reply": "2022-07-31T02:43:48.087051Z"
    },
    "origin_pos": 21,
    "slideshow": {
     "slide_type": "fragment"
    },
    "tab": [
     "pytorch"
    ]
   },
   "outputs": [
    {
     "name": "stdout",
     "output_type": "stream",
     "text": [
      "y_hat为\n",
      "tensor([[0.1000, 0.3000, 0.6000],\n",
      "        [0.3000, 0.2000, 0.5000]])\n",
      "y为 tensor([0, 2])\n"
     ]
    }
   ],
   "source": [
    "y_hat = torch.tensor([[0.1, 0.3, 0.6], [0.3, 0.2, 0.5]])\n",
    "y = torch.tensor([0, 2]) # 在第一个样本中，第1类是正确的预测； 而在第二个样本中，第3类是正确的预测\n",
    "print(f'y_hat为\\n{y_hat}')\n",
    "print(f'y为 {y}')"
   ]
  },
  {
   "cell_type": "markdown",
   "metadata": {
    "slideshow": {
     "slide_type": "fragment"
    }
   },
   "source": [
    "- 使用y作为y_hat中概率的索引， 选择第一个样本中第1类的概率和第二个样本中第3类的概率"
   ]
  },
  {
   "cell_type": "code",
   "execution_count": 26,
   "metadata": {
    "slideshow": {
     "slide_type": "fragment"
    }
   },
   "outputs": [
    {
     "data": {
      "text/plain": [
       "tensor([0.1000, 0.5000])"
      ]
     },
     "execution_count": 26,
     "metadata": {},
     "output_type": "execute_result"
    }
   ],
   "source": [
    "y_hat[[0, 1], y] #【0，1】是样本序列，y是每个样本对应的真实分类标号"
   ]
  },
  {
   "cell_type": "code",
   "execution_count": 27,
   "metadata": {
    "slideshow": {
     "slide_type": "fragment"
    }
   },
   "outputs": [
    {
     "data": {
      "text/plain": [
       "tensor([2.3026, 0.6931])"
      ]
     },
     "execution_count": 27,
     "metadata": {},
     "output_type": "execute_result"
    }
   ],
   "source": [
    "# 计算y_hat和y的交叉熵\n",
    "cross_entropy(y_hat, y)"
   ]
  },
  {
   "cell_type": "markdown",
   "metadata": {
    "slideshow": {
     "slide_type": "slide"
    }
   },
   "source": [
    "### 评估准确率"
   ]
  },
  {
   "cell_type": "markdown",
   "metadata": {
    "slideshow": {
     "slide_type": "fragment"
    }
   },
   "source": [
    "- 分类须输出硬预测（hard prediction）时， 通常选择预测概率最高的类"
   ]
  },
  {
   "cell_type": "markdown",
   "metadata": {
    "slideshow": {
     "slide_type": "fragment"
    }
   },
   "source": [
    "- 将预测类别与真实`y`元素进行比较，当预测与标签分类y一致时，即是正确的"
   ]
  },
  {
   "cell_type": "markdown",
   "metadata": {
    "slideshow": {
     "slide_type": "fragment"
    }
   },
   "source": [
    "\\begin{definition}\\label{def:accuracy}\n",
    "分类精度：正确预测数量与总预测数量之比\n",
    "\\end{definition}\n"
   ]
  },
  {
   "cell_type": "markdown",
   "metadata": {
    "slideshow": {
     "slide_type": "slide"
    }
   },
   "source": [
    "#### 实现计算分类精度的函数"
   ]
  },
  {
   "cell_type": "markdown",
   "metadata": {
    "slideshow": {
     "slide_type": "fragment"
    }
   },
   "source": [
    "- y_hat是矩阵，假定第二个维度存储每个类的预测分数\n",
    "- 使用argmax获得每行中最大元素的索引来获得预测类别"
   ]
  },
  {
   "cell_type": "code",
   "execution_count": 28,
   "metadata": {
    "execution": {
     "iopub.execute_input": "2022-07-31T02:43:48.109842Z",
     "iopub.status.busy": "2022-07-31T02:43:48.109628Z",
     "iopub.status.idle": "2022-07-31T02:43:48.114858Z",
     "shell.execute_reply": "2022-07-31T02:43:48.114250Z"
    },
    "origin_pos": 29,
    "slideshow": {
     "slide_type": "fragment"
    },
    "tab": [
     "pytorch"
    ]
   },
   "outputs": [],
   "source": [
    "def accuracy(y_hat, y):  \n",
    "    \"\"\"计算预测正确的数量\"\"\"\n",
    "    if len(y_hat.shape) > 1 and y_hat.shape[1] > 1:  #判断y_hat是一个矩阵\n",
    "        y_hat = y_hat.argmax(axis=1)  # torch.argmax\n",
    "    cmp = y_hat.type(y.dtype) == y    # 因为运算符==对数据类型敏感，将y_hat转换成与y相同的数据类型，便于比较\n",
    "    return float(cmp.type(y.dtype).sum()) # cmp是bool向量，转换为与y相同的数据类型，可以求和"
   ]
  },
  {
   "cell_type": "markdown",
   "metadata": {
    "slideshow": {
     "slide_type": "subslide"
    }
   },
   "source": [
    "- ```python\n",
    "torch.argmax(input, dim)\n",
    "```\n",
    "    - 返回指定维度上最大值的序号\n",
    "    - `input`输入张量\n",
    "    - `dim`指定的维度（轴）"
   ]
  },
  {
   "cell_type": "markdown",
   "metadata": {
    "slideshow": {
     "slide_type": "fragment"
    }
   },
   "source": [
    "- ```python\n",
    "torch.Tensor.type(dtype=None)\n",
    "```\n",
    "    - `dtype`：需要的数据类型"
   ]
  },
  {
   "cell_type": "code",
   "execution_count": 29,
   "metadata": {
    "slideshow": {
     "slide_type": "slide"
    }
   },
   "outputs": [
    {
     "name": "stdout",
     "output_type": "stream",
     "text": [
      "预测值为\n",
      "tensor([[0.1000, 0.3000, 0.6000],\n",
      "        [0.3000, 0.2000, 0.5000]])\n",
      "真值为tensor([0, 2])\n"
     ]
    }
   ],
   "source": [
    "print(f'预测值为\\n{y_hat}')\n",
    "print(f'真值为{y}')"
   ]
  },
  {
   "cell_type": "markdown",
   "metadata": {
    "slideshow": {
     "slide_type": "fragment"
    }
   },
   "source": [
    "- 第一个样本的预测类别是2，与真值**不符**\n",
    "- 第二个样本的预测类别是2，与真值**相符**"
   ]
  },
  {
   "cell_type": "code",
   "execution_count": 30,
   "metadata": {
    "slideshow": {
     "slide_type": "fragment"
    }
   },
   "outputs": [
    {
     "data": {
      "text/plain": [
       "'分类的精度为0.5'"
      ]
     },
     "execution_count": 30,
     "metadata": {},
     "output_type": "execute_result"
    }
   ],
   "source": [
    "# 在假想的预测值y_hat和真值y上的分类精度为\n",
    "f'分类的精度为{accuracy(y_hat, y) / len(y)}'"
   ]
  },
  {
   "cell_type": "markdown",
   "metadata": {
    "slideshow": {
     "slide_type": "slide"
    }
   },
   "source": [
    "#### 实现计算数据迭代器可访问数据集的分类精度"
   ]
  },
  {
   "cell_type": "markdown",
   "metadata": {
    "slideshow": {
     "slide_type": "fragment"
    }
   },
   "source": [
    "- 需要累计在每个批量上**预测正确的数量**与**预测的总数量**"
   ]
  },
  {
   "cell_type": "markdown",
   "metadata": {
    "slideshow": {
     "slide_type": "fragment"
    }
   },
   "source": [
    "- 定义`Accumulator`类\n",
    "    - 创建2个变量，分别用于存储正确预测的数量和预测的总数量"
   ]
  },
  {
   "cell_type": "code",
   "execution_count": 31,
   "metadata": {
    "execution": {
     "iopub.execute_input": "2022-07-31T02:43:48.136354Z",
     "iopub.status.busy": "2022-07-31T02:43:48.135880Z",
     "iopub.status.idle": "2022-07-31T02:43:48.667940Z",
     "shell.execute_reply": "2022-07-31T02:43:48.666945Z"
    },
    "origin_pos": 36,
    "slideshow": {
     "slide_type": "fragment"
    },
    "tab": [
     "pytorch"
    ]
   },
   "outputs": [],
   "source": [
    "class Accumulator:  \n",
    "    \"\"\"在n个变量上累加\"\"\"\n",
    "    def __init__(self, n):\n",
    "        self.data = [0.0] * n  # 生成初始值为0的含n个元素的列表\n",
    "\n",
    "    def add(self, *args):\n",
    "        # 对n个变量分别累加\n",
    "        self.data = [a + float(b) for a, b in zip(self.data, args)]\n",
    "\n",
    "    def reset(self):\n",
    "        self.data = [0.0] * len(self.data)\n",
    "\n",
    "    def __getitem__(self, idx):\n",
    "        return self.data[idx]   # 类中定义__getitem__函数，可以获取指定序号的数据"
   ]
  },
  {
   "cell_type": "markdown",
   "metadata": {
    "slideshow": {
     "slide_type": "slide"
    }
   },
   "source": [
    "- 构建可以评估任意模型`net`分类精度的函数"
   ]
  },
  {
   "cell_type": "code",
   "execution_count": 32,
   "metadata": {
    "execution": {
     "iopub.execute_input": "2022-07-31T02:43:48.118510Z",
     "iopub.status.busy": "2022-07-31T02:43:48.118292Z",
     "iopub.status.idle": "2022-07-31T02:43:48.123338Z",
     "shell.execute_reply": "2022-07-31T02:43:48.122692Z"
    },
    "origin_pos": 32,
    "slideshow": {
     "slide_type": "fragment"
    },
    "tab": [
     "pytorch"
    ]
   },
   "outputs": [],
   "source": [
    "def evaluate_accuracy(net, data_iter):  \n",
    "    \"\"\"计算在指定数据集上模型的精度\"\"\"\n",
    "    if isinstance(net, torch.nn.Module):\n",
    "        net.eval() # 将模型设置为评估模式\n",
    "    metric = Accumulator(2) # 需要累计2个变量：正确预测数 和 预测总数\n",
    "    with torch.no_grad():   # 不需要计算梯度\n",
    "        for X, y in data_iter:\n",
    "            metric.add(accuracy(net(X), y), y.numel())\n",
    "    return metric[0] / metric[1]"
   ]
  },
  {
   "cell_type": "code",
   "execution_count": 33,
   "metadata": {
    "slideshow": {
     "slide_type": "fragment"
    }
   },
   "outputs": [
    {
     "data": {
      "text/plain": [
       "0.0918"
      ]
     },
     "execution_count": 33,
     "metadata": {},
     "output_type": "execute_result"
    }
   ],
   "source": [
    "# 在给定的初始权重和偏置，构建的softmax回归模型的初始分类精度为\n",
    "evaluate_accuracy(net, test_iter)"
   ]
  },
  {
   "cell_type": "markdown",
   "metadata": {
    "slideshow": {
     "slide_type": "slide"
    }
   },
   "source": [
    "### 建立优化器"
   ]
  },
  {
   "cell_type": "markdown",
   "metadata": {
    "slideshow": {
     "slide_type": "fragment"
    }
   },
   "source": [
    "- 小批量随机梯度下降优化模型的损失函数"
   ]
  },
  {
   "cell_type": "code",
   "execution_count": 34,
   "metadata": {
    "slideshow": {
     "slide_type": "fragment"
    }
   },
   "outputs": [],
   "source": [
    "def sgd(params, lr, batch_size):  # params: [w,b]\n",
    "    \"\"\"小批量随机梯度下降\n",
    "    lr：学习速率\n",
    "    \"\"\"\n",
    "    with torch.no_grad(): # 在该上下文管理器下，所有计算得出的tensor的requires_grad都自动设置为False。\n",
    "        for param in params:\n",
    "            param -= lr * param.grad / batch_size  # 更新参数，学习速率lr控制更新大小，批量大小batch_size规范化步长\n",
    "            param.grad.zero_() "
   ]
  },
  {
   "cell_type": "code",
   "execution_count": 35,
   "metadata": {
    "slideshow": {
     "slide_type": "fragment"
    }
   },
   "outputs": [],
   "source": [
    "lr = 0.1  # 学习速率\n",
    "\n",
    "def updater(batch_size):\n",
    "    return sgd([W, b], lr, batch_size)"
   ]
  },
  {
   "cell_type": "markdown",
   "metadata": {
    "slideshow": {
     "slide_type": "slide"
    }
   },
   "source": [
    "### Softmax回归的训练"
   ]
  },
  {
   "cell_type": "markdown",
   "metadata": {
    "slideshow": {
     "slide_type": "fragment"
    }
   },
   "source": [
    "### 定义一个函数来训练一个迭代周期"
   ]
  },
  {
   "cell_type": "code",
   "execution_count": 36,
   "metadata": {
    "execution": {
     "iopub.execute_input": "2022-07-31T02:43:48.672101Z",
     "iopub.status.busy": "2022-07-31T02:43:48.671534Z",
     "iopub.status.idle": "2022-07-31T02:43:48.681391Z",
     "shell.execute_reply": "2022-07-31T02:43:48.680765Z"
    },
    "origin_pos": 39,
    "slideshow": {
     "slide_type": "fragment"
    },
    "tab": [
     "pytorch"
    ]
   },
   "outputs": [],
   "source": [
    "def train_epoch_ch3(net, train_iter, loss, updater):  \n",
    "    \"\"\"训练模型一个迭代周期（定义见第3章）\n",
    "    net: 模型网络\n",
    "    train_iter: 训练数据迭代器\n",
    "    loss：损失函数\n",
    "    updater：优化器\n",
    "    \"\"\"\n",
    "    if isinstance(net, torch.nn.Module):\n",
    "        # 将模型设置为训练模式\n",
    "        net.train()\n",
    "    metric = Accumulator(3) #累计3个变量：# 训练损失总和、训练准确度总和、样本数\n",
    "    for X, y in train_iter:\n",
    "        y_hat = net(X)  # 计算梯度并更新参数，得到预测值\n",
    "        l = loss(y_hat, y)  # 计算损失\n",
    "        if isinstance(updater, torch.optim.Optimizer):\n",
    "            # 使用PyTorch内置的优化器和损失函数\n",
    "            updater.zero_grad()\n",
    "            l.mean().backward()  # 反向计算梯度，注意pytorch内置优化器用mean函数将损失向量变为标量\n",
    "            updater.step()       # 更新参数\n",
    "        else:\n",
    "            # 使用自己定制的优化器和损失函数\n",
    "            l.sum().backward()\n",
    "            updater(X.shape[0])\n",
    "        metric.add(float(l.sum()), accuracy(y_hat, y), y.numel())\n",
    "    # 返回训练损失和分类精度\n",
    "    return metric[0] / metric[2], metric[1] / metric[2]"
   ]
  },
  {
   "cell_type": "markdown",
   "metadata": {
    "slideshow": {
     "slide_type": "slide"
    }
   },
   "source": [
    "### 定义一个动画绘制训练过程的类"
   ]
  },
  {
   "cell_type": "code",
   "execution_count": 37,
   "metadata": {
    "execution": {
     "iopub.execute_input": "2022-07-31T02:43:48.684252Z",
     "iopub.status.busy": "2022-07-31T02:43:48.684046Z",
     "iopub.status.idle": "2022-07-31T02:43:48.693873Z",
     "shell.execute_reply": "2022-07-31T02:43:48.693295Z"
    },
    "origin_pos": 42,
    "slideshow": {
     "slide_type": "fragment"
    },
    "tab": [
     "pytorch"
    ]
   },
   "outputs": [],
   "source": [
    "class Animator:  \n",
    "    \"\"\"在动画中绘制训练过程\"\"\"\n",
    "    def __init__(self, xlabel=None, ylabel=None, legend=None, xlim=None,\n",
    "                 ylim=None, xscale='linear', yscale='linear',\n",
    "                 fmts=('-', 'm--', 'g-.', 'r:'), nrows=1, ncols=1,\n",
    "                 figsize=(3.5, 2.5)):\n",
    "        if legend is None:\n",
    "            legend = []\n",
    "        use_svg_display()  # 用矢量图显式\n",
    "        self.fig, self.axes = plt.subplots(nrows, ncols, figsize=figsize)\n",
    "        if nrows * ncols == 1:\n",
    "            self.axes = [self.axes, ]\n",
    "        # 使用lambda函数捕获参数，设置轴的属性\n",
    "        self.config_axes = lambda: set_axes(\n",
    "            self.axes[0], xlabel, ylabel, xlim, ylim, xscale, yscale, legend)\n",
    "        self.X, self.Y, self.fmts = None, None, fmts\n",
    "\n",
    "    def add(self, x, y):\n",
    "        # 向图表中添加多个数据点\n",
    "        if not hasattr(y, \"__len__\"):\n",
    "            y = [y]  # 变成列表，以便下方取y的长度\n",
    "        n = len(y)\n",
    "        if not hasattr(x, \"__len__\"):\n",
    "            x = [x] * n\n",
    "        if not self.X:\n",
    "            self.X = [[] for _ in range(n)]\n",
    "        if not self.Y:\n",
    "            self.Y = [[] for _ in range(n)]\n",
    "        for i, (a, b) in enumerate(zip(x, y)):\n",
    "            # 相同的x与每个y匹配（每个y代表一类数据，例如训练损失、训练分类精度、检验分类精度）\n",
    "            if a is not None and b is not None:\n",
    "                self.X[i].append(a)\n",
    "                self.Y[i].append(b)\n",
    "        self.axes[0].cla()  # 清除轴\n",
    "        for x, y, fmt in zip(self.X, self.Y, self.fmts):\n",
    "            self.axes[0].plot(x, y, fmt)\n",
    "        self.config_axes()\n",
    "        display.display(self.fig)\n",
    "        display.clear_output(wait=True)"
   ]
  },
  {
   "cell_type": "code",
   "execution_count": 38,
   "metadata": {
    "slideshow": {
     "slide_type": "subslide"
    }
   },
   "outputs": [],
   "source": [
    "from IPython import display\n",
    "\n",
    "def use_svg_display():\n",
    "    # 显式矢量图在Jupyter中显式绘图\n",
    "    display.set_matplotlib_formats('svg')"
   ]
  },
  {
   "cell_type": "code",
   "execution_count": 39,
   "metadata": {
    "slideshow": {
     "slide_type": "fragment"
    }
   },
   "outputs": [],
   "source": [
    "def set_axes(axes, xlabel, ylabel, xlim, ylim, xscale, yscale, legend):\n",
    "    \"\"\"设置matplotlib的轴\"\"\"\n",
    "    axes.set_xlabel(xlabel)  # 设置x标签\n",
    "    axes.set_ylabel(ylabel)\n",
    "    axes.set_xscale(xscale)  # 设置x轴的比例\n",
    "    axes.set_yscale(yscale)\n",
    "    axes.set_xlim(xlim)      # 设置x轴的范围\n",
    "    axes.set_ylim(ylim)\n",
    "    if legend:\n",
    "        axes.legend(legend)  # 增添图例\n",
    "    axes.grid()              # 打开网格"
   ]
  },
  {
   "cell_type": "markdown",
   "metadata": {
    "slideshow": {
     "slide_type": "slide"
    }
   },
   "source": [
    "### 训练函数"
   ]
  },
  {
   "cell_type": "markdown",
   "metadata": {
    "slideshow": {
     "slide_type": "fragment"
    }
   },
   "source": [
    "- 会在`train_iter`访问到的训练数据集上训练一个模型`net`\n",
    "- 训练函数会运行多个迭代周期（由`num_epochs`指定）\n",
    "- 利用`Animator`类来可视化训练进度"
   ]
  },
  {
   "cell_type": "code",
   "execution_count": 40,
   "metadata": {
    "execution": {
     "iopub.execute_input": "2022-07-31T02:43:48.696646Z",
     "iopub.status.busy": "2022-07-31T02:43:48.696446Z",
     "iopub.status.idle": "2022-07-31T02:43:48.701731Z",
     "shell.execute_reply": "2022-07-31T02:43:48.701136Z"
    },
    "origin_pos": 44,
    "slideshow": {
     "slide_type": "fragment"
    },
    "tab": [
     "pytorch"
    ]
   },
   "outputs": [],
   "source": [
    "def train_ch3(net, train_iter, test_iter, loss, num_epochs, updater):  \n",
    "    \"\"\"训练模型（定义见第3章）\"\"\"\n",
    "    animator = Animator(xlabel='epoch', xlim=[1, num_epochs], ylim=[0.3, 0.9],\n",
    "                        legend=['train loss', 'train acc', 'test acc'])\n",
    "    for epoch in range(num_epochs):\n",
    "        train_metrics = train_epoch_ch3(net, train_iter, loss, updater)\n",
    "        # 评估在检验集上的分类精度\n",
    "        test_acc = evaluate_accuracy(net, test_iter)\n",
    "        # 横轴是迭代周期、纵轴包括三个值：训练损失、训练分类精度、检验分类精度\n",
    "        # train_metrics是一个tuple，+(test_acc,)构成三个值的tuple\n",
    "        animator.add(epoch + 1, train_metrics + (test_acc,))\n",
    "    train_loss, train_acc = train_metrics\n",
    "    assert train_loss < 0.5, train_loss\n",
    "    assert train_acc <= 1 and train_acc > 0.7, train_acc\n",
    "    assert test_acc <= 1 and test_acc > 0.7, test_acc"
   ]
  },
  {
   "cell_type": "markdown",
   "metadata": {
    "slideshow": {
     "slide_type": "slide"
    }
   },
   "source": [
    "- 训练模型10个迭代周期"
   ]
  },
  {
   "cell_type": "code",
   "execution_count": 41,
   "metadata": {
    "execution": {
     "iopub.execute_input": "2022-07-31T02:43:48.710770Z",
     "iopub.status.busy": "2022-07-31T02:43:48.710251Z",
     "iopub.status.idle": "2022-07-31T02:44:21.176998Z",
     "shell.execute_reply": "2022-07-31T02:44:21.176306Z"
    },
    "origin_pos": 49,
    "slideshow": {
     "slide_type": "fragment"
    },
    "tab": [
     "pytorch"
    ]
   },
   "outputs": [
    {
     "data": {
      "image/svg+xml": [
       "<?xml version=\"1.0\" encoding=\"utf-8\" standalone=\"no\"?>\n",
       "<!DOCTYPE svg PUBLIC \"-//W3C//DTD SVG 1.1//EN\"\n",
       "  \"http://www.w3.org/Graphics/SVG/1.1/DTD/svg11.dtd\">\n",
       "<!-- Created with matplotlib (https://matplotlib.org/) -->\n",
       "<svg height=\"180.65625pt\" version=\"1.1\" viewBox=\"0 0 238.965625 180.65625\" width=\"238.965625pt\" xmlns=\"http://www.w3.org/2000/svg\" xmlns:xlink=\"http://www.w3.org/1999/xlink\">\n",
       " <metadata>\n",
       "  <rdf:RDF xmlns:cc=\"http://creativecommons.org/ns#\" xmlns:dc=\"http://purl.org/dc/elements/1.1/\" xmlns:rdf=\"http://www.w3.org/1999/02/22-rdf-syntax-ns#\">\n",
       "   <cc:Work>\n",
       "    <dc:type rdf:resource=\"http://purl.org/dc/dcmitype/StillImage\"/>\n",
       "    <dc:date>2023-11-21T11:36:38.909530</dc:date>\n",
       "    <dc:format>image/svg+xml</dc:format>\n",
       "    <dc:creator>\n",
       "     <cc:Agent>\n",
       "      <dc:title>Matplotlib v3.3.4, https://matplotlib.org/</dc:title>\n",
       "     </cc:Agent>\n",
       "    </dc:creator>\n",
       "   </cc:Work>\n",
       "  </rdf:RDF>\n",
       " </metadata>\n",
       " <defs>\n",
       "  <style type=\"text/css\">*{stroke-linecap:butt;stroke-linejoin:round;}</style>\n",
       " </defs>\n",
       " <g id=\"figure_1\">\n",
       "  <g id=\"patch_1\">\n",
       "   <path d=\"M 0 180.65625 \n",
       "L 238.965625 180.65625 \n",
       "L 238.965625 0 \n",
       "L 0 0 \n",
       "z\n",
       "\" style=\"fill:none;\"/>\n",
       "  </g>\n",
       "  <g id=\"axes_1\">\n",
       "   <g id=\"patch_2\">\n",
       "    <path d=\"M 30.103125 143.1 \n",
       "L 225.403125 143.1 \n",
       "L 225.403125 7.2 \n",
       "L 30.103125 7.2 \n",
       "z\n",
       "\" style=\"fill:#ffffff;\"/>\n",
       "   </g>\n",
       "   <g id=\"matplotlib.axis_1\">\n",
       "    <g id=\"xtick_1\">\n",
       "     <g id=\"line2d_1\">\n",
       "      <path clip-path=\"url(#pc986551454)\" d=\"M 51.803125 143.1 \n",
       "L 51.803125 7.2 \n",
       "\" style=\"fill:none;stroke:#b0b0b0;stroke-linecap:square;stroke-width:0.8;\"/>\n",
       "     </g>\n",
       "     <g id=\"line2d_2\">\n",
       "      <defs>\n",
       "       <path d=\"M 0 0 \n",
       "L 0 3.5 \n",
       "\" id=\"m5a524b3fca\" style=\"stroke:#000000;stroke-width:0.8;\"/>\n",
       "      </defs>\n",
       "      <g>\n",
       "       <use style=\"stroke:#000000;stroke-width:0.8;\" x=\"51.803125\" xlink:href=\"#m5a524b3fca\" y=\"143.1\"/>\n",
       "      </g>\n",
       "     </g>\n",
       "     <g id=\"text_1\">\n",
       "      <!-- 2 -->\n",
       "      <g transform=\"translate(48.621875 157.698438)scale(0.1 -0.1)\">\n",
       "       <defs>\n",
       "        <path d=\"M 19.1875 8.296875 \n",
       "L 53.609375 8.296875 \n",
       "L 53.609375 0 \n",
       "L 7.328125 0 \n",
       "L 7.328125 8.296875 \n",
       "Q 12.9375 14.109375 22.625 23.890625 \n",
       "Q 32.328125 33.6875 34.8125 36.53125 \n",
       "Q 39.546875 41.84375 41.421875 45.53125 \n",
       "Q 43.3125 49.21875 43.3125 52.78125 \n",
       "Q 43.3125 58.59375 39.234375 62.25 \n",
       "Q 35.15625 65.921875 28.609375 65.921875 \n",
       "Q 23.96875 65.921875 18.8125 64.3125 \n",
       "Q 13.671875 62.703125 7.8125 59.421875 \n",
       "L 7.8125 69.390625 \n",
       "Q 13.765625 71.78125 18.9375 73 \n",
       "Q 24.125 74.21875 28.421875 74.21875 \n",
       "Q 39.75 74.21875 46.484375 68.546875 \n",
       "Q 53.21875 62.890625 53.21875 53.421875 \n",
       "Q 53.21875 48.921875 51.53125 44.890625 \n",
       "Q 49.859375 40.875 45.40625 35.40625 \n",
       "Q 44.1875 33.984375 37.640625 27.21875 \n",
       "Q 31.109375 20.453125 19.1875 8.296875 \n",
       "z\n",
       "\" id=\"DejaVuSans-50\"/>\n",
       "       </defs>\n",
       "       <use xlink:href=\"#DejaVuSans-50\"/>\n",
       "      </g>\n",
       "     </g>\n",
       "    </g>\n",
       "    <g id=\"xtick_2\">\n",
       "     <g id=\"line2d_3\">\n",
       "      <path clip-path=\"url(#pc986551454)\" d=\"M 95.203125 143.1 \n",
       "L 95.203125 7.2 \n",
       "\" style=\"fill:none;stroke:#b0b0b0;stroke-linecap:square;stroke-width:0.8;\"/>\n",
       "     </g>\n",
       "     <g id=\"line2d_4\">\n",
       "      <g>\n",
       "       <use style=\"stroke:#000000;stroke-width:0.8;\" x=\"95.203125\" xlink:href=\"#m5a524b3fca\" y=\"143.1\"/>\n",
       "      </g>\n",
       "     </g>\n",
       "     <g id=\"text_2\">\n",
       "      <!-- 4 -->\n",
       "      <g transform=\"translate(92.021875 157.698438)scale(0.1 -0.1)\">\n",
       "       <defs>\n",
       "        <path d=\"M 37.796875 64.3125 \n",
       "L 12.890625 25.390625 \n",
       "L 37.796875 25.390625 \n",
       "z\n",
       "M 35.203125 72.90625 \n",
       "L 47.609375 72.90625 \n",
       "L 47.609375 25.390625 \n",
       "L 58.015625 25.390625 \n",
       "L 58.015625 17.1875 \n",
       "L 47.609375 17.1875 \n",
       "L 47.609375 0 \n",
       "L 37.796875 0 \n",
       "L 37.796875 17.1875 \n",
       "L 4.890625 17.1875 \n",
       "L 4.890625 26.703125 \n",
       "z\n",
       "\" id=\"DejaVuSans-52\"/>\n",
       "       </defs>\n",
       "       <use xlink:href=\"#DejaVuSans-52\"/>\n",
       "      </g>\n",
       "     </g>\n",
       "    </g>\n",
       "    <g id=\"xtick_3\">\n",
       "     <g id=\"line2d_5\">\n",
       "      <path clip-path=\"url(#pc986551454)\" d=\"M 138.603125 143.1 \n",
       "L 138.603125 7.2 \n",
       "\" style=\"fill:none;stroke:#b0b0b0;stroke-linecap:square;stroke-width:0.8;\"/>\n",
       "     </g>\n",
       "     <g id=\"line2d_6\">\n",
       "      <g>\n",
       "       <use style=\"stroke:#000000;stroke-width:0.8;\" x=\"138.603125\" xlink:href=\"#m5a524b3fca\" y=\"143.1\"/>\n",
       "      </g>\n",
       "     </g>\n",
       "     <g id=\"text_3\">\n",
       "      <!-- 6 -->\n",
       "      <g transform=\"translate(135.421875 157.698438)scale(0.1 -0.1)\">\n",
       "       <defs>\n",
       "        <path d=\"M 33.015625 40.375 \n",
       "Q 26.375 40.375 22.484375 35.828125 \n",
       "Q 18.609375 31.296875 18.609375 23.390625 \n",
       "Q 18.609375 15.53125 22.484375 10.953125 \n",
       "Q 26.375 6.390625 33.015625 6.390625 \n",
       "Q 39.65625 6.390625 43.53125 10.953125 \n",
       "Q 47.40625 15.53125 47.40625 23.390625 \n",
       "Q 47.40625 31.296875 43.53125 35.828125 \n",
       "Q 39.65625 40.375 33.015625 40.375 \n",
       "z\n",
       "M 52.59375 71.296875 \n",
       "L 52.59375 62.3125 \n",
       "Q 48.875 64.0625 45.09375 64.984375 \n",
       "Q 41.3125 65.921875 37.59375 65.921875 \n",
       "Q 27.828125 65.921875 22.671875 59.328125 \n",
       "Q 17.53125 52.734375 16.796875 39.40625 \n",
       "Q 19.671875 43.65625 24.015625 45.921875 \n",
       "Q 28.375 48.1875 33.59375 48.1875 \n",
       "Q 44.578125 48.1875 50.953125 41.515625 \n",
       "Q 57.328125 34.859375 57.328125 23.390625 \n",
       "Q 57.328125 12.15625 50.6875 5.359375 \n",
       "Q 44.046875 -1.421875 33.015625 -1.421875 \n",
       "Q 20.359375 -1.421875 13.671875 8.265625 \n",
       "Q 6.984375 17.96875 6.984375 36.375 \n",
       "Q 6.984375 53.65625 15.1875 63.9375 \n",
       "Q 23.390625 74.21875 37.203125 74.21875 \n",
       "Q 40.921875 74.21875 44.703125 73.484375 \n",
       "Q 48.484375 72.75 52.59375 71.296875 \n",
       "z\n",
       "\" id=\"DejaVuSans-54\"/>\n",
       "       </defs>\n",
       "       <use xlink:href=\"#DejaVuSans-54\"/>\n",
       "      </g>\n",
       "     </g>\n",
       "    </g>\n",
       "    <g id=\"xtick_4\">\n",
       "     <g id=\"line2d_7\">\n",
       "      <path clip-path=\"url(#pc986551454)\" d=\"M 182.003125 143.1 \n",
       "L 182.003125 7.2 \n",
       "\" style=\"fill:none;stroke:#b0b0b0;stroke-linecap:square;stroke-width:0.8;\"/>\n",
       "     </g>\n",
       "     <g id=\"line2d_8\">\n",
       "      <g>\n",
       "       <use style=\"stroke:#000000;stroke-width:0.8;\" x=\"182.003125\" xlink:href=\"#m5a524b3fca\" y=\"143.1\"/>\n",
       "      </g>\n",
       "     </g>\n",
       "     <g id=\"text_4\">\n",
       "      <!-- 8 -->\n",
       "      <g transform=\"translate(178.821875 157.698438)scale(0.1 -0.1)\">\n",
       "       <defs>\n",
       "        <path d=\"M 31.78125 34.625 \n",
       "Q 24.75 34.625 20.71875 30.859375 \n",
       "Q 16.703125 27.09375 16.703125 20.515625 \n",
       "Q 16.703125 13.921875 20.71875 10.15625 \n",
       "Q 24.75 6.390625 31.78125 6.390625 \n",
       "Q 38.8125 6.390625 42.859375 10.171875 \n",
       "Q 46.921875 13.96875 46.921875 20.515625 \n",
       "Q 46.921875 27.09375 42.890625 30.859375 \n",
       "Q 38.875 34.625 31.78125 34.625 \n",
       "z\n",
       "M 21.921875 38.8125 \n",
       "Q 15.578125 40.375 12.03125 44.71875 \n",
       "Q 8.5 49.078125 8.5 55.328125 \n",
       "Q 8.5 64.0625 14.71875 69.140625 \n",
       "Q 20.953125 74.21875 31.78125 74.21875 \n",
       "Q 42.671875 74.21875 48.875 69.140625 \n",
       "Q 55.078125 64.0625 55.078125 55.328125 \n",
       "Q 55.078125 49.078125 51.53125 44.71875 \n",
       "Q 48 40.375 41.703125 38.8125 \n",
       "Q 48.828125 37.15625 52.796875 32.3125 \n",
       "Q 56.78125 27.484375 56.78125 20.515625 \n",
       "Q 56.78125 9.90625 50.3125 4.234375 \n",
       "Q 43.84375 -1.421875 31.78125 -1.421875 \n",
       "Q 19.734375 -1.421875 13.25 4.234375 \n",
       "Q 6.78125 9.90625 6.78125 20.515625 \n",
       "Q 6.78125 27.484375 10.78125 32.3125 \n",
       "Q 14.796875 37.15625 21.921875 38.8125 \n",
       "z\n",
       "M 18.3125 54.390625 \n",
       "Q 18.3125 48.734375 21.84375 45.5625 \n",
       "Q 25.390625 42.390625 31.78125 42.390625 \n",
       "Q 38.140625 42.390625 41.71875 45.5625 \n",
       "Q 45.3125 48.734375 45.3125 54.390625 \n",
       "Q 45.3125 60.0625 41.71875 63.234375 \n",
       "Q 38.140625 66.40625 31.78125 66.40625 \n",
       "Q 25.390625 66.40625 21.84375 63.234375 \n",
       "Q 18.3125 60.0625 18.3125 54.390625 \n",
       "z\n",
       "\" id=\"DejaVuSans-56\"/>\n",
       "       </defs>\n",
       "       <use xlink:href=\"#DejaVuSans-56\"/>\n",
       "      </g>\n",
       "     </g>\n",
       "    </g>\n",
       "    <g id=\"xtick_5\">\n",
       "     <g id=\"line2d_9\">\n",
       "      <path clip-path=\"url(#pc986551454)\" d=\"M 225.403125 143.1 \n",
       "L 225.403125 7.2 \n",
       "\" style=\"fill:none;stroke:#b0b0b0;stroke-linecap:square;stroke-width:0.8;\"/>\n",
       "     </g>\n",
       "     <g id=\"line2d_10\">\n",
       "      <g>\n",
       "       <use style=\"stroke:#000000;stroke-width:0.8;\" x=\"225.403125\" xlink:href=\"#m5a524b3fca\" y=\"143.1\"/>\n",
       "      </g>\n",
       "     </g>\n",
       "     <g id=\"text_5\">\n",
       "      <!-- 10 -->\n",
       "      <g transform=\"translate(219.040625 157.698438)scale(0.1 -0.1)\">\n",
       "       <defs>\n",
       "        <path d=\"M 12.40625 8.296875 \n",
       "L 28.515625 8.296875 \n",
       "L 28.515625 63.921875 \n",
       "L 10.984375 60.40625 \n",
       "L 10.984375 69.390625 \n",
       "L 28.421875 72.90625 \n",
       "L 38.28125 72.90625 \n",
       "L 38.28125 8.296875 \n",
       "L 54.390625 8.296875 \n",
       "L 54.390625 0 \n",
       "L 12.40625 0 \n",
       "z\n",
       "\" id=\"DejaVuSans-49\"/>\n",
       "        <path d=\"M 31.78125 66.40625 \n",
       "Q 24.171875 66.40625 20.328125 58.90625 \n",
       "Q 16.5 51.421875 16.5 36.375 \n",
       "Q 16.5 21.390625 20.328125 13.890625 \n",
       "Q 24.171875 6.390625 31.78125 6.390625 \n",
       "Q 39.453125 6.390625 43.28125 13.890625 \n",
       "Q 47.125 21.390625 47.125 36.375 \n",
       "Q 47.125 51.421875 43.28125 58.90625 \n",
       "Q 39.453125 66.40625 31.78125 66.40625 \n",
       "z\n",
       "M 31.78125 74.21875 \n",
       "Q 44.046875 74.21875 50.515625 64.515625 \n",
       "Q 56.984375 54.828125 56.984375 36.375 \n",
       "Q 56.984375 17.96875 50.515625 8.265625 \n",
       "Q 44.046875 -1.421875 31.78125 -1.421875 \n",
       "Q 19.53125 -1.421875 13.0625 8.265625 \n",
       "Q 6.59375 17.96875 6.59375 36.375 \n",
       "Q 6.59375 54.828125 13.0625 64.515625 \n",
       "Q 19.53125 74.21875 31.78125 74.21875 \n",
       "z\n",
       "\" id=\"DejaVuSans-48\"/>\n",
       "       </defs>\n",
       "       <use xlink:href=\"#DejaVuSans-49\"/>\n",
       "       <use x=\"63.623047\" xlink:href=\"#DejaVuSans-48\"/>\n",
       "      </g>\n",
       "     </g>\n",
       "    </g>\n",
       "    <g id=\"text_6\">\n",
       "     <!-- epoch -->\n",
       "     <g transform=\"translate(112.525 171.376563)scale(0.1 -0.1)\">\n",
       "      <defs>\n",
       "       <path d=\"M 56.203125 29.59375 \n",
       "L 56.203125 25.203125 \n",
       "L 14.890625 25.203125 \n",
       "Q 15.484375 15.921875 20.484375 11.0625 \n",
       "Q 25.484375 6.203125 34.421875 6.203125 \n",
       "Q 39.59375 6.203125 44.453125 7.46875 \n",
       "Q 49.3125 8.734375 54.109375 11.28125 \n",
       "L 54.109375 2.78125 \n",
       "Q 49.265625 0.734375 44.1875 -0.34375 \n",
       "Q 39.109375 -1.421875 33.890625 -1.421875 \n",
       "Q 20.796875 -1.421875 13.15625 6.1875 \n",
       "Q 5.515625 13.8125 5.515625 26.8125 \n",
       "Q 5.515625 40.234375 12.765625 48.109375 \n",
       "Q 20.015625 56 32.328125 56 \n",
       "Q 43.359375 56 49.78125 48.890625 \n",
       "Q 56.203125 41.796875 56.203125 29.59375 \n",
       "z\n",
       "M 47.21875 32.234375 \n",
       "Q 47.125 39.59375 43.09375 43.984375 \n",
       "Q 39.0625 48.390625 32.421875 48.390625 \n",
       "Q 24.90625 48.390625 20.390625 44.140625 \n",
       "Q 15.875 39.890625 15.1875 32.171875 \n",
       "z\n",
       "\" id=\"DejaVuSans-101\"/>\n",
       "       <path d=\"M 18.109375 8.203125 \n",
       "L 18.109375 -20.796875 \n",
       "L 9.078125 -20.796875 \n",
       "L 9.078125 54.6875 \n",
       "L 18.109375 54.6875 \n",
       "L 18.109375 46.390625 \n",
       "Q 20.953125 51.265625 25.265625 53.625 \n",
       "Q 29.59375 56 35.59375 56 \n",
       "Q 45.5625 56 51.78125 48.09375 \n",
       "Q 58.015625 40.1875 58.015625 27.296875 \n",
       "Q 58.015625 14.40625 51.78125 6.484375 \n",
       "Q 45.5625 -1.421875 35.59375 -1.421875 \n",
       "Q 29.59375 -1.421875 25.265625 0.953125 \n",
       "Q 20.953125 3.328125 18.109375 8.203125 \n",
       "z\n",
       "M 48.6875 27.296875 \n",
       "Q 48.6875 37.203125 44.609375 42.84375 \n",
       "Q 40.53125 48.484375 33.40625 48.484375 \n",
       "Q 26.265625 48.484375 22.1875 42.84375 \n",
       "Q 18.109375 37.203125 18.109375 27.296875 \n",
       "Q 18.109375 17.390625 22.1875 11.75 \n",
       "Q 26.265625 6.109375 33.40625 6.109375 \n",
       "Q 40.53125 6.109375 44.609375 11.75 \n",
       "Q 48.6875 17.390625 48.6875 27.296875 \n",
       "z\n",
       "\" id=\"DejaVuSans-112\"/>\n",
       "       <path d=\"M 30.609375 48.390625 \n",
       "Q 23.390625 48.390625 19.1875 42.75 \n",
       "Q 14.984375 37.109375 14.984375 27.296875 \n",
       "Q 14.984375 17.484375 19.15625 11.84375 \n",
       "Q 23.34375 6.203125 30.609375 6.203125 \n",
       "Q 37.796875 6.203125 41.984375 11.859375 \n",
       "Q 46.1875 17.53125 46.1875 27.296875 \n",
       "Q 46.1875 37.015625 41.984375 42.703125 \n",
       "Q 37.796875 48.390625 30.609375 48.390625 \n",
       "z\n",
       "M 30.609375 56 \n",
       "Q 42.328125 56 49.015625 48.375 \n",
       "Q 55.71875 40.765625 55.71875 27.296875 \n",
       "Q 55.71875 13.875 49.015625 6.21875 \n",
       "Q 42.328125 -1.421875 30.609375 -1.421875 \n",
       "Q 18.84375 -1.421875 12.171875 6.21875 \n",
       "Q 5.515625 13.875 5.515625 27.296875 \n",
       "Q 5.515625 40.765625 12.171875 48.375 \n",
       "Q 18.84375 56 30.609375 56 \n",
       "z\n",
       "\" id=\"DejaVuSans-111\"/>\n",
       "       <path d=\"M 48.78125 52.59375 \n",
       "L 48.78125 44.1875 \n",
       "Q 44.96875 46.296875 41.140625 47.34375 \n",
       "Q 37.3125 48.390625 33.40625 48.390625 \n",
       "Q 24.65625 48.390625 19.8125 42.84375 \n",
       "Q 14.984375 37.3125 14.984375 27.296875 \n",
       "Q 14.984375 17.28125 19.8125 11.734375 \n",
       "Q 24.65625 6.203125 33.40625 6.203125 \n",
       "Q 37.3125 6.203125 41.140625 7.25 \n",
       "Q 44.96875 8.296875 48.78125 10.40625 \n",
       "L 48.78125 2.09375 \n",
       "Q 45.015625 0.34375 40.984375 -0.53125 \n",
       "Q 36.96875 -1.421875 32.421875 -1.421875 \n",
       "Q 20.0625 -1.421875 12.78125 6.34375 \n",
       "Q 5.515625 14.109375 5.515625 27.296875 \n",
       "Q 5.515625 40.671875 12.859375 48.328125 \n",
       "Q 20.21875 56 33.015625 56 \n",
       "Q 37.15625 56 41.109375 55.140625 \n",
       "Q 45.0625 54.296875 48.78125 52.59375 \n",
       "z\n",
       "\" id=\"DejaVuSans-99\"/>\n",
       "       <path d=\"M 54.890625 33.015625 \n",
       "L 54.890625 0 \n",
       "L 45.90625 0 \n",
       "L 45.90625 32.71875 \n",
       "Q 45.90625 40.484375 42.875 44.328125 \n",
       "Q 39.84375 48.1875 33.796875 48.1875 \n",
       "Q 26.515625 48.1875 22.3125 43.546875 \n",
       "Q 18.109375 38.921875 18.109375 30.90625 \n",
       "L 18.109375 0 \n",
       "L 9.078125 0 \n",
       "L 9.078125 75.984375 \n",
       "L 18.109375 75.984375 \n",
       "L 18.109375 46.1875 \n",
       "Q 21.34375 51.125 25.703125 53.5625 \n",
       "Q 30.078125 56 35.796875 56 \n",
       "Q 45.21875 56 50.046875 50.171875 \n",
       "Q 54.890625 44.34375 54.890625 33.015625 \n",
       "z\n",
       "\" id=\"DejaVuSans-104\"/>\n",
       "      </defs>\n",
       "      <use xlink:href=\"#DejaVuSans-101\"/>\n",
       "      <use x=\"61.523438\" xlink:href=\"#DejaVuSans-112\"/>\n",
       "      <use x=\"125\" xlink:href=\"#DejaVuSans-111\"/>\n",
       "      <use x=\"186.181641\" xlink:href=\"#DejaVuSans-99\"/>\n",
       "      <use x=\"241.162109\" xlink:href=\"#DejaVuSans-104\"/>\n",
       "     </g>\n",
       "    </g>\n",
       "   </g>\n",
       "   <g id=\"matplotlib.axis_2\">\n",
       "    <g id=\"ytick_1\">\n",
       "     <g id=\"line2d_11\">\n",
       "      <path clip-path=\"url(#pc986551454)\" d=\"M 30.103125 120.45 \n",
       "L 225.403125 120.45 \n",
       "\" style=\"fill:none;stroke:#b0b0b0;stroke-linecap:square;stroke-width:0.8;\"/>\n",
       "     </g>\n",
       "     <g id=\"line2d_12\">\n",
       "      <defs>\n",
       "       <path d=\"M 0 0 \n",
       "L -3.5 0 \n",
       "\" id=\"m7befed0671\" style=\"stroke:#000000;stroke-width:0.8;\"/>\n",
       "      </defs>\n",
       "      <g>\n",
       "       <use style=\"stroke:#000000;stroke-width:0.8;\" x=\"30.103125\" xlink:href=\"#m7befed0671\" y=\"120.45\"/>\n",
       "      </g>\n",
       "     </g>\n",
       "     <g id=\"text_7\">\n",
       "      <!-- 0.4 -->\n",
       "      <g transform=\"translate(7.2 124.249219)scale(0.1 -0.1)\">\n",
       "       <defs>\n",
       "        <path d=\"M 10.6875 12.40625 \n",
       "L 21 12.40625 \n",
       "L 21 0 \n",
       "L 10.6875 0 \n",
       "z\n",
       "\" id=\"DejaVuSans-46\"/>\n",
       "       </defs>\n",
       "       <use xlink:href=\"#DejaVuSans-48\"/>\n",
       "       <use x=\"63.623047\" xlink:href=\"#DejaVuSans-46\"/>\n",
       "       <use x=\"95.410156\" xlink:href=\"#DejaVuSans-52\"/>\n",
       "      </g>\n",
       "     </g>\n",
       "    </g>\n",
       "    <g id=\"ytick_2\">\n",
       "     <g id=\"line2d_13\">\n",
       "      <path clip-path=\"url(#pc986551454)\" d=\"M 30.103125 75.15 \n",
       "L 225.403125 75.15 \n",
       "\" style=\"fill:none;stroke:#b0b0b0;stroke-linecap:square;stroke-width:0.8;\"/>\n",
       "     </g>\n",
       "     <g id=\"line2d_14\">\n",
       "      <g>\n",
       "       <use style=\"stroke:#000000;stroke-width:0.8;\" x=\"30.103125\" xlink:href=\"#m7befed0671\" y=\"75.15\"/>\n",
       "      </g>\n",
       "     </g>\n",
       "     <g id=\"text_8\">\n",
       "      <!-- 0.6 -->\n",
       "      <g transform=\"translate(7.2 78.949219)scale(0.1 -0.1)\">\n",
       "       <use xlink:href=\"#DejaVuSans-48\"/>\n",
       "       <use x=\"63.623047\" xlink:href=\"#DejaVuSans-46\"/>\n",
       "       <use x=\"95.410156\" xlink:href=\"#DejaVuSans-54\"/>\n",
       "      </g>\n",
       "     </g>\n",
       "    </g>\n",
       "    <g id=\"ytick_3\">\n",
       "     <g id=\"line2d_15\">\n",
       "      <path clip-path=\"url(#pc986551454)\" d=\"M 30.103125 29.85 \n",
       "L 225.403125 29.85 \n",
       "\" style=\"fill:none;stroke:#b0b0b0;stroke-linecap:square;stroke-width:0.8;\"/>\n",
       "     </g>\n",
       "     <g id=\"line2d_16\">\n",
       "      <g>\n",
       "       <use style=\"stroke:#000000;stroke-width:0.8;\" x=\"30.103125\" xlink:href=\"#m7befed0671\" y=\"29.85\"/>\n",
       "      </g>\n",
       "     </g>\n",
       "     <g id=\"text_9\">\n",
       "      <!-- 0.8 -->\n",
       "      <g transform=\"translate(7.2 33.649219)scale(0.1 -0.1)\">\n",
       "       <use xlink:href=\"#DejaVuSans-48\"/>\n",
       "       <use x=\"63.623047\" xlink:href=\"#DejaVuSans-46\"/>\n",
       "       <use x=\"95.410156\" xlink:href=\"#DejaVuSans-56\"/>\n",
       "      </g>\n",
       "     </g>\n",
       "    </g>\n",
       "   </g>\n",
       "   <g id=\"line2d_17\">\n",
       "    <path clip-path=\"url(#pc986551454)\" d=\"M 30.103125 33.171783 \n",
       "L 51.803125 81.599398 \n",
       "L 73.503125 92.138841 \n",
       "L 95.203125 97.485868 \n",
       "L 116.903125 101.100841 \n",
       "L 138.603125 103.799299 \n",
       "L 160.303125 105.604036 \n",
       "L 182.003125 107.183845 \n",
       "L 203.703125 108.462553 \n",
       "L 225.403125 109.703954 \n",
       "\" style=\"fill:none;stroke:#1f77b4;stroke-linecap:square;stroke-width:1.5;\"/>\n",
       "   </g>\n",
       "   <g id=\"line2d_18\">\n",
       "    <path clip-path=\"url(#pc986551454)\" d=\"M 30.103125 40.582325 \n",
       "L 51.803125 26.841325 \n",
       "L 73.503125 24.11955 \n",
       "L 95.203125 22.545375 \n",
       "L 116.903125 21.4242 \n",
       "L 138.603125 20.60125 \n",
       "L 160.303125 20.2615 \n",
       "L 182.003125 19.66505 \n",
       "L 203.703125 19.548025 \n",
       "L 225.403125 18.827 \n",
       "\" style=\"fill:none;stroke:#bf00bf;stroke-dasharray:5.55,2.4;stroke-dashoffset:0;stroke-width:1.5;\"/>\n",
       "   </g>\n",
       "   <g id=\"line2d_19\">\n",
       "    <path clip-path=\"url(#pc986551454)\" d=\"M 30.103125 33.474 \n",
       "L 51.803125 28.5363 \n",
       "L 73.503125 26.226 \n",
       "L 95.203125 23.93835 \n",
       "L 116.903125 25.32 \n",
       "L 138.603125 28.5816 \n",
       "L 160.303125 23.1456 \n",
       "L 182.003125 22.4661 \n",
       "L 203.703125 23.03235 \n",
       "L 225.403125 22.1037 \n",
       "\" style=\"fill:none;stroke:#008000;stroke-dasharray:9.6,2.4,1.5,2.4;stroke-dashoffset:0;stroke-width:1.5;\"/>\n",
       "   </g>\n",
       "   <g id=\"patch_3\">\n",
       "    <path d=\"M 30.103125 143.1 \n",
       "L 30.103125 7.2 \n",
       "\" style=\"fill:none;stroke:#000000;stroke-linecap:square;stroke-linejoin:miter;stroke-width:0.8;\"/>\n",
       "   </g>\n",
       "   <g id=\"patch_4\">\n",
       "    <path d=\"M 225.403125 143.1 \n",
       "L 225.403125 7.2 \n",
       "\" style=\"fill:none;stroke:#000000;stroke-linecap:square;stroke-linejoin:miter;stroke-width:0.8;\"/>\n",
       "   </g>\n",
       "   <g id=\"patch_5\">\n",
       "    <path d=\"M 30.103125 143.1 \n",
       "L 225.403125 143.1 \n",
       "\" style=\"fill:none;stroke:#000000;stroke-linecap:square;stroke-linejoin:miter;stroke-width:0.8;\"/>\n",
       "   </g>\n",
       "   <g id=\"patch_6\">\n",
       "    <path d=\"M 30.103125 7.2 \n",
       "L 225.403125 7.2 \n",
       "\" style=\"fill:none;stroke:#000000;stroke-linecap:square;stroke-linejoin:miter;stroke-width:0.8;\"/>\n",
       "   </g>\n",
       "   <g id=\"legend_1\">\n",
       "    <g id=\"patch_7\">\n",
       "     <path d=\"M 140.634375 98.667187 \n",
       "L 218.403125 98.667187 \n",
       "Q 220.403125 98.667187 220.403125 96.667187 \n",
       "L 220.403125 53.632812 \n",
       "Q 220.403125 51.632812 218.403125 51.632812 \n",
       "L 140.634375 51.632812 \n",
       "Q 138.634375 51.632812 138.634375 53.632812 \n",
       "L 138.634375 96.667187 \n",
       "Q 138.634375 98.667187 140.634375 98.667187 \n",
       "z\n",
       "\" style=\"fill:#ffffff;opacity:0.8;stroke:#cccccc;stroke-linejoin:miter;\"/>\n",
       "    </g>\n",
       "    <g id=\"line2d_20\">\n",
       "     <path d=\"M 142.634375 59.73125 \n",
       "L 162.634375 59.73125 \n",
       "\" style=\"fill:none;stroke:#1f77b4;stroke-linecap:square;stroke-width:1.5;\"/>\n",
       "    </g>\n",
       "    <g id=\"line2d_21\"/>\n",
       "    <g id=\"text_10\">\n",
       "     <!-- train loss -->\n",
       "     <g transform=\"translate(170.634375 63.23125)scale(0.1 -0.1)\">\n",
       "      <defs>\n",
       "       <path d=\"M 18.3125 70.21875 \n",
       "L 18.3125 54.6875 \n",
       "L 36.8125 54.6875 \n",
       "L 36.8125 47.703125 \n",
       "L 18.3125 47.703125 \n",
       "L 18.3125 18.015625 \n",
       "Q 18.3125 11.328125 20.140625 9.421875 \n",
       "Q 21.96875 7.515625 27.59375 7.515625 \n",
       "L 36.8125 7.515625 \n",
       "L 36.8125 0 \n",
       "L 27.59375 0 \n",
       "Q 17.1875 0 13.234375 3.875 \n",
       "Q 9.28125 7.765625 9.28125 18.015625 \n",
       "L 9.28125 47.703125 \n",
       "L 2.6875 47.703125 \n",
       "L 2.6875 54.6875 \n",
       "L 9.28125 54.6875 \n",
       "L 9.28125 70.21875 \n",
       "z\n",
       "\" id=\"DejaVuSans-116\"/>\n",
       "       <path d=\"M 41.109375 46.296875 \n",
       "Q 39.59375 47.171875 37.8125 47.578125 \n",
       "Q 36.03125 48 33.890625 48 \n",
       "Q 26.265625 48 22.1875 43.046875 \n",
       "Q 18.109375 38.09375 18.109375 28.8125 \n",
       "L 18.109375 0 \n",
       "L 9.078125 0 \n",
       "L 9.078125 54.6875 \n",
       "L 18.109375 54.6875 \n",
       "L 18.109375 46.1875 \n",
       "Q 20.953125 51.171875 25.484375 53.578125 \n",
       "Q 30.03125 56 36.53125 56 \n",
       "Q 37.453125 56 38.578125 55.875 \n",
       "Q 39.703125 55.765625 41.0625 55.515625 \n",
       "z\n",
       "\" id=\"DejaVuSans-114\"/>\n",
       "       <path d=\"M 34.28125 27.484375 \n",
       "Q 23.390625 27.484375 19.1875 25 \n",
       "Q 14.984375 22.515625 14.984375 16.5 \n",
       "Q 14.984375 11.71875 18.140625 8.90625 \n",
       "Q 21.296875 6.109375 26.703125 6.109375 \n",
       "Q 34.1875 6.109375 38.703125 11.40625 \n",
       "Q 43.21875 16.703125 43.21875 25.484375 \n",
       "L 43.21875 27.484375 \n",
       "z\n",
       "M 52.203125 31.203125 \n",
       "L 52.203125 0 \n",
       "L 43.21875 0 \n",
       "L 43.21875 8.296875 \n",
       "Q 40.140625 3.328125 35.546875 0.953125 \n",
       "Q 30.953125 -1.421875 24.3125 -1.421875 \n",
       "Q 15.921875 -1.421875 10.953125 3.296875 \n",
       "Q 6 8.015625 6 15.921875 \n",
       "Q 6 25.140625 12.171875 29.828125 \n",
       "Q 18.359375 34.515625 30.609375 34.515625 \n",
       "L 43.21875 34.515625 \n",
       "L 43.21875 35.40625 \n",
       "Q 43.21875 41.609375 39.140625 45 \n",
       "Q 35.0625 48.390625 27.6875 48.390625 \n",
       "Q 23 48.390625 18.546875 47.265625 \n",
       "Q 14.109375 46.140625 10.015625 43.890625 \n",
       "L 10.015625 52.203125 \n",
       "Q 14.9375 54.109375 19.578125 55.046875 \n",
       "Q 24.21875 56 28.609375 56 \n",
       "Q 40.484375 56 46.34375 49.84375 \n",
       "Q 52.203125 43.703125 52.203125 31.203125 \n",
       "z\n",
       "\" id=\"DejaVuSans-97\"/>\n",
       "       <path d=\"M 9.421875 54.6875 \n",
       "L 18.40625 54.6875 \n",
       "L 18.40625 0 \n",
       "L 9.421875 0 \n",
       "z\n",
       "M 9.421875 75.984375 \n",
       "L 18.40625 75.984375 \n",
       "L 18.40625 64.59375 \n",
       "L 9.421875 64.59375 \n",
       "z\n",
       "\" id=\"DejaVuSans-105\"/>\n",
       "       <path d=\"M 54.890625 33.015625 \n",
       "L 54.890625 0 \n",
       "L 45.90625 0 \n",
       "L 45.90625 32.71875 \n",
       "Q 45.90625 40.484375 42.875 44.328125 \n",
       "Q 39.84375 48.1875 33.796875 48.1875 \n",
       "Q 26.515625 48.1875 22.3125 43.546875 \n",
       "Q 18.109375 38.921875 18.109375 30.90625 \n",
       "L 18.109375 0 \n",
       "L 9.078125 0 \n",
       "L 9.078125 54.6875 \n",
       "L 18.109375 54.6875 \n",
       "L 18.109375 46.1875 \n",
       "Q 21.34375 51.125 25.703125 53.5625 \n",
       "Q 30.078125 56 35.796875 56 \n",
       "Q 45.21875 56 50.046875 50.171875 \n",
       "Q 54.890625 44.34375 54.890625 33.015625 \n",
       "z\n",
       "\" id=\"DejaVuSans-110\"/>\n",
       "       <path id=\"DejaVuSans-32\"/>\n",
       "       <path d=\"M 9.421875 75.984375 \n",
       "L 18.40625 75.984375 \n",
       "L 18.40625 0 \n",
       "L 9.421875 0 \n",
       "z\n",
       "\" id=\"DejaVuSans-108\"/>\n",
       "       <path d=\"M 44.28125 53.078125 \n",
       "L 44.28125 44.578125 \n",
       "Q 40.484375 46.53125 36.375 47.5 \n",
       "Q 32.28125 48.484375 27.875 48.484375 \n",
       "Q 21.1875 48.484375 17.84375 46.4375 \n",
       "Q 14.5 44.390625 14.5 40.28125 \n",
       "Q 14.5 37.15625 16.890625 35.375 \n",
       "Q 19.28125 33.59375 26.515625 31.984375 \n",
       "L 29.59375 31.296875 \n",
       "Q 39.15625 29.25 43.1875 25.515625 \n",
       "Q 47.21875 21.78125 47.21875 15.09375 \n",
       "Q 47.21875 7.46875 41.1875 3.015625 \n",
       "Q 35.15625 -1.421875 24.609375 -1.421875 \n",
       "Q 20.21875 -1.421875 15.453125 -0.5625 \n",
       "Q 10.6875 0.296875 5.421875 2 \n",
       "L 5.421875 11.28125 \n",
       "Q 10.40625 8.6875 15.234375 7.390625 \n",
       "Q 20.0625 6.109375 24.8125 6.109375 \n",
       "Q 31.15625 6.109375 34.5625 8.28125 \n",
       "Q 37.984375 10.453125 37.984375 14.40625 \n",
       "Q 37.984375 18.0625 35.515625 20.015625 \n",
       "Q 33.0625 21.96875 24.703125 23.78125 \n",
       "L 21.578125 24.515625 \n",
       "Q 13.234375 26.265625 9.515625 29.90625 \n",
       "Q 5.8125 33.546875 5.8125 39.890625 \n",
       "Q 5.8125 47.609375 11.28125 51.796875 \n",
       "Q 16.75 56 26.8125 56 \n",
       "Q 31.78125 56 36.171875 55.265625 \n",
       "Q 40.578125 54.546875 44.28125 53.078125 \n",
       "z\n",
       "\" id=\"DejaVuSans-115\"/>\n",
       "      </defs>\n",
       "      <use xlink:href=\"#DejaVuSans-116\"/>\n",
       "      <use x=\"39.208984\" xlink:href=\"#DejaVuSans-114\"/>\n",
       "      <use x=\"80.322266\" xlink:href=\"#DejaVuSans-97\"/>\n",
       "      <use x=\"141.601562\" xlink:href=\"#DejaVuSans-105\"/>\n",
       "      <use x=\"169.384766\" xlink:href=\"#DejaVuSans-110\"/>\n",
       "      <use x=\"232.763672\" xlink:href=\"#DejaVuSans-32\"/>\n",
       "      <use x=\"264.550781\" xlink:href=\"#DejaVuSans-108\"/>\n",
       "      <use x=\"292.333984\" xlink:href=\"#DejaVuSans-111\"/>\n",
       "      <use x=\"353.515625\" xlink:href=\"#DejaVuSans-115\"/>\n",
       "      <use x=\"405.615234\" xlink:href=\"#DejaVuSans-115\"/>\n",
       "     </g>\n",
       "    </g>\n",
       "    <g id=\"line2d_22\">\n",
       "     <path d=\"M 142.634375 74.409375 \n",
       "L 162.634375 74.409375 \n",
       "\" style=\"fill:none;stroke:#bf00bf;stroke-dasharray:5.55,2.4;stroke-dashoffset:0;stroke-width:1.5;\"/>\n",
       "    </g>\n",
       "    <g id=\"line2d_23\"/>\n",
       "    <g id=\"text_11\">\n",
       "     <!-- train acc -->\n",
       "     <g transform=\"translate(170.634375 77.909375)scale(0.1 -0.1)\">\n",
       "      <use xlink:href=\"#DejaVuSans-116\"/>\n",
       "      <use x=\"39.208984\" xlink:href=\"#DejaVuSans-114\"/>\n",
       "      <use x=\"80.322266\" xlink:href=\"#DejaVuSans-97\"/>\n",
       "      <use x=\"141.601562\" xlink:href=\"#DejaVuSans-105\"/>\n",
       "      <use x=\"169.384766\" xlink:href=\"#DejaVuSans-110\"/>\n",
       "      <use x=\"232.763672\" xlink:href=\"#DejaVuSans-32\"/>\n",
       "      <use x=\"264.550781\" xlink:href=\"#DejaVuSans-97\"/>\n",
       "      <use x=\"325.830078\" xlink:href=\"#DejaVuSans-99\"/>\n",
       "      <use x=\"380.810547\" xlink:href=\"#DejaVuSans-99\"/>\n",
       "     </g>\n",
       "    </g>\n",
       "    <g id=\"line2d_24\">\n",
       "     <path d=\"M 142.634375 89.0875 \n",
       "L 162.634375 89.0875 \n",
       "\" style=\"fill:none;stroke:#008000;stroke-dasharray:9.6,2.4,1.5,2.4;stroke-dashoffset:0;stroke-width:1.5;\"/>\n",
       "    </g>\n",
       "    <g id=\"line2d_25\"/>\n",
       "    <g id=\"text_12\">\n",
       "     <!-- test acc -->\n",
       "     <g transform=\"translate(170.634375 92.5875)scale(0.1 -0.1)\">\n",
       "      <use xlink:href=\"#DejaVuSans-116\"/>\n",
       "      <use x=\"39.208984\" xlink:href=\"#DejaVuSans-101\"/>\n",
       "      <use x=\"100.732422\" xlink:href=\"#DejaVuSans-115\"/>\n",
       "      <use x=\"152.832031\" xlink:href=\"#DejaVuSans-116\"/>\n",
       "      <use x=\"192.041016\" xlink:href=\"#DejaVuSans-32\"/>\n",
       "      <use x=\"223.828125\" xlink:href=\"#DejaVuSans-97\"/>\n",
       "      <use x=\"285.107422\" xlink:href=\"#DejaVuSans-99\"/>\n",
       "      <use x=\"340.087891\" xlink:href=\"#DejaVuSans-99\"/>\n",
       "     </g>\n",
       "    </g>\n",
       "   </g>\n",
       "  </g>\n",
       " </g>\n",
       " <defs>\n",
       "  <clipPath id=\"pc986551454\">\n",
       "   <rect height=\"135.9\" width=\"195.3\" x=\"30.103125\" y=\"7.2\"/>\n",
       "  </clipPath>\n",
       " </defs>\n",
       "</svg>\n"
      ],
      "text/plain": [
       "<Figure size 252x180 with 1 Axes>"
      ]
     },
     "metadata": {
      "needs_background": "light"
     },
     "output_type": "display_data"
    }
   ],
   "source": [
    "num_epochs = 10\n",
    "train_ch3(net, train_iter, test_iter, cross_entropy, num_epochs, updater)"
   ]
  },
  {
   "cell_type": "markdown",
   "metadata": {
    "slideshow": {
     "slide_type": "slide"
    }
   },
   "source": [
    "### 对图像进行分类预测"
   ]
  },
  {
   "cell_type": "code",
   "execution_count": 42,
   "metadata": {
    "execution": {
     "iopub.execute_input": "2022-07-31T02:44:21.180478Z",
     "iopub.status.busy": "2022-07-31T02:44:21.179944Z",
     "iopub.status.idle": "2022-07-31T02:44:21.724121Z",
     "shell.execute_reply": "2022-07-31T02:44:21.723084Z"
    },
    "origin_pos": 51,
    "slideshow": {
     "slide_type": "fragment"
    },
    "tab": [
     "pytorch"
    ]
   },
   "outputs": [],
   "source": [
    "def predict_ch3(net, test_iter, n=6):  \n",
    "    \"\"\"预测标签\n",
    "    n：显示图像的数量\n",
    "    \"\"\"\n",
    "    for X, y in test_iter:\n",
    "        break\n",
    "    trues = get_fashion_mnist_labels(y)   # 获得真实类别对应的类别名称\n",
    "    # net(X).argmax(axis=1) 获得数据的硬预测\n",
    "    preds = get_fashion_mnist_labels(net(X).argmax(axis=1))\n",
    "    titles = [true +'\\n' + pred for true, pred in zip(trues, preds)]   # 真实和预测值对应的类别名称构成的列表\n",
    "    _ = show_images(X[0:n].reshape((n, 28, 28)), 1, n, titles=titles[0:n])  # 1行n列，注意改变图像数据的形状，去除通道维度"
   ]
  },
  {
   "cell_type": "code",
   "execution_count": 43,
   "metadata": {
    "slideshow": {
     "slide_type": "fragment"
    }
   },
   "outputs": [
    {
     "data": {
      "image/svg+xml": [
       "<?xml version=\"1.0\" encoding=\"utf-8\" standalone=\"no\"?>\n",
       "<!DOCTYPE svg PUBLIC \"-//W3C//DTD SVG 1.1//EN\"\n",
       "  \"http://www.w3.org/Graphics/SVG/1.1/DTD/svg11.dtd\">\n",
       "<!-- Created with matplotlib (https://matplotlib.org/) -->\n",
       "<svg height=\"118.198357pt\" version=\"1.1\" viewBox=\"0 0 520.1 118.198357\" width=\"520.1pt\" xmlns=\"http://www.w3.org/2000/svg\" xmlns:xlink=\"http://www.w3.org/1999/xlink\">\n",
       " <metadata>\n",
       "  <rdf:RDF xmlns:cc=\"http://creativecommons.org/ns#\" xmlns:dc=\"http://purl.org/dc/elements/1.1/\" xmlns:rdf=\"http://www.w3.org/1999/02/22-rdf-syntax-ns#\">\n",
       "   <cc:Work>\n",
       "    <dc:type rdf:resource=\"http://purl.org/dc/dcmitype/StillImage\"/>\n",
       "    <dc:date>2023-11-21T11:36:39.573261</dc:date>\n",
       "    <dc:format>image/svg+xml</dc:format>\n",
       "    <dc:creator>\n",
       "     <cc:Agent>\n",
       "      <dc:title>Matplotlib v3.3.4, https://matplotlib.org/</dc:title>\n",
       "     </cc:Agent>\n",
       "    </dc:creator>\n",
       "   </cc:Work>\n",
       "  </rdf:RDF>\n",
       " </metadata>\n",
       " <defs>\n",
       "  <style type=\"text/css\">*{stroke-linecap:butt;stroke-linejoin:round;}</style>\n",
       " </defs>\n",
       " <g id=\"figure_1\">\n",
       "  <g id=\"patch_1\">\n",
       "   <path d=\"M 0 118.198357 \n",
       "L 520.1 118.198357 \n",
       "L 520.1 0 \n",
       "L 0 0 \n",
       "z\n",
       "\" style=\"fill:none;\"/>\n",
       "  </g>\n",
       "  <g id=\"axes_1\">\n",
       "   <g id=\"patch_2\">\n",
       "    <path d=\"M 10.7 107.498357 \n",
       "L 82.442857 107.498357 \n",
       "L 82.442857 35.7555 \n",
       "L 10.7 35.7555 \n",
       "z\n",
       "\" style=\"fill:#ffffff;\"/>\n",
       "   </g>\n",
       "   <g clip-path=\"url(#pd8cdb07c75)\">\n",
       "    <image height=\"72\" id=\"imaged844e504fe\" transform=\"scale(1 -1)translate(0 -72)\" width=\"72\" x=\"10.7\" xlink:href=\"data:image/png;base64,\n",
       "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\" y=\"-35.498357\"/>\n",
       "   </g>\n",
       "   <g id=\"patch_3\">\n",
       "    <path d=\"M 10.7 107.498357 \n",
       "L 10.7 35.7555 \n",
       "\" style=\"fill:none;stroke:#000000;stroke-linecap:square;stroke-linejoin:miter;stroke-width:0.8;\"/>\n",
       "   </g>\n",
       "   <g id=\"patch_4\">\n",
       "    <path d=\"M 82.442857 107.498357 \n",
       "L 82.442857 35.7555 \n",
       "\" style=\"fill:none;stroke:#000000;stroke-linecap:square;stroke-linejoin:miter;stroke-width:0.8;\"/>\n",
       "   </g>\n",
       "   <g id=\"patch_5\">\n",
       "    <path d=\"M 10.7 107.498357 \n",
       "L 82.442857 107.498357 \n",
       "\" style=\"fill:none;stroke:#000000;stroke-linecap:square;stroke-linejoin:miter;stroke-width:0.8;\"/>\n",
       "   </g>\n",
       "   <g id=\"patch_6\">\n",
       "    <path d=\"M 10.7 35.7555 \n",
       "L 82.442857 35.7555 \n",
       "\" style=\"fill:none;stroke:#000000;stroke-linecap:square;stroke-linejoin:miter;stroke-width:0.8;\"/>\n",
       "   </g>\n",
       "   <g id=\"text_1\">\n",
       "    <!-- ankle boot -->\n",
       "    <g transform=\"translate(14.848304 16.318125)scale(0.12 -0.12)\">\n",
       "     <defs>\n",
       "      <path d=\"M 34.28125 27.484375 \n",
       "Q 23.390625 27.484375 19.1875 25 \n",
       "Q 14.984375 22.515625 14.984375 16.5 \n",
       "Q 14.984375 11.71875 18.140625 8.90625 \n",
       "Q 21.296875 6.109375 26.703125 6.109375 \n",
       "Q 34.1875 6.109375 38.703125 11.40625 \n",
       "Q 43.21875 16.703125 43.21875 25.484375 \n",
       "L 43.21875 27.484375 \n",
       "z\n",
       "M 52.203125 31.203125 \n",
       "L 52.203125 0 \n",
       "L 43.21875 0 \n",
       "L 43.21875 8.296875 \n",
       "Q 40.140625 3.328125 35.546875 0.953125 \n",
       "Q 30.953125 -1.421875 24.3125 -1.421875 \n",
       "Q 15.921875 -1.421875 10.953125 3.296875 \n",
       "Q 6 8.015625 6 15.921875 \n",
       "Q 6 25.140625 12.171875 29.828125 \n",
       "Q 18.359375 34.515625 30.609375 34.515625 \n",
       "L 43.21875 34.515625 \n",
       "L 43.21875 35.40625 \n",
       "Q 43.21875 41.609375 39.140625 45 \n",
       "Q 35.0625 48.390625 27.6875 48.390625 \n",
       "Q 23 48.390625 18.546875 47.265625 \n",
       "Q 14.109375 46.140625 10.015625 43.890625 \n",
       "L 10.015625 52.203125 \n",
       "Q 14.9375 54.109375 19.578125 55.046875 \n",
       "Q 24.21875 56 28.609375 56 \n",
       "Q 40.484375 56 46.34375 49.84375 \n",
       "Q 52.203125 43.703125 52.203125 31.203125 \n",
       "z\n",
       "\" id=\"DejaVuSans-97\"/>\n",
       "      <path d=\"M 54.890625 33.015625 \n",
       "L 54.890625 0 \n",
       "L 45.90625 0 \n",
       "L 45.90625 32.71875 \n",
       "Q 45.90625 40.484375 42.875 44.328125 \n",
       "Q 39.84375 48.1875 33.796875 48.1875 \n",
       "Q 26.515625 48.1875 22.3125 43.546875 \n",
       "Q 18.109375 38.921875 18.109375 30.90625 \n",
       "L 18.109375 0 \n",
       "L 9.078125 0 \n",
       "L 9.078125 54.6875 \n",
       "L 18.109375 54.6875 \n",
       "L 18.109375 46.1875 \n",
       "Q 21.34375 51.125 25.703125 53.5625 \n",
       "Q 30.078125 56 35.796875 56 \n",
       "Q 45.21875 56 50.046875 50.171875 \n",
       "Q 54.890625 44.34375 54.890625 33.015625 \n",
       "z\n",
       "\" id=\"DejaVuSans-110\"/>\n",
       "      <path d=\"M 9.078125 75.984375 \n",
       "L 18.109375 75.984375 \n",
       "L 18.109375 31.109375 \n",
       "L 44.921875 54.6875 \n",
       "L 56.390625 54.6875 \n",
       "L 27.390625 29.109375 \n",
       "L 57.625 0 \n",
       "L 45.90625 0 \n",
       "L 18.109375 26.703125 \n",
       "L 18.109375 0 \n",
       "L 9.078125 0 \n",
       "z\n",
       "\" id=\"DejaVuSans-107\"/>\n",
       "      <path d=\"M 9.421875 75.984375 \n",
       "L 18.40625 75.984375 \n",
       "L 18.40625 0 \n",
       "L 9.421875 0 \n",
       "z\n",
       "\" id=\"DejaVuSans-108\"/>\n",
       "      <path d=\"M 56.203125 29.59375 \n",
       "L 56.203125 25.203125 \n",
       "L 14.890625 25.203125 \n",
       "Q 15.484375 15.921875 20.484375 11.0625 \n",
       "Q 25.484375 6.203125 34.421875 6.203125 \n",
       "Q 39.59375 6.203125 44.453125 7.46875 \n",
       "Q 49.3125 8.734375 54.109375 11.28125 \n",
       "L 54.109375 2.78125 \n",
       "Q 49.265625 0.734375 44.1875 -0.34375 \n",
       "Q 39.109375 -1.421875 33.890625 -1.421875 \n",
       "Q 20.796875 -1.421875 13.15625 6.1875 \n",
       "Q 5.515625 13.8125 5.515625 26.8125 \n",
       "Q 5.515625 40.234375 12.765625 48.109375 \n",
       "Q 20.015625 56 32.328125 56 \n",
       "Q 43.359375 56 49.78125 48.890625 \n",
       "Q 56.203125 41.796875 56.203125 29.59375 \n",
       "z\n",
       "M 47.21875 32.234375 \n",
       "Q 47.125 39.59375 43.09375 43.984375 \n",
       "Q 39.0625 48.390625 32.421875 48.390625 \n",
       "Q 24.90625 48.390625 20.390625 44.140625 \n",
       "Q 15.875 39.890625 15.1875 32.171875 \n",
       "z\n",
       "\" id=\"DejaVuSans-101\"/>\n",
       "      <path id=\"DejaVuSans-32\"/>\n",
       "      <path d=\"M 48.6875 27.296875 \n",
       "Q 48.6875 37.203125 44.609375 42.84375 \n",
       "Q 40.53125 48.484375 33.40625 48.484375 \n",
       "Q 26.265625 48.484375 22.1875 42.84375 \n",
       "Q 18.109375 37.203125 18.109375 27.296875 \n",
       "Q 18.109375 17.390625 22.1875 11.75 \n",
       "Q 26.265625 6.109375 33.40625 6.109375 \n",
       "Q 40.53125 6.109375 44.609375 11.75 \n",
       "Q 48.6875 17.390625 48.6875 27.296875 \n",
       "z\n",
       "M 18.109375 46.390625 \n",
       "Q 20.953125 51.265625 25.265625 53.625 \n",
       "Q 29.59375 56 35.59375 56 \n",
       "Q 45.5625 56 51.78125 48.09375 \n",
       "Q 58.015625 40.1875 58.015625 27.296875 \n",
       "Q 58.015625 14.40625 51.78125 6.484375 \n",
       "Q 45.5625 -1.421875 35.59375 -1.421875 \n",
       "Q 29.59375 -1.421875 25.265625 0.953125 \n",
       "Q 20.953125 3.328125 18.109375 8.203125 \n",
       "L 18.109375 0 \n",
       "L 9.078125 0 \n",
       "L 9.078125 75.984375 \n",
       "L 18.109375 75.984375 \n",
       "z\n",
       "\" id=\"DejaVuSans-98\"/>\n",
       "      <path d=\"M 30.609375 48.390625 \n",
       "Q 23.390625 48.390625 19.1875 42.75 \n",
       "Q 14.984375 37.109375 14.984375 27.296875 \n",
       "Q 14.984375 17.484375 19.15625 11.84375 \n",
       "Q 23.34375 6.203125 30.609375 6.203125 \n",
       "Q 37.796875 6.203125 41.984375 11.859375 \n",
       "Q 46.1875 17.53125 46.1875 27.296875 \n",
       "Q 46.1875 37.015625 41.984375 42.703125 \n",
       "Q 37.796875 48.390625 30.609375 48.390625 \n",
       "z\n",
       "M 30.609375 56 \n",
       "Q 42.328125 56 49.015625 48.375 \n",
       "Q 55.71875 40.765625 55.71875 27.296875 \n",
       "Q 55.71875 13.875 49.015625 6.21875 \n",
       "Q 42.328125 -1.421875 30.609375 -1.421875 \n",
       "Q 18.84375 -1.421875 12.171875 6.21875 \n",
       "Q 5.515625 13.875 5.515625 27.296875 \n",
       "Q 5.515625 40.765625 12.171875 48.375 \n",
       "Q 18.84375 56 30.609375 56 \n",
       "z\n",
       "\" id=\"DejaVuSans-111\"/>\n",
       "      <path d=\"M 18.3125 70.21875 \n",
       "L 18.3125 54.6875 \n",
       "L 36.8125 54.6875 \n",
       "L 36.8125 47.703125 \n",
       "L 18.3125 47.703125 \n",
       "L 18.3125 18.015625 \n",
       "Q 18.3125 11.328125 20.140625 9.421875 \n",
       "Q 21.96875 7.515625 27.59375 7.515625 \n",
       "L 36.8125 7.515625 \n",
       "L 36.8125 0 \n",
       "L 27.59375 0 \n",
       "Q 17.1875 0 13.234375 3.875 \n",
       "Q 9.28125 7.765625 9.28125 18.015625 \n",
       "L 9.28125 47.703125 \n",
       "L 2.6875 47.703125 \n",
       "L 2.6875 54.6875 \n",
       "L 9.28125 54.6875 \n",
       "L 9.28125 70.21875 \n",
       "z\n",
       "\" id=\"DejaVuSans-116\"/>\n",
       "     </defs>\n",
       "     <use xlink:href=\"#DejaVuSans-97\"/>\n",
       "     <use x=\"61.279297\" xlink:href=\"#DejaVuSans-110\"/>\n",
       "     <use x=\"124.658203\" xlink:href=\"#DejaVuSans-107\"/>\n",
       "     <use x=\"182.568359\" xlink:href=\"#DejaVuSans-108\"/>\n",
       "     <use x=\"210.351562\" xlink:href=\"#DejaVuSans-101\"/>\n",
       "     <use x=\"271.875\" xlink:href=\"#DejaVuSans-32\"/>\n",
       "     <use x=\"303.662109\" xlink:href=\"#DejaVuSans-98\"/>\n",
       "     <use x=\"367.138672\" xlink:href=\"#DejaVuSans-111\"/>\n",
       "     <use x=\"428.320312\" xlink:href=\"#DejaVuSans-111\"/>\n",
       "     <use x=\"489.501953\" xlink:href=\"#DejaVuSans-116\"/>\n",
       "    </g>\n",
       "    <!-- ankle boot -->\n",
       "    <g transform=\"translate(14.848304 29.7555)scale(0.12 -0.12)\">\n",
       "     <use xlink:href=\"#DejaVuSans-97\"/>\n",
       "     <use x=\"61.279297\" xlink:href=\"#DejaVuSans-110\"/>\n",
       "     <use x=\"124.658203\" xlink:href=\"#DejaVuSans-107\"/>\n",
       "     <use x=\"182.568359\" xlink:href=\"#DejaVuSans-108\"/>\n",
       "     <use x=\"210.351562\" xlink:href=\"#DejaVuSans-101\"/>\n",
       "     <use x=\"271.875\" xlink:href=\"#DejaVuSans-32\"/>\n",
       "     <use x=\"303.662109\" xlink:href=\"#DejaVuSans-98\"/>\n",
       "     <use x=\"367.138672\" xlink:href=\"#DejaVuSans-111\"/>\n",
       "     <use x=\"428.320312\" xlink:href=\"#DejaVuSans-111\"/>\n",
       "     <use x=\"489.501953\" xlink:href=\"#DejaVuSans-116\"/>\n",
       "    </g>\n",
       "   </g>\n",
       "  </g>\n",
       "  <g id=\"axes_2\">\n",
       "   <g id=\"patch_7\">\n",
       "    <path d=\"M 96.791429 107.498357 \n",
       "L 168.534286 107.498357 \n",
       "L 168.534286 35.7555 \n",
       "L 96.791429 35.7555 \n",
       "z\n",
       "\" style=\"fill:#ffffff;\"/>\n",
       "   </g>\n",
       "   <g clip-path=\"url(#pe755295c65)\">\n",
       "    <image height=\"72\" id=\"imagea01a192ebf\" transform=\"scale(1 -1)translate(0 -72)\" width=\"72\" x=\"96.791429\" xlink:href=\"data:image/png;base64,\n",
       "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\" y=\"-35.498357\"/>\n",
       "   </g>\n",
       "   <g id=\"patch_8\">\n",
       "    <path d=\"M 96.791429 107.498357 \n",
       "L 96.791429 35.7555 \n",
       "\" style=\"fill:none;stroke:#000000;stroke-linecap:square;stroke-linejoin:miter;stroke-width:0.8;\"/>\n",
       "   </g>\n",
       "   <g id=\"patch_9\">\n",
       "    <path d=\"M 168.534286 107.498357 \n",
       "L 168.534286 35.7555 \n",
       "\" style=\"fill:none;stroke:#000000;stroke-linecap:square;stroke-linejoin:miter;stroke-width:0.8;\"/>\n",
       "   </g>\n",
       "   <g id=\"patch_10\">\n",
       "    <path d=\"M 96.791429 107.498357 \n",
       "L 168.534286 107.498357 \n",
       "\" style=\"fill:none;stroke:#000000;stroke-linecap:square;stroke-linejoin:miter;stroke-width:0.8;\"/>\n",
       "   </g>\n",
       "   <g id=\"patch_11\">\n",
       "    <path d=\"M 96.791429 35.7555 \n",
       "L 168.534286 35.7555 \n",
       "\" style=\"fill:none;stroke:#000000;stroke-linecap:square;stroke-linejoin:miter;stroke-width:0.8;\"/>\n",
       "   </g>\n",
       "   <g id=\"text_2\">\n",
       "    <!-- pullover -->\n",
       "    <g transform=\"translate(108.336607 16.318125)scale(0.12 -0.12)\">\n",
       "     <defs>\n",
       "      <path d=\"M 18.109375 8.203125 \n",
       "L 18.109375 -20.796875 \n",
       "L 9.078125 -20.796875 \n",
       "L 9.078125 54.6875 \n",
       "L 18.109375 54.6875 \n",
       "L 18.109375 46.390625 \n",
       "Q 20.953125 51.265625 25.265625 53.625 \n",
       "Q 29.59375 56 35.59375 56 \n",
       "Q 45.5625 56 51.78125 48.09375 \n",
       "Q 58.015625 40.1875 58.015625 27.296875 \n",
       "Q 58.015625 14.40625 51.78125 6.484375 \n",
       "Q 45.5625 -1.421875 35.59375 -1.421875 \n",
       "Q 29.59375 -1.421875 25.265625 0.953125 \n",
       "Q 20.953125 3.328125 18.109375 8.203125 \n",
       "z\n",
       "M 48.6875 27.296875 \n",
       "Q 48.6875 37.203125 44.609375 42.84375 \n",
       "Q 40.53125 48.484375 33.40625 48.484375 \n",
       "Q 26.265625 48.484375 22.1875 42.84375 \n",
       "Q 18.109375 37.203125 18.109375 27.296875 \n",
       "Q 18.109375 17.390625 22.1875 11.75 \n",
       "Q 26.265625 6.109375 33.40625 6.109375 \n",
       "Q 40.53125 6.109375 44.609375 11.75 \n",
       "Q 48.6875 17.390625 48.6875 27.296875 \n",
       "z\n",
       "\" id=\"DejaVuSans-112\"/>\n",
       "      <path d=\"M 8.5 21.578125 \n",
       "L 8.5 54.6875 \n",
       "L 17.484375 54.6875 \n",
       "L 17.484375 21.921875 \n",
       "Q 17.484375 14.15625 20.5 10.265625 \n",
       "Q 23.53125 6.390625 29.59375 6.390625 \n",
       "Q 36.859375 6.390625 41.078125 11.03125 \n",
       "Q 45.3125 15.671875 45.3125 23.6875 \n",
       "L 45.3125 54.6875 \n",
       "L 54.296875 54.6875 \n",
       "L 54.296875 0 \n",
       "L 45.3125 0 \n",
       "L 45.3125 8.40625 \n",
       "Q 42.046875 3.421875 37.71875 1 \n",
       "Q 33.40625 -1.421875 27.6875 -1.421875 \n",
       "Q 18.265625 -1.421875 13.375 4.4375 \n",
       "Q 8.5 10.296875 8.5 21.578125 \n",
       "z\n",
       "M 31.109375 56 \n",
       "z\n",
       "\" id=\"DejaVuSans-117\"/>\n",
       "      <path d=\"M 2.984375 54.6875 \n",
       "L 12.5 54.6875 \n",
       "L 29.59375 8.796875 \n",
       "L 46.6875 54.6875 \n",
       "L 56.203125 54.6875 \n",
       "L 35.6875 0 \n",
       "L 23.484375 0 \n",
       "z\n",
       "\" id=\"DejaVuSans-118\"/>\n",
       "      <path d=\"M 41.109375 46.296875 \n",
       "Q 39.59375 47.171875 37.8125 47.578125 \n",
       "Q 36.03125 48 33.890625 48 \n",
       "Q 26.265625 48 22.1875 43.046875 \n",
       "Q 18.109375 38.09375 18.109375 28.8125 \n",
       "L 18.109375 0 \n",
       "L 9.078125 0 \n",
       "L 9.078125 54.6875 \n",
       "L 18.109375 54.6875 \n",
       "L 18.109375 46.1875 \n",
       "Q 20.953125 51.171875 25.484375 53.578125 \n",
       "Q 30.03125 56 36.53125 56 \n",
       "Q 37.453125 56 38.578125 55.875 \n",
       "Q 39.703125 55.765625 41.0625 55.515625 \n",
       "z\n",
       "\" id=\"DejaVuSans-114\"/>\n",
       "     </defs>\n",
       "     <use xlink:href=\"#DejaVuSans-112\"/>\n",
       "     <use x=\"63.476562\" xlink:href=\"#DejaVuSans-117\"/>\n",
       "     <use x=\"126.855469\" xlink:href=\"#DejaVuSans-108\"/>\n",
       "     <use x=\"154.638672\" xlink:href=\"#DejaVuSans-108\"/>\n",
       "     <use x=\"182.421875\" xlink:href=\"#DejaVuSans-111\"/>\n",
       "     <use x=\"243.603516\" xlink:href=\"#DejaVuSans-118\"/>\n",
       "     <use x=\"302.783203\" xlink:href=\"#DejaVuSans-101\"/>\n",
       "     <use x=\"364.306641\" xlink:href=\"#DejaVuSans-114\"/>\n",
       "    </g>\n",
       "    <!-- pullover -->\n",
       "    <g transform=\"translate(108.336607 29.7555)scale(0.12 -0.12)\">\n",
       "     <use xlink:href=\"#DejaVuSans-112\"/>\n",
       "     <use x=\"63.476562\" xlink:href=\"#DejaVuSans-117\"/>\n",
       "     <use x=\"126.855469\" xlink:href=\"#DejaVuSans-108\"/>\n",
       "     <use x=\"154.638672\" xlink:href=\"#DejaVuSans-108\"/>\n",
       "     <use x=\"182.421875\" xlink:href=\"#DejaVuSans-111\"/>\n",
       "     <use x=\"243.603516\" xlink:href=\"#DejaVuSans-118\"/>\n",
       "     <use x=\"302.783203\" xlink:href=\"#DejaVuSans-101\"/>\n",
       "     <use x=\"364.306641\" xlink:href=\"#DejaVuSans-114\"/>\n",
       "    </g>\n",
       "   </g>\n",
       "  </g>\n",
       "  <g id=\"axes_3\">\n",
       "   <g id=\"patch_12\">\n",
       "    <path d=\"M 182.882857 107.498357 \n",
       "L 254.625714 107.498357 \n",
       "L 254.625714 35.7555 \n",
       "L 182.882857 35.7555 \n",
       "z\n",
       "\" style=\"fill:#ffffff;\"/>\n",
       "   </g>\n",
       "   <g clip-path=\"url(#pa29c0afdeb)\">\n",
       "    <image height=\"72\" id=\"imagee6dc1d7ab1\" transform=\"scale(1 -1)translate(0 -72)\" width=\"72\" x=\"182.882857\" xlink:href=\"data:image/png;base64,\n",
       "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\" y=\"-35.498357\"/>\n",
       "   </g>\n",
       "   <g id=\"patch_13\">\n",
       "    <path d=\"M 182.882857 107.498357 \n",
       "L 182.882857 35.7555 \n",
       "\" style=\"fill:none;stroke:#000000;stroke-linecap:square;stroke-linejoin:miter;stroke-width:0.8;\"/>\n",
       "   </g>\n",
       "   <g id=\"patch_14\">\n",
       "    <path d=\"M 254.625714 107.498357 \n",
       "L 254.625714 35.7555 \n",
       "\" style=\"fill:none;stroke:#000000;stroke-linecap:square;stroke-linejoin:miter;stroke-width:0.8;\"/>\n",
       "   </g>\n",
       "   <g id=\"patch_15\">\n",
       "    <path d=\"M 182.882857 107.498357 \n",
       "L 254.625714 107.498357 \n",
       "\" style=\"fill:none;stroke:#000000;stroke-linecap:square;stroke-linejoin:miter;stroke-width:0.8;\"/>\n",
       "   </g>\n",
       "   <g id=\"patch_16\">\n",
       "    <path d=\"M 182.882857 35.7555 \n",
       "L 254.625714 35.7555 \n",
       "\" style=\"fill:none;stroke:#000000;stroke-linecap:square;stroke-linejoin:miter;stroke-width:0.8;\"/>\n",
       "   </g>\n",
       "   <g id=\"text_3\">\n",
       "    <!-- trouser -->\n",
       "    <g transform=\"translate(197.312723 16.318125)scale(0.12 -0.12)\">\n",
       "     <defs>\n",
       "      <path d=\"M 44.28125 53.078125 \n",
       "L 44.28125 44.578125 \n",
       "Q 40.484375 46.53125 36.375 47.5 \n",
       "Q 32.28125 48.484375 27.875 48.484375 \n",
       "Q 21.1875 48.484375 17.84375 46.4375 \n",
       "Q 14.5 44.390625 14.5 40.28125 \n",
       "Q 14.5 37.15625 16.890625 35.375 \n",
       "Q 19.28125 33.59375 26.515625 31.984375 \n",
       "L 29.59375 31.296875 \n",
       "Q 39.15625 29.25 43.1875 25.515625 \n",
       "Q 47.21875 21.78125 47.21875 15.09375 \n",
       "Q 47.21875 7.46875 41.1875 3.015625 \n",
       "Q 35.15625 -1.421875 24.609375 -1.421875 \n",
       "Q 20.21875 -1.421875 15.453125 -0.5625 \n",
       "Q 10.6875 0.296875 5.421875 2 \n",
       "L 5.421875 11.28125 \n",
       "Q 10.40625 8.6875 15.234375 7.390625 \n",
       "Q 20.0625 6.109375 24.8125 6.109375 \n",
       "Q 31.15625 6.109375 34.5625 8.28125 \n",
       "Q 37.984375 10.453125 37.984375 14.40625 \n",
       "Q 37.984375 18.0625 35.515625 20.015625 \n",
       "Q 33.0625 21.96875 24.703125 23.78125 \n",
       "L 21.578125 24.515625 \n",
       "Q 13.234375 26.265625 9.515625 29.90625 \n",
       "Q 5.8125 33.546875 5.8125 39.890625 \n",
       "Q 5.8125 47.609375 11.28125 51.796875 \n",
       "Q 16.75 56 26.8125 56 \n",
       "Q 31.78125 56 36.171875 55.265625 \n",
       "Q 40.578125 54.546875 44.28125 53.078125 \n",
       "z\n",
       "\" id=\"DejaVuSans-115\"/>\n",
       "     </defs>\n",
       "     <use xlink:href=\"#DejaVuSans-116\"/>\n",
       "     <use x=\"39.208984\" xlink:href=\"#DejaVuSans-114\"/>\n",
       "     <use x=\"78.072266\" xlink:href=\"#DejaVuSans-111\"/>\n",
       "     <use x=\"139.253906\" xlink:href=\"#DejaVuSans-117\"/>\n",
       "     <use x=\"202.632812\" xlink:href=\"#DejaVuSans-115\"/>\n",
       "     <use x=\"254.732422\" xlink:href=\"#DejaVuSans-101\"/>\n",
       "     <use x=\"316.255859\" xlink:href=\"#DejaVuSans-114\"/>\n",
       "    </g>\n",
       "    <!-- trouser -->\n",
       "    <g transform=\"translate(197.312723 29.7555)scale(0.12 -0.12)\">\n",
       "     <use xlink:href=\"#DejaVuSans-116\"/>\n",
       "     <use x=\"39.208984\" xlink:href=\"#DejaVuSans-114\"/>\n",
       "     <use x=\"78.072266\" xlink:href=\"#DejaVuSans-111\"/>\n",
       "     <use x=\"139.253906\" xlink:href=\"#DejaVuSans-117\"/>\n",
       "     <use x=\"202.632812\" xlink:href=\"#DejaVuSans-115\"/>\n",
       "     <use x=\"254.732422\" xlink:href=\"#DejaVuSans-101\"/>\n",
       "     <use x=\"316.255859\" xlink:href=\"#DejaVuSans-114\"/>\n",
       "    </g>\n",
       "   </g>\n",
       "  </g>\n",
       "  <g id=\"axes_4\">\n",
       "   <g id=\"patch_17\">\n",
       "    <path d=\"M 268.974286 107.498357 \n",
       "L 340.717143 107.498357 \n",
       "L 340.717143 35.7555 \n",
       "L 268.974286 35.7555 \n",
       "z\n",
       "\" style=\"fill:#ffffff;\"/>\n",
       "   </g>\n",
       "   <g clip-path=\"url(#pc3aabf1b91)\">\n",
       "    <image height=\"72\" id=\"image4a00f14a0d\" transform=\"scale(1 -1)translate(0 -72)\" width=\"72\" x=\"268.974286\" xlink:href=\"data:image/png;base64,\n",
       "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\" y=\"-35.498357\"/>\n",
       "   </g>\n",
       "   <g id=\"patch_18\">\n",
       "    <path d=\"M 268.974286 107.498357 \n",
       "L 268.974286 35.7555 \n",
       "\" style=\"fill:none;stroke:#000000;stroke-linecap:square;stroke-linejoin:miter;stroke-width:0.8;\"/>\n",
       "   </g>\n",
       "   <g id=\"patch_19\">\n",
       "    <path d=\"M 340.717143 107.498357 \n",
       "L 340.717143 35.7555 \n",
       "\" style=\"fill:none;stroke:#000000;stroke-linecap:square;stroke-linejoin:miter;stroke-width:0.8;\"/>\n",
       "   </g>\n",
       "   <g id=\"patch_20\">\n",
       "    <path d=\"M 268.974286 107.498357 \n",
       "L 340.717143 107.498357 \n",
       "\" style=\"fill:none;stroke:#000000;stroke-linecap:square;stroke-linejoin:miter;stroke-width:0.8;\"/>\n",
       "   </g>\n",
       "   <g id=\"patch_21\">\n",
       "    <path d=\"M 268.974286 35.7555 \n",
       "L 340.717143 35.7555 \n",
       "\" style=\"fill:none;stroke:#000000;stroke-linecap:square;stroke-linejoin:miter;stroke-width:0.8;\"/>\n",
       "   </g>\n",
       "   <g id=\"text_4\">\n",
       "    <!-- trouser -->\n",
       "    <g transform=\"translate(283.404152 16.318125)scale(0.12 -0.12)\">\n",
       "     <use xlink:href=\"#DejaVuSans-116\"/>\n",
       "     <use x=\"39.208984\" xlink:href=\"#DejaVuSans-114\"/>\n",
       "     <use x=\"78.072266\" xlink:href=\"#DejaVuSans-111\"/>\n",
       "     <use x=\"139.253906\" xlink:href=\"#DejaVuSans-117\"/>\n",
       "     <use x=\"202.632812\" xlink:href=\"#DejaVuSans-115\"/>\n",
       "     <use x=\"254.732422\" xlink:href=\"#DejaVuSans-101\"/>\n",
       "     <use x=\"316.255859\" xlink:href=\"#DejaVuSans-114\"/>\n",
       "    </g>\n",
       "    <!-- trouser -->\n",
       "    <g transform=\"translate(283.404152 29.7555)scale(0.12 -0.12)\">\n",
       "     <use xlink:href=\"#DejaVuSans-116\"/>\n",
       "     <use x=\"39.208984\" xlink:href=\"#DejaVuSans-114\"/>\n",
       "     <use x=\"78.072266\" xlink:href=\"#DejaVuSans-111\"/>\n",
       "     <use x=\"139.253906\" xlink:href=\"#DejaVuSans-117\"/>\n",
       "     <use x=\"202.632812\" xlink:href=\"#DejaVuSans-115\"/>\n",
       "     <use x=\"254.732422\" xlink:href=\"#DejaVuSans-101\"/>\n",
       "     <use x=\"316.255859\" xlink:href=\"#DejaVuSans-114\"/>\n",
       "    </g>\n",
       "   </g>\n",
       "  </g>\n",
       "  <g id=\"axes_5\">\n",
       "   <g id=\"patch_22\">\n",
       "    <path d=\"M 355.065714 107.498357 \n",
       "L 426.808571 107.498357 \n",
       "L 426.808571 35.7555 \n",
       "L 355.065714 35.7555 \n",
       "z\n",
       "\" style=\"fill:#ffffff;\"/>\n",
       "   </g>\n",
       "   <g clip-path=\"url(#p48a1c1756a)\">\n",
       "    <image height=\"72\" id=\"image0ebfb9d0dc\" transform=\"scale(1 -1)translate(0 -72)\" width=\"72\" x=\"355.065714\" xlink:href=\"data:image/png;base64,\n",
       "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\" y=\"-35.498357\"/>\n",
       "   </g>\n",
       "   <g id=\"patch_23\">\n",
       "    <path d=\"M 355.065714 107.498357 \n",
       "L 355.065714 35.7555 \n",
       "\" style=\"fill:none;stroke:#000000;stroke-linecap:square;stroke-linejoin:miter;stroke-width:0.8;\"/>\n",
       "   </g>\n",
       "   <g id=\"patch_24\">\n",
       "    <path d=\"M 426.808571 107.498357 \n",
       "L 426.808571 35.7555 \n",
       "\" style=\"fill:none;stroke:#000000;stroke-linecap:square;stroke-linejoin:miter;stroke-width:0.8;\"/>\n",
       "   </g>\n",
       "   <g id=\"patch_25\">\n",
       "    <path d=\"M 355.065714 107.498357 \n",
       "L 426.808571 107.498357 \n",
       "\" style=\"fill:none;stroke:#000000;stroke-linecap:square;stroke-linejoin:miter;stroke-width:0.8;\"/>\n",
       "   </g>\n",
       "   <g id=\"patch_26\">\n",
       "    <path d=\"M 355.065714 35.7555 \n",
       "L 426.808571 35.7555 \n",
       "\" style=\"fill:none;stroke:#000000;stroke-linecap:square;stroke-linejoin:miter;stroke-width:0.8;\"/>\n",
       "   </g>\n",
       "   <g id=\"text_5\">\n",
       "    <!-- shirt -->\n",
       "    <g transform=\"translate(377.523393 16.318125)scale(0.12 -0.12)\">\n",
       "     <defs>\n",
       "      <path d=\"M 54.890625 33.015625 \n",
       "L 54.890625 0 \n",
       "L 45.90625 0 \n",
       "L 45.90625 32.71875 \n",
       "Q 45.90625 40.484375 42.875 44.328125 \n",
       "Q 39.84375 48.1875 33.796875 48.1875 \n",
       "Q 26.515625 48.1875 22.3125 43.546875 \n",
       "Q 18.109375 38.921875 18.109375 30.90625 \n",
       "L 18.109375 0 \n",
       "L 9.078125 0 \n",
       "L 9.078125 75.984375 \n",
       "L 18.109375 75.984375 \n",
       "L 18.109375 46.1875 \n",
       "Q 21.34375 51.125 25.703125 53.5625 \n",
       "Q 30.078125 56 35.796875 56 \n",
       "Q 45.21875 56 50.046875 50.171875 \n",
       "Q 54.890625 44.34375 54.890625 33.015625 \n",
       "z\n",
       "\" id=\"DejaVuSans-104\"/>\n",
       "      <path d=\"M 9.421875 54.6875 \n",
       "L 18.40625 54.6875 \n",
       "L 18.40625 0 \n",
       "L 9.421875 0 \n",
       "z\n",
       "M 9.421875 75.984375 \n",
       "L 18.40625 75.984375 \n",
       "L 18.40625 64.59375 \n",
       "L 9.421875 64.59375 \n",
       "z\n",
       "\" id=\"DejaVuSans-105\"/>\n",
       "     </defs>\n",
       "     <use xlink:href=\"#DejaVuSans-115\"/>\n",
       "     <use x=\"52.099609\" xlink:href=\"#DejaVuSans-104\"/>\n",
       "     <use x=\"115.478516\" xlink:href=\"#DejaVuSans-105\"/>\n",
       "     <use x=\"143.261719\" xlink:href=\"#DejaVuSans-114\"/>\n",
       "     <use x=\"184.375\" xlink:href=\"#DejaVuSans-116\"/>\n",
       "    </g>\n",
       "    <!-- shirt -->\n",
       "    <g transform=\"translate(377.523393 29.7555)scale(0.12 -0.12)\">\n",
       "     <use xlink:href=\"#DejaVuSans-115\"/>\n",
       "     <use x=\"52.099609\" xlink:href=\"#DejaVuSans-104\"/>\n",
       "     <use x=\"115.478516\" xlink:href=\"#DejaVuSans-105\"/>\n",
       "     <use x=\"143.261719\" xlink:href=\"#DejaVuSans-114\"/>\n",
       "     <use x=\"184.375\" xlink:href=\"#DejaVuSans-116\"/>\n",
       "    </g>\n",
       "   </g>\n",
       "  </g>\n",
       "  <g id=\"axes_6\">\n",
       "   <g id=\"patch_27\">\n",
       "    <path d=\"M 441.157143 107.498357 \n",
       "L 512.9 107.498357 \n",
       "L 512.9 35.7555 \n",
       "L 441.157143 35.7555 \n",
       "z\n",
       "\" style=\"fill:#ffffff;\"/>\n",
       "   </g>\n",
       "   <g clip-path=\"url(#p0ca7092218)\">\n",
       "    <image height=\"72\" id=\"imageaafe407466\" transform=\"scale(1 -1)translate(0 -72)\" width=\"72\" x=\"441.157143\" xlink:href=\"data:image/png;base64,\n",
       "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\" y=\"-35.498357\"/>\n",
       "   </g>\n",
       "   <g id=\"patch_28\">\n",
       "    <path d=\"M 441.157143 107.498357 \n",
       "L 441.157143 35.7555 \n",
       "\" style=\"fill:none;stroke:#000000;stroke-linecap:square;stroke-linejoin:miter;stroke-width:0.8;\"/>\n",
       "   </g>\n",
       "   <g id=\"patch_29\">\n",
       "    <path d=\"M 512.9 107.498357 \n",
       "L 512.9 35.7555 \n",
       "\" style=\"fill:none;stroke:#000000;stroke-linecap:square;stroke-linejoin:miter;stroke-width:0.8;\"/>\n",
       "   </g>\n",
       "   <g id=\"patch_30\">\n",
       "    <path d=\"M 441.157143 107.498357 \n",
       "L 512.9 107.498357 \n",
       "\" style=\"fill:none;stroke:#000000;stroke-linecap:square;stroke-linejoin:miter;stroke-width:0.8;\"/>\n",
       "   </g>\n",
       "   <g id=\"patch_31\">\n",
       "    <path d=\"M 441.157143 35.7555 \n",
       "L 512.9 35.7555 \n",
       "\" style=\"fill:none;stroke:#000000;stroke-linecap:square;stroke-linejoin:miter;stroke-width:0.8;\"/>\n",
       "   </g>\n",
       "   <g id=\"text_6\">\n",
       "    <!-- trouser -->\n",
       "    <g transform=\"translate(455.587009 16.318125)scale(0.12 -0.12)\">\n",
       "     <use xlink:href=\"#DejaVuSans-116\"/>\n",
       "     <use x=\"39.208984\" xlink:href=\"#DejaVuSans-114\"/>\n",
       "     <use x=\"78.072266\" xlink:href=\"#DejaVuSans-111\"/>\n",
       "     <use x=\"139.253906\" xlink:href=\"#DejaVuSans-117\"/>\n",
       "     <use x=\"202.632812\" xlink:href=\"#DejaVuSans-115\"/>\n",
       "     <use x=\"254.732422\" xlink:href=\"#DejaVuSans-101\"/>\n",
       "     <use x=\"316.255859\" xlink:href=\"#DejaVuSans-114\"/>\n",
       "    </g>\n",
       "    <!-- trouser -->\n",
       "    <g transform=\"translate(455.587009 29.7555)scale(0.12 -0.12)\">\n",
       "     <use xlink:href=\"#DejaVuSans-116\"/>\n",
       "     <use x=\"39.208984\" xlink:href=\"#DejaVuSans-114\"/>\n",
       "     <use x=\"78.072266\" xlink:href=\"#DejaVuSans-111\"/>\n",
       "     <use x=\"139.253906\" xlink:href=\"#DejaVuSans-117\"/>\n",
       "     <use x=\"202.632812\" xlink:href=\"#DejaVuSans-115\"/>\n",
       "     <use x=\"254.732422\" xlink:href=\"#DejaVuSans-101\"/>\n",
       "     <use x=\"316.255859\" xlink:href=\"#DejaVuSans-114\"/>\n",
       "    </g>\n",
       "   </g>\n",
       "  </g>\n",
       " </g>\n",
       " <defs>\n",
       "  <clipPath id=\"pd8cdb07c75\">\n",
       "   <rect height=\"71.742857\" width=\"71.742857\" x=\"10.7\" y=\"35.7555\"/>\n",
       "  </clipPath>\n",
       "  <clipPath id=\"pe755295c65\">\n",
       "   <rect height=\"71.742857\" width=\"71.742857\" x=\"96.791429\" y=\"35.7555\"/>\n",
       "  </clipPath>\n",
       "  <clipPath id=\"pa29c0afdeb\">\n",
       "   <rect height=\"71.742857\" width=\"71.742857\" x=\"182.882857\" y=\"35.7555\"/>\n",
       "  </clipPath>\n",
       "  <clipPath id=\"pc3aabf1b91\">\n",
       "   <rect height=\"71.742857\" width=\"71.742857\" x=\"268.974286\" y=\"35.7555\"/>\n",
       "  </clipPath>\n",
       "  <clipPath id=\"p48a1c1756a\">\n",
       "   <rect height=\"71.742857\" width=\"71.742857\" x=\"355.065714\" y=\"35.7555\"/>\n",
       "  </clipPath>\n",
       "  <clipPath id=\"p0ca7092218\">\n",
       "   <rect height=\"71.742857\" width=\"71.742857\" x=\"441.157143\" y=\"35.7555\"/>\n",
       "  </clipPath>\n",
       " </defs>\n",
       "</svg>\n"
      ],
      "text/plain": [
       "<Figure size 648x108 with 6 Axes>"
      ]
     },
     "metadata": {
      "needs_background": "light"
     },
     "output_type": "display_data"
    }
   ],
   "source": [
    "predict_ch3(net, test_iter)"
   ]
  }
 ],
 "metadata": {
  "celltoolbar": "幻灯片",
  "hide_input": false,
  "kernelspec": {
   "display_name": "Python 3",
   "language": "python",
   "name": "python3"
  },
  "language_info": {
   "codemirror_mode": {
    "name": "ipython",
    "version": 3
   },
   "file_extension": ".py",
   "mimetype": "text/x-python",
   "name": "python",
   "nbconvert_exporter": "python",
   "pygments_lexer": "ipython3",
   "version": "3.6.8"
  },
  "latex_envs": {
   "LaTeX_envs_menu_present": true,
   "autoclose": true,
   "autocomplete": true,
   "bibliofile": "biblio.bib",
   "cite_by": "apalike",
   "current_citInitial": 1,
   "eqLabelWithNumbers": true,
   "eqNumInitial": 1,
   "hotkeys": {
    "equation": "Ctrl-E",
    "itemize": "Ctrl-I"
   },
   "labels_anchors": false,
   "latex_user_defs": false,
   "report_style_numbering": false,
   "user_envs_cfg": false
  },
  "rise": {
   "autolaunch": false,
   "enable_chalkboard": true,
   "scroll": true
  },
  "toc": {
   "base_numbering": 1,
   "nav_menu": {},
   "number_sections": true,
   "sideBar": true,
   "skip_h1_title": false,
   "title_cell": "Table of Contents",
   "title_sidebar": "Contents",
   "toc_cell": false,
   "toc_position": {},
   "toc_section_display": true,
   "toc_window_display": false
  },
  "vscode": {
   "interpreter": {
    "hash": "34418ffb6f02e522390adb0e13441cc75f901cd11cccb4f6f613643b4b4d2a0b"
   }
  }
 },
 "nbformat": 4,
 "nbformat_minor": 5
}
