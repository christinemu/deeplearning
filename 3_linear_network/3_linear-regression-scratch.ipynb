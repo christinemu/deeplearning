{
 "cells": [
  {
   "cell_type": "code",
   "execution_count": 66,
   "metadata": {
    "execution": {
     "iopub.execute_input": "2022-07-31T02:22:14.814998Z",
     "iopub.status.busy": "2022-07-31T02:22:14.814437Z",
     "iopub.status.idle": "2022-07-31T02:22:16.705021Z",
     "shell.execute_reply": "2022-07-31T02:22:16.704276Z"
    },
    "init_cell": true,
    "origin_pos": 2,
    "slideshow": {
     "slide_type": "notes"
    },
    "tab": [
     "pytorch"
    ]
   },
   "outputs": [],
   "source": [
    "%matplotlib inline\n",
    "import random\n",
    "import torch\n",
    "import matplotlib.pyplot as plt\n",
    "from IPython.core.interactiveshell import InteractiveShell\n",
    "InteractiveShell.ast_node_interactivity = \"all\""
   ]
  },
  {
   "cell_type": "markdown",
   "metadata": {
    "slideshow": {
     "slide_type": "slide"
    }
   },
   "source": [
    "# 线性回归的从零开始实现"
   ]
  },
  {
   "cell_type": "markdown",
   "metadata": {
    "slideshow": {
     "slide_type": "slide"
    }
   },
   "source": [
    "## 线形回归的基本元素"
   ]
  },
  {
   "cell_type": "markdown",
   "metadata": {
    "slideshow": {
     "slide_type": "fragment"
    }
   },
   "source": [
    "### 线形模型"
   ]
  },
  {
   "cell_type": "markdown",
   "metadata": {
    "slideshow": {
     "slide_type": "fragment"
    }
   },
   "source": [
    "- 假设数据集有$d$个特征，对于第$i$个样本，特征为集合$\\{x_{1}^{(i)},x_{2}^{(i)},\\cdots,x_{d}^{(i)}\\}$，则该样本的预测结果$\\hat{y}^{(i)}$可以表示为\n",
    "\n",
    "$$\n",
    "\\hat{y}^{(i)}=w_1x_{1}^{(i)}+w_2x_{2}^{(i)}+\\cdots+w_dx_{d}^{(i)}+b\n",
    "\\label{eq:lineareqn}\n",
    "$$"
   ]
  },
  {
   "cell_type": "markdown",
   "metadata": {
    "slideshow": {
     "slide_type": "fragment"
    }
   },
   "source": [
    "- 第$i$个样本的所有特征用向量$\\boldsymbol{x}_i\\in\\mathbb{R}^d$表示，所有权重用向量$\\boldsymbol{w}\\in \\mathbb{R}^d$表示，则式\\eqref{eq:lineareqn}可用向量表示为\n",
    "\n",
    "$$\n",
    "\\hat{y}^{(i)}=\\boldsymbol{w}^T\\boldsymbol{x}^{(i)}+b\n",
    "\\label{eq:linearvec}\n",
    "$$"
   ]
  },
  {
   "cell_type": "markdown",
   "metadata": {
    "slideshow": {
     "slide_type": "fragment"
    }
   },
   "source": [
    "- 全部数据集（含有$n$个样本）的特征用矩阵$\\mathbf{X}\\in\\mathbb{R}^{n\\times d}$表示，所有样本的预测值用向量$\\hat{\\boldsymbol{y}}\\in\\mathbb{R}^n$表示，则线性模型可表示为\n",
    "\n",
    "$$\n",
    "\\hat{\\boldsymbol{y}}=\\mathbf{X}\\boldsymbol{w}+b \n",
    "\\label{eq:linearmatrix}\n",
    "$$"
   ]
  },
  {
   "cell_type": "markdown",
   "metadata": {
    "slideshow": {
     "slide_type": "fragment"
    }
   },
   "source": [
    "- 线性模型的目标是求解**模型参数**（model parameters）\n",
    "    - $\\boldsymbol{w}$\n",
    "    - $b$"
   ]
  },
  {
   "cell_type": "markdown",
   "metadata": {
    "slideshow": {
     "slide_type": "slide"
    }
   },
   "source": [
    "### 损失函数"
   ]
  },
  {
   "cell_type": "markdown",
   "metadata": {
    "slideshow": {
     "slide_type": "fragment"
    }
   },
   "source": [
    "\\begin{definition}\\label{def:lossfun}\n",
    "损失函数（loss function）：量化目标的实际值与预测值之间的差距。\n",
    "\\end{definition}"
   ]
  },
  {
   "cell_type": "markdown",
   "metadata": {
    "slideshow": {
     "slide_type": "fragment"
    }
   },
   "source": [
    "- 通常选择**非负数**作为损失，且**数值越小表示损失越小**，完美预测时的损失为0"
   ]
  },
  {
   "cell_type": "markdown",
   "metadata": {
    "slideshow": {
     "slide_type": "fragment"
    }
   },
   "source": [
    "- 对于线形模型\\eqref{eq:linearvec}，真实值为$y^{(i)}$，预测值为$\\hat{y}^{(i)}$，可以用**平方误差**函数作为损失函数\n",
    "\n",
    "$$l^{(i)}(\\boldsymbol{w}, b) = \\frac{1}{2} \\left(\\hat{y}^{(i)} - y^{(i)}\\right)^2.$$"
   ]
  },
  {
   "cell_type": "markdown",
   "metadata": {
    "slideshow": {
     "slide_type": "fragment"
    }
   },
   "source": [
    "- 为度量模型在整个数据集上的质量，需计算在训练集$n$个样本上的损失均值，即\n",
    "\n",
    "$$L(\\boldsymbol{w}, b) =\\frac{1}{n}\\sum_{i=1}^n l^{(i)}(\\boldsymbol{w}, b) =\\frac{1}{n} \\sum_{i=1}^n \\frac{1}{2}\\left(\\boldsymbol{w}^\\top \\boldsymbol{x}^{(i)} + b - y^{(i)}\\right)^2.$$"
   ]
  },
  {
   "cell_type": "markdown",
   "metadata": {
    "slideshow": {
     "slide_type": "fragment"
    }
   },
   "source": [
    "- 线形模型\\eqref{eq:linearmatrix}的优化目标为\n",
    "\n",
    "$$\\boldsymbol{w}^*, b^* = \\operatorname*{argmin}_{\\boldsymbol{w}, b}\\  L(\\boldsymbol{w}, b).\n",
    "\\label{eq:linearobj}\n",
    "$$"
   ]
  },
  {
   "cell_type": "markdown",
   "metadata": {
    "slideshow": {
     "slide_type": "slide"
    }
   },
   "source": [
    "### 随机梯度下降，求解式\\eqref{eq:linearobj}"
   ]
  },
  {
   "cell_type": "markdown",
   "metadata": {
    "slideshow": {
     "slide_type": "fragment"
    }
   },
   "source": [
    "\\begin{definition}\\label{def:gradientdescent}\n",
    "**梯度下降**（gradient descent）：通过不断地在损失函数递减的方向上更新参数来降低误差。\n",
    "\\end{definition}\n"
   ]
  },
  {
   "cell_type": "markdown",
   "metadata": {
    "slideshow": {
     "slide_type": "fragment"
    }
   },
   "source": [
    "- 计算损失函数（数据集中所有样本的损失均值）关于模型参数的导数（在这里也可以称为梯度）\n",
    "- 但需遍历整个数据集，执行速度慢"
   ]
  },
  {
   "cell_type": "markdown",
   "metadata": {
    "slideshow": {
     "slide_type": "fragment"
    }
   },
   "source": [
    "\\begin{definition}\\label{def:minibatchdescent}\n",
    "**小批量随机梯度下降**（minibatch stochastic gradient descent）：在每次需要计算更新的时候随机抽取一小批样本计算损失函数的梯度，更新参数。\n",
    "\\end{definition}\n"
   ]
  },
  {
   "cell_type": "markdown",
   "metadata": {
    "slideshow": {
     "slide_type": "fragment"
    }
   },
   "source": [
    "- 首先，随机抽样一个小批量$\\mathcal{B}$，它是由**固定数量**的训练样本组成的。\n",
    "- 然后，计算小批量的平均损失关于模型参数的导数（也可以称为梯度）。\n",
    "- 最后，将梯度乘以一个预先确定的正数$\\eta$，并从当前参数的值中减掉。"
   ]
  },
  {
   "cell_type": "markdown",
   "metadata": {
    "slideshow": {
     "slide_type": "slide"
    }
   },
   "source": [
    "$$(\\boldsymbol{w},b) \\leftarrow (\\boldsymbol{w},b) - \\frac{\\eta}{|\\mathcal{B}|} \\sum_{i \\in \\mathcal{B}} \\partial_{(\\boldsymbol{w},b)} l^{(i)}(\\boldsymbol{w},b).$$\n",
    "\n",
    "上式中，$|\\mathcal{B}|$表示每个小批量中的样本数，称为**批量大小**（batch size），$\\eta$表示**学习率**（learning rate）。"
   ]
  },
  {
   "cell_type": "markdown",
   "metadata": {
    "slideshow": {
     "slide_type": "fragment"
    }
   },
   "source": [
    "\\begin{definition}\\label{def:hyperpara}\n",
    "**超参数**（hyperparameter）：可以调整但不在训练过程中更新的参数。\n",
    "\\end{definition}\n"
   ]
  },
  {
   "cell_type": "markdown",
   "metadata": {
    "slideshow": {
     "slide_type": "fragment"
    }
   },
   "source": [
    "\\begin{definition}\\label{def:tuning}\n",
    "**调参**（hyperparameter tuning）：选择超参数的过程。\n",
    "\\end{definition}\n"
   ]
  },
  {
   "cell_type": "markdown",
   "metadata": {
    "slideshow": {
     "slide_type": "slide"
    }
   },
   "source": [
    "### 线性模型的神经网络表达"
   ]
  },
  {
   "cell_type": "markdown",
   "metadata": {
    "slideshow": {
     "slide_type": "fragment"
    }
   },
   "source": [
    "- 线性回归可表示成一个**单层神经网络**"
   ]
  },
  {
   "cell_type": "markdown",
   "metadata": {
    "slideshow": {
     "slide_type": "fragment"
    }
   },
   "source": [
    "<center><img src=\"../img/3_linear_network/singleneuron.svg\" width=80%></center>"
   ]
  },
  {
   "cell_type": "markdown",
   "metadata": {
    "slideshow": {
     "slide_type": "fragment"
    }
   },
   "source": [
    "\\begin{definition}\\label{def:denseLayer}\n",
    "**全连接层**（fully-connected layer）：每个输入都与每个输出相连，或称为**稠密层**（dense layer）。\n",
    "\\end{definition}\n"
   ]
  },
  {
   "cell_type": "markdown",
   "metadata": {
    "slideshow": {
     "slide_type": "slide"
    }
   },
   "source": [
    "## 生成样本数据"
   ]
  },
  {
   "cell_type": "markdown",
   "metadata": {
    "slideshow": {
     "slide_type": "fragment"
    }
   },
   "source": [
    "根据带有噪声的线性模型构造一个人造数据集。使用线性模型参数$\\boldsymbol{w} = [2, -3.4]^\\top$、$b = 4.2$\n",
    "和噪声项$\\varepsilon$生成数据集及其标签：\n",
    "\n",
    "$$\\boldsymbol{y}= \\mathbf{X} \\boldsymbol{w} + b + \\boldsymbol{\\varepsilon}$$\n",
    "\n",
    "其中，$\\varepsilon$服从均值为0的正态分布，不妨将其标准差设为0.01。"
   ]
  },
  {
   "cell_type": "code",
   "execution_count": 21,
   "metadata": {
    "execution": {
     "iopub.execute_input": "2022-07-31T02:22:16.717009Z",
     "iopub.status.busy": "2022-07-31T02:22:16.716673Z",
     "iopub.status.idle": "2022-07-31T02:22:16.720862Z",
     "shell.execute_reply": "2022-07-31T02:22:16.720150Z"
    },
    "origin_pos": 7,
    "slideshow": {
     "slide_type": "fragment"
    },
    "tab": [
     "pytorch"
    ]
   },
   "outputs": [],
   "source": [
    "def synthetic_data(w, b, num_examples):  \n",
    "    \"\"\"生成y=Xw+b+噪声\"\"\"\n",
    "    X = torch.normal(0, 1, (num_examples, len(w)))\n",
    "    y = torch.matmul(X, w) + b\n",
    "    y += torch.normal(0, 0.01, y.shape) # y.shape: torch.Size([1000,1])\n",
    "    return X, y # y.shape: torch.Size([1000, 1])"
   ]
  },
  {
   "cell_type": "markdown",
   "metadata": {
    "slideshow": {
     "slide_type": "fragment"
    }
   },
   "source": [
    "```python\n",
    "torch.normal(mean, std, size, *, out=None)\n",
    "```\n",
    "- 生成正态分布的张量\n",
    "- `size`：由整数构成的元祖，定义生成的张量的形状"
   ]
  },
  {
   "cell_type": "code",
   "execution_count": 22,
   "metadata": {
    "slideshow": {
     "slide_type": "fragment"
    }
   },
   "outputs": [],
   "source": [
    "true_w = torch.tensor([2, -3.4]).reshape((-1,1))  #变成列向量\n",
    "true_b = 4.2\n",
    "features, labels = synthetic_data(true_w, true_b, 1000)"
   ]
  },
  {
   "cell_type": "markdown",
   "metadata": {
    "slideshow": {
     "slide_type": "fragment"
    }
   },
   "source": [
    "- `features`中的每一行都包含一个二维数据样本，`labels`中的每一行都包含一维标签值（一个标量）"
   ]
  },
  {
   "cell_type": "code",
   "execution_count": 23,
   "metadata": {
    "execution": {
     "iopub.execute_input": "2022-07-31T02:22:16.725012Z",
     "iopub.status.busy": "2022-07-31T02:22:16.724588Z",
     "iopub.status.idle": "2022-07-31T02:22:16.730034Z",
     "shell.execute_reply": "2022-07-31T02:22:16.729030Z"
    },
    "origin_pos": 9,
    "slideshow": {
     "slide_type": "fragment"
    },
    "tab": [
     "pytorch"
    ]
   },
   "outputs": [
    {
     "name": "stdout",
     "output_type": "stream",
     "text": [
      "features: tensor([1.3937, 0.4697]) \n",
      "label: tensor([5.3929])\n"
     ]
    }
   ],
   "source": [
    "print(f'features: {features[0]} \\nlabel: {labels[0]}')"
   ]
  },
  {
   "cell_type": "markdown",
   "metadata": {
    "slideshow": {
     "slide_type": "slide"
    }
   },
   "source": [
    "- 绘制散点图观察特征与标签之间的关系"
   ]
  },
  {
   "cell_type": "code",
   "execution_count": 28,
   "metadata": {
    "execution": {
     "iopub.execute_input": "2022-07-31T02:22:16.734892Z",
     "iopub.status.busy": "2022-07-31T02:22:16.734207Z",
     "iopub.status.idle": "2022-07-31T02:22:16.948832Z",
     "shell.execute_reply": "2022-07-31T02:22:16.948171Z"
    },
    "origin_pos": 11,
    "slideshow": {
     "slide_type": "fragment"
    },
    "tab": [
     "pytorch"
    ]
   },
   "outputs": [
    {
     "data": {
      "text/plain": [
       "<matplotlib.collections.PathCollection at 0x7f60b4647208>"
      ]
     },
     "execution_count": 28,
     "metadata": {},
     "output_type": "execute_result"
    },
    {
     "data": {
      "image/png": "[encoded data removed]",
      "text/plain": [
       "<Figure size 432x288 with 1 Axes>"
      ]
     },
     "metadata": {
      "needs_background": "light"
     },
     "output_type": "display_data"
    }
   ],
   "source": [
    "plt.scatter(features[:, (0)].numpy(), labels.numpy(),s=10)"
   ]
  },
  {
   "cell_type": "markdown",
   "metadata": {
    "slideshow": {
     "slide_type": "slide"
    }
   },
   "source": [
    "## 读取数据集"
   ]
  },
  {
   "cell_type": "markdown",
   "metadata": {
    "slideshow": {
     "slide_type": "fragment"
    }
   },
   "source": [
    "- 定义一个函数，能**打乱数据集中的样本顺序**并以小批量方式获取数据"
   ]
  },
  {
   "cell_type": "markdown",
   "metadata": {
    "slideshow": {
     "slide_type": "fragment"
    }
   },
   "source": [
    "- 定义一个`data_iter`函数，该函数接收批量大小、特征矩阵和标签向量作为输入，生成大小为`batch_size`的小批量"
   ]
  },
  {
   "cell_type": "code",
   "execution_count": 32,
   "metadata": {
    "execution": {
     "iopub.execute_input": "2022-07-31T02:22:16.964710Z",
     "iopub.status.busy": "2022-07-31T02:22:16.964288Z",
     "iopub.status.idle": "2022-07-31T02:22:16.970713Z",
     "shell.execute_reply": "2022-07-31T02:22:16.970081Z"
    },
    "origin_pos": 16,
    "slideshow": {
     "slide_type": "fragment"
    },
    "tab": [
     "pytorch"
    ]
   },
   "outputs": [],
   "source": [
    "def data_iter(batch_size, features, labels):\n",
    "    num_examples = len(features)            # 获取数据集的样本数量\n",
    "    indices = list(range(num_examples))     # 生成位置列表\n",
    "    random.shuffle(indices)                 # 对数据随机排序\n",
    "    for i in range(0, num_examples, batch_size):\n",
    "        batch_indices = torch.tensor(\n",
    "            indices[i: min(i + batch_size, num_examples)])   # 记录抽取的数据位置\n",
    "        yield features[batch_indices], labels[batch_indices] # 用yield关键字生成一个iterator"
   ]
  },
  {
   "cell_type": "code",
   "execution_count": 33,
   "metadata": {
    "slideshow": {
     "slide_type": "fragment"
    }
   },
   "outputs": [
    {
     "name": "stdout",
     "output_type": "stream",
     "text": [
      "X为tensor([[-0.4471,  0.4029],\n",
      "        [ 0.7657, -0.4713],\n",
      "        [ 0.2101, -1.3732],\n",
      "        [-1.3949,  0.5373],\n",
      "        [-0.8662, -0.8761],\n",
      "        [-0.4696,  0.0054],\n",
      "        [ 0.4594,  0.5837],\n",
      "        [ 2.7690,  0.2098],\n",
      "        [ 0.3587, -1.4239],\n",
      "        [ 0.0238, -0.8170]])\n",
      "y为tensor([[ 1.9385],\n",
      "        [ 7.3325],\n",
      "        [ 9.2775],\n",
      "        [-0.4222],\n",
      "        [ 5.4489],\n",
      "        [ 3.2386],\n",
      "        [ 3.1290],\n",
      "        [ 9.0340],\n",
      "        [ 9.7566],\n",
      "        [ 7.0458]])\n"
     ]
    }
   ],
   "source": [
    "batch_size = 10\n",
    "\n",
    "for X, y in data_iter(batch_size, features, labels):\n",
    "    print(f'X为{X}\\ny为{y}')\n",
    "    break"
   ]
  },
  {
   "cell_type": "markdown",
   "metadata": {
    "slideshow": {
     "slide_type": "slide"
    }
   },
   "source": [
    "## 初始化模型参数"
   ]
  },
  {
   "cell_type": "markdown",
   "metadata": {
    "slideshow": {
     "slide_type": "fragment"
    }
   },
   "source": [
    "- 通过从均值为0、标准差为0.01的正态分布中采样随机数来初始化权重\n",
    "- 将偏置初始化为0"
   ]
  },
  {
   "cell_type": "code",
   "execution_count": 29,
   "metadata": {
    "execution": {
     "iopub.execute_input": "2022-07-31T02:22:16.974692Z",
     "iopub.status.busy": "2022-07-31T02:22:16.974223Z",
     "iopub.status.idle": "2022-07-31T02:22:16.978612Z",
     "shell.execute_reply": "2022-07-31T02:22:16.977979Z"
    },
    "origin_pos": 19,
    "slideshow": {
     "slide_type": "fragment"
    },
    "tab": [
     "pytorch"
    ]
   },
   "outputs": [],
   "source": [
    "w = torch.normal(0, 0.01, size=(2,1), requires_grad=True)  # 记录偏导数\n",
    "b = torch.zeros(1, requires_grad=True)"
   ]
  },
  {
   "cell_type": "markdown",
   "metadata": {
    "slideshow": {
     "slide_type": "slide"
    }
   },
   "source": [
    "## 定义模型"
   ]
  },
  {
   "cell_type": "markdown",
   "metadata": {
    "slideshow": {
     "slide_type": "fragment"
    }
   },
   "source": [
    "- 将模型的输入和参数同模型的输出关联起来"
   ]
  },
  {
   "cell_type": "code",
   "execution_count": 30,
   "metadata": {
    "execution": {
     "iopub.execute_input": "2022-07-31T02:22:16.982895Z",
     "iopub.status.busy": "2022-07-31T02:22:16.982343Z",
     "iopub.status.idle": "2022-07-31T02:22:16.985872Z",
     "shell.execute_reply": "2022-07-31T02:22:16.985262Z"
    },
    "origin_pos": 22,
    "slideshow": {
     "slide_type": "fragment"
    },
    "tab": [
     "pytorch"
    ]
   },
   "outputs": [],
   "source": [
    "def linreg(X, w, b):  # net\n",
    "    \"\"\"线性回归模型\"\"\"\n",
    "    return torch.matmul(X, w) + b"
   ]
  },
  {
   "cell_type": "markdown",
   "metadata": {
    "slideshow": {
     "slide_type": "slide"
    }
   },
   "source": [
    "## 定义损失函数"
   ]
  },
  {
   "cell_type": "code",
   "execution_count": 31,
   "metadata": {
    "execution": {
     "iopub.execute_input": "2022-07-31T02:22:16.989920Z",
     "iopub.status.busy": "2022-07-31T02:22:16.989411Z",
     "iopub.status.idle": "2022-07-31T02:22:16.993061Z",
     "shell.execute_reply": "2022-07-31T02:22:16.992350Z"
    },
    "origin_pos": 24,
    "slideshow": {
     "slide_type": "fragment"
    },
    "tab": [
     "pytorch"
    ]
   },
   "outputs": [],
   "source": [
    "def squared_loss(y_hat, y):\n",
    "    \"\"\"均方损失\n",
    "    y_hat：预测值\n",
    "    y：真值\n",
    "    \"\"\"   \n",
    "    return (y_hat - y.reshape(y_hat.shape)) ** 2 / 2  # 将y转换为与y_hat相同的形状"
   ]
  },
  {
   "cell_type": "markdown",
   "metadata": {
    "slideshow": {
     "slide_type": "slide"
    }
   },
   "source": [
    "## 定义优化算法"
   ]
  },
  {
   "cell_type": "markdown",
   "metadata": {
    "slideshow": {
     "slide_type": "fragment"
    }
   },
   "source": [
    "- 实现小批量随机梯度下降算法"
   ]
  },
  {
   "cell_type": "code",
   "execution_count": 34,
   "metadata": {
    "execution": {
     "iopub.execute_input": "2022-07-31T02:22:16.997231Z",
     "iopub.status.busy": "2022-07-31T02:22:16.996703Z",
     "iopub.status.idle": "2022-07-31T02:22:17.001042Z",
     "shell.execute_reply": "2022-07-31T02:22:17.000440Z"
    },
    "origin_pos": 27,
    "slideshow": {
     "slide_type": "fragment"
    },
    "tab": [
     "pytorch"
    ]
   },
   "outputs": [],
   "source": [
    "def sgd(params, lr, batch_size):  # params: [w,b]\n",
    "    \"\"\"小批量随机梯度下降\n",
    "    lr：学习速率\n",
    "    \"\"\"\n",
    "    with torch.no_grad(): # 在该上下文管理器下，所有计算得出的tensor的requires_grad都自动设置为False。\n",
    "        for param in params:\n",
    "            param -= lr * param.grad / batch_size  # 更新参数，学习速率lr控制更新大小，批量大小batch_size规范化步长\n",
    "            param.grad.zero_() # 为什么要将梯度置零？"
   ]
  },
  {
   "cell_type": "markdown",
   "metadata": {
    "slideshow": {
     "slide_type": "fragment"
    }
   },
   "source": [
    "```python\n",
    "torch.no_grad\n",
    "```\n",
    "- 上下文管理器（context manager），使梯度计算失效。当不需要使用`Tensor.backward()`的时候，使梯度计算失效可以节省计算梯度占用的内存\n",
    "- 即使输入的`requires_grad=True`，利用该上下文管理器后，计算出来的`Tensor`的`requires_grad=False`"
   ]
  },
  {
   "cell_type": "markdown",
   "metadata": {
    "slideshow": {
     "slide_type": "slide"
    }
   },
   "source": [
    "## 正式开始训练"
   ]
  },
  {
   "cell_type": "markdown",
   "metadata": {
    "slideshow": {
     "slide_type": "fragment"
    }
   },
   "source": [
    "- 训练的流程\n",
    "    * 初始化参数\n",
    "    * 重复以下训练，直到完成\n",
    "        * 读取批量数据，获得预测，计算损失\n",
    "        * 计算梯度$\\mathbf{g} \\leftarrow \\partial_{(\\boldsymbol{w},b)} \\frac{1}{|\\mathcal{B}|} \\sum_{i \\in \\mathcal{B}} l(\\mathbf{x}^{(i)}, y^{(i)}, \\boldsymbol{w}, b)$\n",
    "        * 更新参数$(\\boldsymbol{w}, b) \\leftarrow (\\boldsymbol{w}, b) - \\eta \\mathbf{g}$"
   ]
  },
  {
   "cell_type": "markdown",
   "metadata": {
    "slideshow": {
     "slide_type": "fragment"
    }
   },
   "source": [
    "\\begin{definition}\\label{def:epoch}\n",
    "**迭代周期**（epoch）：使用训练集的全部数据对模型进行一次完整训练，也被称为**一代训练**\n",
    "\\end{definition}\n"
   ]
  },
  {
   "cell_type": "markdown",
   "metadata": {
    "slideshow": {
     "slide_type": "fragment"
    }
   },
   "source": [
    "- 在每个迭代周期（epoch）中，使用data_iter函数遍历整个数据集， 并将训练数据集中所有样本都使用一次（假设样本数能够被批量大小整除）"
   ]
  },
  {
   "cell_type": "markdown",
   "metadata": {
    "slideshow": {
     "slide_type": "slide"
    }
   },
   "source": [
    "- 训练流程\n",
    "\n",
    "<center><img src=\"../img/3_linear_network/epochMiniBatchTraining.svg\" width=55%></center>"
   ]
  },
  {
   "cell_type": "code",
   "execution_count": 37,
   "metadata": {
    "execution": {
     "iopub.execute_input": "2022-07-31T02:22:17.011859Z",
     "iopub.status.busy": "2022-07-31T02:22:17.011351Z",
     "iopub.status.idle": "2022-07-31T02:22:17.128087Z",
     "shell.execute_reply": "2022-07-31T02:22:17.127385Z"
    },
    "origin_pos": 32,
    "slideshow": {
     "slide_type": "slide"
    },
    "tab": [
     "pytorch"
    ]
   },
   "outputs": [
    {
     "name": "stdout",
     "output_type": "stream",
     "text": [
      "epoch 1, loss 0.009596\n",
      "epoch 2, loss 0.001577\n",
      "epoch 3, loss 0.000296\n",
      "epoch 4, loss 0.000089\n",
      "epoch 5, loss 0.000057\n"
     ]
    }
   ],
   "source": [
    "lr = 0.01  # 超参\n",
    "num_epochs = 5  # 超参\n",
    "net = linreg    # 实例回归模型\n",
    "loss = squared_loss # 实例损失函数\n",
    "\n",
    "for epoch in range(num_epochs):\n",
    "    for X, y in data_iter(batch_size, features, labels):    # 遍历全部数据集\n",
    "        l = loss(net(X, w, b), y)                           # net(X,w,b)预测，loss(net,y)计算损失\n",
    "        l.sum().backward()                                  # 反向传播计算参数的梯度（偏导数）\n",
    "        sgd([w, b], lr, batch_size)                         # 更新参数\n",
    "    with torch.no_grad(): \n",
    "        train_l = loss(net(features, w, b), labels)         # 一个epoch输出一次优化的参数与损失\n",
    "        print(f'epoch {epoch + 1}, loss {float(train_l.mean()):f}')"
   ]
  },
  {
   "cell_type": "markdown",
   "metadata": {
    "slideshow": {
     "slide_type": "slide"
    }
   },
   "source": [
    "比较真实参数和通过训练学到的参数"
   ]
  },
  {
   "cell_type": "code",
   "execution_count": 38,
   "metadata": {
    "execution": {
     "iopub.execute_input": "2022-07-31T02:22:17.132400Z",
     "iopub.status.busy": "2022-07-31T02:22:17.131912Z",
     "iopub.status.idle": "2022-07-31T02:22:17.137249Z",
     "shell.execute_reply": "2022-07-31T02:22:17.136497Z"
    },
    "origin_pos": 35,
    "slideshow": {
     "slide_type": "fragment"
    },
    "tab": [
     "pytorch"
    ]
   },
   "outputs": [
    {
     "name": "stdout",
     "output_type": "stream",
     "text": [
      "w的估计误差: tensor([[ 0.0015],\n",
      "        [-0.0029]], grad_fn=<SubBackward0>)\n",
      "b的估计误差: tensor([0.0016], grad_fn=<RsubBackward1>)\n"
     ]
    }
   ],
   "source": [
    "print(f'w的估计误差: {true_w - w.reshape(true_w.shape)}')\n",
    "print(f'b的估计误差: {true_b - b}')"
   ]
  }
 ],
 "metadata": {
  "celltoolbar": "幻灯片",
  "hide_input": false,
  "kernelspec": {
   "display_name": "Python 3",
   "language": "python",
   "name": "python3"
  },
  "language_info": {
   "codemirror_mode": {
    "name": "ipython",
    "version": 3
   },
   "file_extension": ".py",
   "mimetype": "text/x-python",
   "name": "python",
   "nbconvert_exporter": "python",
   "pygments_lexer": "ipython3",
   "version": "3.6.8"
  },
  "latex_envs": {
   "LaTeX_envs_menu_present": true,
   "autoclose": true,
   "autocomplete": true,
   "bibliofile": "biblio.bib",
   "cite_by": "apalike",
   "current_citInitial": 1,
   "eqLabelWithNumbers": true,
   "eqNumInitial": 1,
   "hotkeys": {
    "equation": "Ctrl-E",
    "itemize": "Ctrl-I"
   },
   "labels_anchors": false,
   "latex_user_defs": false,
   "report_style_numbering": false,
   "user_envs_cfg": false
  },
  "rise": {
   "autolaunch": false,
   "enable_chalkboard": true,
   "scroll": true
  },
  "toc": {
   "base_numbering": 1,
   "nav_menu": {},
   "number_sections": true,
   "sideBar": true,
   "skip_h1_title": false,
   "title_cell": "Table of Contents",
   "title_sidebar": "Contents",
   "toc_cell": false,
   "toc_position": {},
   "toc_section_display": true,
   "toc_window_display": false
  },
  "vscode": {
   "interpreter": {
    "hash": "34418ffb6f02e522390adb0e13441cc75f901cd11cccb4f6f613643b4b4d2a0b"
   }
  }
 },
 "nbformat": 4,
 "nbformat_minor": 5
}
