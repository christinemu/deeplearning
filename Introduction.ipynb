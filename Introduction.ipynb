{
 "cells": [
  {
   "cell_type": "markdown",
   "id": "03599b8e",
   "metadata": {
    "slideshow": {
     "slide_type": "slide"
    }
   },
   "source": [
    "<div class=\"jumbotron\">\n",
    "    <h1 class=\"display-1\">人工智能与深度学习</h1>\n",
    "    <hr class=\"my-4\">\n",
    "    <p>主讲：李岩</p>\n",
    "    <p>管理学院</p>\n",
    "    <p>liyan@cumtb.edu.cn</p>\n",
    "</div>"
   ]
  },
  {
   "cell_type": "markdown",
   "id": "a742ba50",
   "metadata": {
    "slideshow": {
     "slide_type": "slide"
    }
   },
   "source": [
    "## 从自动化到智能化"
   ]
  },
  {
   "cell_type": "markdown",
   "id": "02909acf",
   "metadata": {
    "slideshow": {
     "slide_type": "fragment"
    }
   },
   "source": [
    "### 自动化"
   ]
  },
  {
   "cell_type": "markdown",
   "id": "e2ecdbb9",
   "metadata": {
    "slideshow": {
     "slide_type": "fragment"
    }
   },
   "source": [
    "- 自动化：将人类的业务逻辑转变为能够自动运行的应用程序\n",
    "    - 具有形式化的规则"
   ]
  },
  {
   "cell_type": "markdown",
   "id": "fb135180",
   "metadata": {
    "slideshow": {
     "slide_type": "fragment"
    }
   },
   "source": [
    "- 例如，MRP、ERP、RPA"
   ]
  },
  {
   "cell_type": "markdown",
   "id": "ff075aff",
   "metadata": {
    "slideshow": {
     "slide_type": "fragment"
    }
   },
   "source": [
    "- 可以解决对人类来说特别复杂，但对计算机而言很容易的问题"
   ]
  },
  {
   "cell_type": "markdown",
   "id": "2e1912bb",
   "metadata": {
    "slideshow": {
     "slide_type": "fragment"
    }
   },
   "source": [
    "- 例如，象棋、五子棋、数独游戏等"
   ]
  },
  {
   "cell_type": "markdown",
   "id": "f5787473",
   "metadata": {
    "slideshow": {
     "slide_type": "slide"
    }
   },
   "source": [
    "- 但，另外一些问题则不易被形式化规则所描述"
   ]
  },
  {
   "cell_type": "markdown",
   "id": "6aa2cc7d",
   "metadata": {
    "slideshow": {
     "slide_type": "fragment"
    }
   },
   "source": [
    "- 例如，接受地理信息、卫星图像和一些历史天气信息，预测明天的天气\n",
    "- 理解自然文本表示的问题，正确回答该问题\n",
    "- 接受一张图像，识别出该图像所包含的人，并在每个人周围绘制轮廓"
   ]
  },
  {
   "cell_type": "markdown",
   "id": "c9250675",
   "metadata": {
    "slideshow": {
     "slide_type": "fragment"
    }
   },
   "source": [
    "- 上述这些问题的共性：很难写出完美的形式化规则"
   ]
  },
  {
   "cell_type": "markdown",
   "id": "ce7a7d14",
   "metadata": {
    "slideshow": {
     "slide_type": "fragment"
    }
   },
   "source": [
    "\\begin{problem}\\label{prob:imperfectrules}\n",
    "如何解决上述问题？\n",
    "\\end{problem}\n"
   ]
  },
  {
   "cell_type": "markdown",
   "id": "94d38911",
   "metadata": {
    "slideshow": {
     "slide_type": "slide"
    }
   },
   "source": [
    "### 表示"
   ]
  },
  {
   "cell_type": "markdown",
   "id": "2e682a45",
   "metadata": {
    "slideshow": {
     "slide_type": "fragment"
    }
   },
   "source": [
    "- 一种方式用形式化的语言将知识硬编码（hard-code），计算机利用逻辑推理规则自动理解形式化语言\n",
    "    - 人工智能知识库（knowledge base）"
   ]
  },
  {
   "cell_type": "markdown",
   "id": "360b1fb0",
   "metadata": {
    "slideshow": {
     "slide_type": "fragment"
    }
   },
   "source": [
    "- 最著名的人工智能知识库是Cyc项目，包括\n",
    "    - 一个推理引擎\n",
    "    - 由CycL语言描述的声明数据库，由人输入完成\n",
    "    - [https://cyc.com/platform/](https://cyc.com/platform/)"
   ]
  },
  {
   "cell_type": "markdown",
   "id": "92ae87d7",
   "metadata": {
    "slideshow": {
     "slide_type": "fragment"
    }
   },
   "source": [
    "- 但，Cyc不能理解人在早上剃胡须的事情"
   ]
  },
  {
   "cell_type": "markdown",
   "id": "a0d4be02",
   "metadata": {
    "slideshow": {
     "slide_type": "fragment"
    }
   },
   "source": [
    "- 硬编码的失败表明计算机需要具备从原始数据中提取模式的能力（即自己获取知识的能力）"
   ]
  },
  {
   "cell_type": "markdown",
   "id": "89e8f5c1",
   "metadata": {
    "slideshow": {
     "slide_type": "slide"
    }
   },
   "source": [
    "- 机器学习（machine learning，ML）是一类强大的可以从经验中学习的技术。 通常采用观测数据或与环境交互的形式，机器学习算法会积累更多的经验，其性能也会逐步提高"
   ]
  },
  {
   "cell_type": "markdown",
   "id": "4e9817d7",
   "metadata": {
    "slideshow": {
     "slide_type": "fragment"
    }
   },
   "source": [
    "<center><img src=\"./img/1_introduction/wake-word.svg\" width=80%></center>"
   ]
  },
  {
   "cell_type": "markdown",
   "id": "24f79450",
   "metadata": {
    "slideshow": {
     "slide_type": "fragment"
    }
   },
   "source": [
    "- 机器学习算法性能取决于**对给定数据的表示**（representation)"
   ]
  },
  {
   "cell_type": "markdown",
   "id": "68e19c9d",
   "metadata": {
    "slideshow": {
     "slide_type": "fragment"
    }
   },
   "source": [
    "<center><img src=\"./img/1_introduction/cartesian2polar.png\" width=60%></center>"
   ]
  },
  {
   "cell_type": "markdown",
   "id": "cb6109cd",
   "metadata": {
    "slideshow": {
     "slide_type": "fragment"
    }
   },
   "source": [
    "- 在笛卡尔坐标系下很难区分的两类数，转换到极坐标下就很容易区分开来"
   ]
  },
  {
   "cell_type": "markdown",
   "id": "71294431",
   "metadata": {
    "slideshow": {
     "slide_type": "slide"
    }
   },
   "source": [
    "### 机器学习组件"
   ]
  },
  {
   "cell_type": "markdown",
   "id": "1016c6ed",
   "metadata": {
    "slideshow": {
     "slide_type": "fragment"
    }
   },
   "source": [
    "- 数据\n",
    "    - 特征（feature）\n",
    "    - 维度（dimension）：特征向量的长度\n",
    "    - 标签（label）"
   ]
  },
  {
   "cell_type": "markdown",
   "id": "1f66ef86",
   "metadata": {
    "slideshow": {
     "slide_type": "fragment"
    }
   },
   "source": [
    "- 模型"
   ]
  },
  {
   "cell_type": "markdown",
   "id": "7a52062f",
   "metadata": {
    "slideshow": {
     "slide_type": "fragment"
    }
   },
   "source": [
    "- 目标函数（objective function）：模型优劣程度的度量\n",
    "    - 可优化"
   ]
  },
  {
   "cell_type": "markdown",
   "id": "298f92de",
   "metadata": {
    "slideshow": {
     "slide_type": "fragment"
    }
   },
   "source": [
    "- 算法：搜索出最优的模型参数"
   ]
  },
  {
   "cell_type": "markdown",
   "id": "0a3c43af",
   "metadata": {
    "slideshow": {
     "slide_type": "slide"
    }
   },
   "source": [
    "### 表示学习"
   ]
  },
  {
   "cell_type": "markdown",
   "id": "a97bf1b8",
   "metadata": {
    "slideshow": {
     "slide_type": "fragment"
    }
   },
   "source": [
    "- 很多任务难以确定提取哪些特征\n",
    "    - 例如，识别照片中的汽车"
   ]
  },
  {
   "cell_type": "markdown",
   "id": "0789b936",
   "metadata": {
    "slideshow": {
     "slide_type": "fragment"
    }
   },
   "source": [
    "- 解决方式之一是用机器学习发掘表示，即**表示学习**（representation learning）"
   ]
  },
  {
   "cell_type": "markdown",
   "id": "0565bc1a",
   "metadata": {
    "slideshow": {
     "slide_type": "fragment"
    }
   },
   "source": [
    "- 设计特征或设计用于学习特征的算法，目标通常是识别出影响观察数据的因素"
   ]
  },
  {
   "cell_type": "markdown",
   "id": "bab18f2a",
   "metadata": {
    "slideshow": {
     "slide_type": "fragment"
    }
   },
   "source": [
    "- 但在实践中表示学习的困难在于，多个因素同时影响观察数据，因此，从数据中直接提取高层次、抽象的特征是非常困难的"
   ]
  },
  {
   "cell_type": "markdown",
   "id": "1259b13b",
   "metadata": {
    "slideshow": {
     "slide_type": "slide"
    }
   },
   "source": [
    "- 解决方案：**深度学习**（deep learning），用简单的表示来表达复杂的表示"
   ]
  },
  {
   "cell_type": "markdown",
   "id": "db682e68",
   "metadata": {
    "slideshow": {
     "slide_type": "fragment"
    }
   },
   "source": [
    "<center><img src=\"./img/1_introduction/deeplearningRepresentation.png\" width=60%></center>"
   ]
  },
  {
   "cell_type": "markdown",
   "id": "fbf1f6c5",
   "metadata": {
    "slideshow": {
     "slide_type": "fragment"
    }
   },
   "source": [
    "- 深度学习将复杂映射分解为一系列嵌套的简单映射，解决表示学习的难点"
   ]
  },
  {
   "cell_type": "markdown",
   "id": "750e6910",
   "metadata": {
    "slideshow": {
     "slide_type": "slide"
    }
   },
   "source": [
    "- 深度学习是通向人工智能的主要途径之一"
   ]
  },
  {
   "cell_type": "markdown",
   "id": "798d6b54",
   "metadata": {
    "slideshow": {
     "slide_type": "fragment"
    }
   },
   "source": [
    "<center><img src=\"./img/1_introduction/AIvenn.png\" width=50%></center>"
   ]
  },
  {
   "cell_type": "markdown",
   "id": "e8dff433",
   "metadata": {
    "slideshow": {
     "slide_type": "slide"
    }
   },
   "source": [
    "- 不同类型系统的组成"
   ]
  },
  {
   "cell_type": "markdown",
   "id": "64e4c3b8",
   "metadata": {
    "slideshow": {
     "slide_type": "fragment"
    }
   },
   "source": [
    "<center><img src=\"./img/1_introduction/components.jpg\" width=60%></center>"
   ]
  },
  {
   "cell_type": "markdown",
   "id": "8caf3bcc",
   "metadata": {
    "slideshow": {
     "slide_type": "slide"
    }
   },
   "source": [
    "## 深度学习的发展"
   ]
  },
  {
   "cell_type": "markdown",
   "id": "938bdf2e",
   "metadata": {
    "slideshow": {
     "slide_type": "fragment"
    }
   },
   "source": [
    "### 深度学习的三次浪潮"
   ]
  },
  {
   "cell_type": "markdown",
   "id": "76b20ebe",
   "metadata": {
    "slideshow": {
     "slide_type": "fragment"
    }
   },
   "source": [
    "<center><img src=\"./img/1_introduction/deeplearningWaves.png\" width=60%></center>"
   ]
  },
  {
   "cell_type": "markdown",
   "id": "b693bc8c",
   "metadata": {
    "slideshow": {
     "slide_type": "fragment"
    }
   },
   "source": [
    "- 第一次浪潮始于1940年代的兴起的控制论"
   ]
  },
  {
   "cell_type": "markdown",
   "id": "f2ba8a80",
   "metadata": {
    "slideshow": {
     "slide_type": "fragment"
    }
   },
   "source": [
    "- 第二次浪潮始于1980年代的联结主义和人工神经网络"
   ]
  },
  {
   "cell_type": "markdown",
   "id": "bdcfba9b",
   "metadata": {
    "slideshow": {
     "slide_type": "fragment"
    }
   },
   "source": [
    "- 联结主义：当网络将大量简单的计算单元连接在一起的时候可以实现智能行为"
   ]
  },
  {
   "cell_type": "markdown",
   "id": "79c7fa09",
   "metadata": {
    "slideshow": {
     "slide_type": "fragment"
    }
   },
   "source": [
    "- 反向传播算法\n",
    "- 序列建模方向的进展：长短期记忆模型（LSTM）"
   ]
  },
  {
   "cell_type": "markdown",
   "id": "66a10f99",
   "metadata": {
    "slideshow": {
     "slide_type": "slide"
    }
   },
   "source": [
    "- 第三次浪潮始于2006年"
   ]
  },
  {
   "cell_type": "markdown",
   "id": "44a0cbf2",
   "metadata": {
    "slideshow": {
     "slide_type": "fragment"
    }
   },
   "source": [
    "- 深度信念网络出现带来的突破"
   ]
  },
  {
   "cell_type": "markdown",
   "id": "344403cc",
   "metadata": {
    "slideshow": {
     "slide_type": "fragment"
    }
   },
   "source": [
    "- 深度学习模型开始展现优于其他机器学习技术和手工设计的AI系统"
   ]
  },
  {
   "cell_type": "markdown",
   "id": "f1f37a04",
   "metadata": {
    "slideshow": {
     "slide_type": "slide"
    }
   },
   "source": [
    "### 深度学习模型的演进"
   ]
  },
  {
   "cell_type": "markdown",
   "id": "c5ba16ee",
   "metadata": {
    "slideshow": {
     "slide_type": "fragment"
    }
   },
   "source": [
    "- 数据集vs计算机内存和计算能力\n",
    "\n",
    "| 年代 | 数据规模              | 内存   | 每秒浮点运算        |\n",
    "| :--- | :--- | :--- | :--- |\n",
    "| 1970 | 100 （鸢尾花卉）      | 1 KB   | 100 KF (Intel 8080) |\n",
    "| 1980 | 1 K （波士顿房价）    | 100 KB | 1 MF (Intel 80186)  |\n",
    "| 1990 | 10 K （光学字符识别） | 10 MB  | 10 MF (Intel 80486) |\n",
    "| 2000 | 10 M （网页）         | 100 MB | 1 GF (Intel Core)   |\n",
    "| 2010 | 10 G （广告）         | 1 GB   | 1 TF (Nvidia C2050) |\n",
    "| 2020 | 1 T （社交网络）      | 100 GB | 1 PF (Nvidia DGX-2) |\n",
    "\n",
    "- FLOPS（float operations per second）：每秒浮点运算次数\n",
    "    - KF：kilo FLOPS，每秒一千次\n",
    "    - MF：mega FLOPS，每秒一百万次\n",
    "    - GF：giga FLOPS，每秒十亿次\n",
    "    - TF：tera FLOPS，每秒一万亿次\n",
    "    - PF：peta FLOPS，每秒一百亿亿次"
   ]
  },
  {
   "cell_type": "markdown",
   "id": "3c4c4147",
   "metadata": {
    "slideshow": {
     "slide_type": "slide"
    }
   },
   "source": [
    "- ImageNet竞赛\n",
    "    - [https://www.image-net.org/challenges/LSVRC/](https://www.image-net.org/challenges/LSVRC/)"
   ]
  },
  {
   "cell_type": "markdown",
   "id": "d5b09a8c",
   "metadata": {
    "slideshow": {
     "slide_type": "fragment"
    }
   },
   "source": [
    "<center><img src=\"./img/1_introduction/imagenet.png\" width=60%></center>"
   ]
  },
  {
   "cell_type": "markdown",
   "id": "edf37a9c",
   "metadata": {
    "slideshow": {
     "slide_type": "slide"
    }
   },
   "source": [
    "### 深度学习的应用领域"
   ]
  },
  {
   "cell_type": "markdown",
   "id": "6918c2d1",
   "metadata": {
    "slideshow": {
     "slide_type": "fragment"
    }
   },
   "source": [
    "- 智能助理\n",
    "- 翻译\n",
    "- 图像识别\n",
    "- 自动驾驶\n",
    "- 游戏"
   ]
  },
  {
   "cell_type": "markdown",
   "id": "01561692",
   "metadata": {
    "slideshow": {
     "slide_type": "fragment"
    }
   },
   "source": [
    "[https://d1m75rqqgidzqn.cloudfront.net/wp-data/2021/03/15175845/April-28-deep-learning-applications-infograph.png](https://d1m75rqqgidzqn.cloudfront.net/wp-data/2021/03/15175845/April-28-deep-learning-applications-infograph.png)"
   ]
  },
  {
   "cell_type": "markdown",
   "id": "934ef1a0",
   "metadata": {
    "slideshow": {
     "slide_type": "slide"
    }
   },
   "source": [
    "## 课程与教材"
   ]
  },
  {
   "cell_type": "markdown",
   "id": "933b33f8",
   "metadata": {
    "slideshow": {
     "slide_type": "fragment"
    }
   },
   "source": [
    "- 教材：《动手学深度学习》\n",
    "    - [https://zh-v2.d2l.ai/](https://zh-v2.d2l.ai/)"
   ]
  },
  {
   "cell_type": "markdown",
   "id": "9d222e4e",
   "metadata": {
    "slideshow": {
     "slide_type": "fragment"
    }
   },
   "source": [
    "- 考核：\n",
    "    - 作业（20\\%）\n",
    "    - 实验（？）\n",
    "    - 考试（？）"
   ]
  }
 ],
 "metadata": {
  "celltoolbar": "幻灯片",
  "kernelspec": {
   "display_name": "Python 3",
   "language": "python",
   "name": "python3"
  },
  "language_info": {
   "codemirror_mode": {
    "name": "ipython",
    "version": 3
   },
   "file_extension": ".py",
   "mimetype": "text/x-python",
   "name": "python",
   "nbconvert_exporter": "python",
   "pygments_lexer": "ipython3",
   "version": "3.9.13"
  },
  "latex_envs": {
   "LaTeX_envs_menu_present": true,
   "autoclose": true,
   "autocomplete": true,
   "bibliofile": "biblio.bib",
   "cite_by": "apalike",
   "current_citInitial": 1,
   "eqLabelWithNumbers": true,
   "eqNumInitial": 1,
   "hotkeys": {
    "equation": "Ctrl-E",
    "itemize": "Ctrl-I"
   },
   "labels_anchors": false,
   "latex_user_defs": false,
   "report_style_numbering": false,
   "user_envs_cfg": false
  },
  "toc": {
   "base_numbering": 1,
   "nav_menu": {},
   "number_sections": true,
   "sideBar": true,
   "skip_h1_title": false,
   "title_cell": "Table of Contents",
   "title_sidebar": "Contents",
   "toc_cell": false,
   "toc_position": {},
   "toc_section_display": true,
   "toc_window_display": false
  }
 },
 "nbformat": 4,
 "nbformat_minor": 5
}
